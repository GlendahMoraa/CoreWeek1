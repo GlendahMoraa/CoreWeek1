{
  "nbformat": 4,
  "nbformat_minor": 2,
  "metadata": {
    "colab": {
      "name": "Univariate Analysis - Exploratory Data Analysis (Exercise 1)",
      "provenance": [],
      "collapsed_sections": [
        "kLG2VTrnTvYL",
        "XecOwPNorl2W",
        "J4wfHZwQrs-t",
        "a9BPYqunry97",
        "7KMRBJ7zr9HD",
        "zSGyg6kWsBUl",
        "iUNbvIvnT7ep",
        "OI3P3YnHUEBk",
        "ckfufNrcUHeH",
        "6XC_g-zKxe-r",
        "FlBMxEDBUc9B",
        "rF2ABPsHUtbZ",
        "vTbdjSrhVIiT",
        "lQ2G4ZPDVOXE",
        "xrmHVMVsVS--",
        "HPQviDmNtta8",
        "qjFHK1CKty7o",
        "HSsicSdvt4Zs"
      ],
      "toc_visible": true
    },
    "kernelspec": {
      "name": "python3",
      "display_name": "Python 3.9.5 64-bit"
    },
    "language_info": {
      "name": "python",
      "version": "3.9.5",
      "mimetype": "text/x-python",
      "codemirror_mode": {
        "name": "ipython",
        "version": 3
      },
      "pygments_lexer": "ipython3",
      "nbconvert_exporter": "python",
      "file_extension": ".py"
    },
    "interpreter": {
      "hash": "247ab06e135bb35fa78c5eff31b2a9a0050dcb5fb773c2631d2a29ac689eeccb"
    }
  },
  "cells": [
    {
      "cell_type": "markdown",
      "source": [
        "# Exploratory Data Analysis: Univariate Analysis"
      ],
      "metadata": {
        "id": "xMxtPsqcTsSH"
      }
    },
    {
      "cell_type": "markdown",
      "source": [
        "## 1. Defining the Question"
      ],
      "metadata": {
        "id": "kLG2VTrnTvYL"
      }
    },
    {
      "cell_type": "markdown",
      "source": [
        "### a) Specifying the Question"
      ],
      "metadata": {
        "id": "XecOwPNorl2W"
      }
    },
    {
      "cell_type": "markdown",
      "source": [
        "> How can a US insurance company determine the top 10 cities where its clients have the highest annual income for persons aged 40 and below? "
      ],
      "metadata": {
        "id": "8l3-hBO6bODP"
      }
    },
    {
      "cell_type": "markdown",
      "source": [
        "### b) Defining the Metric for Success"
      ],
      "metadata": {
        "id": "J4wfHZwQrs-t"
      }
    },
    {
      "cell_type": "markdown",
      "source": [
        "### c) Understanding the context "
      ],
      "metadata": {
        "id": "a9BPYqunry97"
      }
    },
    {
      "cell_type": "markdown",
      "source": [
        "### d) Recording the Experimental Design"
      ],
      "metadata": {
        "id": "7KMRBJ7zr9HD"
      }
    },
    {
      "cell_type": "markdown",
      "source": [
        "### e) Data Relevance"
      ],
      "metadata": {
        "id": "zSGyg6kWsBUl"
      }
    },
    {
      "cell_type": "markdown",
      "source": [
        "## 2. Reading the Data"
      ],
      "metadata": {
        "id": "iUNbvIvnT7ep"
      }
    },
    {
      "cell_type": "code",
      "execution_count": 10,
      "source": [
        "# Loading the Data from the source i.e. csv\r\n",
        "# Dataset url = http://bit.ly/MedicalCitiesIncomeDataset\r\n",
        "#\r\n",
        "\r\n",
        "import pandas as pd\r\n",
        "import numpy as np\r\n",
        "import seaborn as sns\r\n",
        "import matplotlib\r\n",
        "from matplotlib import pyplot as plt\r\n",
        "\r\n",
        "\r\n",
        "dataset = pd.read_csv(\"http://bit.ly/MedicalCitiesIncomeDataset\")\r\n",
        "dataset.head(5)"
      ],
      "outputs": [
        {
          "output_type": "execute_result",
          "data": {
            "text/html": [
              "<div>\n",
              "<style scoped>\n",
              "    .dataframe tbody tr th:only-of-type {\n",
              "        vertical-align: middle;\n",
              "    }\n",
              "\n",
              "    .dataframe tbody tr th {\n",
              "        vertical-align: top;\n",
              "    }\n",
              "\n",
              "    .dataframe thead th {\n",
              "        text-align: right;\n",
              "    }\n",
              "</style>\n",
              "<table border=\"1\" class=\"dataframe\">\n",
              "  <thead>\n",
              "    <tr style=\"text-align: right;\">\n",
              "      <th></th>\n",
              "      <th>Number</th>\n",
              "      <th>City</th>\n",
              "      <th>Gender</th>\n",
              "      <th>Age</th>\n",
              "      <th>Income</th>\n",
              "      <th>Illness</th>\n",
              "    </tr>\n",
              "  </thead>\n",
              "  <tbody>\n",
              "    <tr>\n",
              "      <th>0</th>\n",
              "      <td>1</td>\n",
              "      <td>Dallas</td>\n",
              "      <td>Male</td>\n",
              "      <td>41</td>\n",
              "      <td>40367.0</td>\n",
              "      <td>No</td>\n",
              "    </tr>\n",
              "    <tr>\n",
              "      <th>1</th>\n",
              "      <td>2</td>\n",
              "      <td>Dallas</td>\n",
              "      <td>Male</td>\n",
              "      <td>54</td>\n",
              "      <td>45084.0</td>\n",
              "      <td>No</td>\n",
              "    </tr>\n",
              "    <tr>\n",
              "      <th>2</th>\n",
              "      <td>3</td>\n",
              "      <td>Dallas</td>\n",
              "      <td>Male</td>\n",
              "      <td>42</td>\n",
              "      <td>52483.0</td>\n",
              "      <td>No</td>\n",
              "    </tr>\n",
              "    <tr>\n",
              "      <th>3</th>\n",
              "      <td>4</td>\n",
              "      <td>Dallas</td>\n",
              "      <td>Male</td>\n",
              "      <td>40</td>\n",
              "      <td>40941.0</td>\n",
              "      <td>No</td>\n",
              "    </tr>\n",
              "    <tr>\n",
              "      <th>4</th>\n",
              "      <td>5</td>\n",
              "      <td>Dallas</td>\n",
              "      <td>Male</td>\n",
              "      <td>46</td>\n",
              "      <td>50289.0</td>\n",
              "      <td>No</td>\n",
              "    </tr>\n",
              "  </tbody>\n",
              "</table>\n",
              "</div>"
            ],
            "text/plain": [
              "   Number    City Gender  Age   Income Illness\n",
              "0       1  Dallas   Male   41  40367.0      No\n",
              "1       2  Dallas   Male   54  45084.0      No\n",
              "2       3  Dallas   Male   42  52483.0      No\n",
              "3       4  Dallas   Male   40  40941.0      No\n",
              "4       5  Dallas   Male   46  50289.0      No"
            ]
          },
          "metadata": {},
          "execution_count": 10
        }
      ],
      "metadata": {
        "id": "XJn2KjW-WMlG"
      }
    },
    {
      "cell_type": "markdown",
      "source": [
        "## 3. Checking the Data"
      ],
      "metadata": {
        "id": "OI3P3YnHUEBk"
      }
    },
    {
      "cell_type": "code",
      "execution_count": 7,
      "source": [
        "# Determining the no. of records in our dataset\r\n",
        "#\r\n",
        "#procedure 1\r\n",
        "\r\n",
        "len(dataset.index)\r\n",
        "\r\n",
        "#procedure 2 \r\n",
        "\r\n",
        "dataset.shape[0]\r\n",
        "\r\n",
        "#procedure 3\r\n",
        "\r\n",
        "dataset[dataset.columns[0]].count()"
      ],
      "outputs": [
        {
          "output_type": "execute_result",
          "data": {
            "text/plain": [
              "150000"
            ]
          },
          "metadata": {},
          "execution_count": 7
        }
      ],
      "metadata": {
        "id": "YjSVNwgptHxY"
      }
    },
    {
      "cell_type": "code",
      "execution_count": 8,
      "source": [
        "# Previewing the top of our dataset\r\n",
        "#\r\n",
        "\r\n",
        "dataset.head(5)"
      ],
      "outputs": [
        {
          "output_type": "execute_result",
          "data": {
            "text/html": [
              "<div>\n",
              "<style scoped>\n",
              "    .dataframe tbody tr th:only-of-type {\n",
              "        vertical-align: middle;\n",
              "    }\n",
              "\n",
              "    .dataframe tbody tr th {\n",
              "        vertical-align: top;\n",
              "    }\n",
              "\n",
              "    .dataframe thead th {\n",
              "        text-align: right;\n",
              "    }\n",
              "</style>\n",
              "<table border=\"1\" class=\"dataframe\">\n",
              "  <thead>\n",
              "    <tr style=\"text-align: right;\">\n",
              "      <th></th>\n",
              "      <th>Number</th>\n",
              "      <th>City</th>\n",
              "      <th>Gender</th>\n",
              "      <th>Age</th>\n",
              "      <th>Income</th>\n",
              "      <th>Illness</th>\n",
              "    </tr>\n",
              "  </thead>\n",
              "  <tbody>\n",
              "    <tr>\n",
              "      <th>0</th>\n",
              "      <td>1</td>\n",
              "      <td>Dallas</td>\n",
              "      <td>Male</td>\n",
              "      <td>41</td>\n",
              "      <td>40367.0</td>\n",
              "      <td>No</td>\n",
              "    </tr>\n",
              "    <tr>\n",
              "      <th>1</th>\n",
              "      <td>2</td>\n",
              "      <td>Dallas</td>\n",
              "      <td>Male</td>\n",
              "      <td>54</td>\n",
              "      <td>45084.0</td>\n",
              "      <td>No</td>\n",
              "    </tr>\n",
              "    <tr>\n",
              "      <th>2</th>\n",
              "      <td>3</td>\n",
              "      <td>Dallas</td>\n",
              "      <td>Male</td>\n",
              "      <td>42</td>\n",
              "      <td>52483.0</td>\n",
              "      <td>No</td>\n",
              "    </tr>\n",
              "    <tr>\n",
              "      <th>3</th>\n",
              "      <td>4</td>\n",
              "      <td>Dallas</td>\n",
              "      <td>Male</td>\n",
              "      <td>40</td>\n",
              "      <td>40941.0</td>\n",
              "      <td>No</td>\n",
              "    </tr>\n",
              "    <tr>\n",
              "      <th>4</th>\n",
              "      <td>5</td>\n",
              "      <td>Dallas</td>\n",
              "      <td>Male</td>\n",
              "      <td>46</td>\n",
              "      <td>50289.0</td>\n",
              "      <td>No</td>\n",
              "    </tr>\n",
              "  </tbody>\n",
              "</table>\n",
              "</div>"
            ],
            "text/plain": [
              "   Number    City Gender  Age   Income Illness\n",
              "0       1  Dallas   Male   41  40367.0      No\n",
              "1       2  Dallas   Male   54  45084.0      No\n",
              "2       3  Dallas   Male   42  52483.0      No\n",
              "3       4  Dallas   Male   40  40941.0      No\n",
              "4       5  Dallas   Male   46  50289.0      No"
            ]
          },
          "metadata": {},
          "execution_count": 8
        }
      ],
      "metadata": {
        "id": "xHhTw5eKWr0n"
      }
    },
    {
      "cell_type": "code",
      "execution_count": 9,
      "source": [
        "# Previewing the bottom of our dataset\r\n",
        "# \r\n",
        "\r\n",
        "dataset.tail(5)"
      ],
      "outputs": [
        {
          "output_type": "execute_result",
          "data": {
            "text/html": [
              "<div>\n",
              "<style scoped>\n",
              "    .dataframe tbody tr th:only-of-type {\n",
              "        vertical-align: middle;\n",
              "    }\n",
              "\n",
              "    .dataframe tbody tr th {\n",
              "        vertical-align: top;\n",
              "    }\n",
              "\n",
              "    .dataframe thead th {\n",
              "        text-align: right;\n",
              "    }\n",
              "</style>\n",
              "<table border=\"1\" class=\"dataframe\">\n",
              "  <thead>\n",
              "    <tr style=\"text-align: right;\">\n",
              "      <th></th>\n",
              "      <th>Number</th>\n",
              "      <th>City</th>\n",
              "      <th>Gender</th>\n",
              "      <th>Age</th>\n",
              "      <th>Income</th>\n",
              "      <th>Illness</th>\n",
              "    </tr>\n",
              "  </thead>\n",
              "  <tbody>\n",
              "    <tr>\n",
              "      <th>149995</th>\n",
              "      <td>149996</td>\n",
              "      <td>Austin</td>\n",
              "      <td>Male</td>\n",
              "      <td>48</td>\n",
              "      <td>93669.0</td>\n",
              "      <td>No</td>\n",
              "    </tr>\n",
              "    <tr>\n",
              "      <th>149996</th>\n",
              "      <td>149997</td>\n",
              "      <td>Austin</td>\n",
              "      <td>Male</td>\n",
              "      <td>25</td>\n",
              "      <td>96748.0</td>\n",
              "      <td>No</td>\n",
              "    </tr>\n",
              "    <tr>\n",
              "      <th>149997</th>\n",
              "      <td>149998</td>\n",
              "      <td>Austin</td>\n",
              "      <td>Male</td>\n",
              "      <td>26</td>\n",
              "      <td>111885.0</td>\n",
              "      <td>No</td>\n",
              "    </tr>\n",
              "    <tr>\n",
              "      <th>149998</th>\n",
              "      <td>149999</td>\n",
              "      <td>Austin</td>\n",
              "      <td>Male</td>\n",
              "      <td>25</td>\n",
              "      <td>111878.0</td>\n",
              "      <td>No</td>\n",
              "    </tr>\n",
              "    <tr>\n",
              "      <th>149999</th>\n",
              "      <td>150000</td>\n",
              "      <td>Austin</td>\n",
              "      <td>Female</td>\n",
              "      <td>37</td>\n",
              "      <td>87251.0</td>\n",
              "      <td>No</td>\n",
              "    </tr>\n",
              "  </tbody>\n",
              "</table>\n",
              "</div>"
            ],
            "text/plain": [
              "        Number    City  Gender  Age    Income Illness\n",
              "149995  149996  Austin    Male   48   93669.0      No\n",
              "149996  149997  Austin    Male   25   96748.0      No\n",
              "149997  149998  Austin    Male   26  111885.0      No\n",
              "149998  149999  Austin    Male   25  111878.0      No\n",
              "149999  150000  Austin  Female   37   87251.0      No"
            ]
          },
          "metadata": {},
          "execution_count": 9
        }
      ],
      "metadata": {
        "id": "e9AzGcZFrIIr"
      }
    },
    {
      "cell_type": "code",
      "execution_count": 11,
      "source": [
        "# Checking whether each column has an appropriate datatype\r\n",
        "#\r\n",
        "\r\n",
        "dataset.info()"
      ],
      "outputs": [
        {
          "output_type": "stream",
          "name": "stdout",
          "text": [
            "<class 'pandas.core.frame.DataFrame'>\n",
            "RangeIndex: 150000 entries, 0 to 149999\n",
            "Data columns (total 6 columns):\n",
            " #   Column   Non-Null Count   Dtype  \n",
            "---  ------   --------------   -----  \n",
            " 0   Number   150000 non-null  int64  \n",
            " 1   City     150000 non-null  object \n",
            " 2   Gender   150000 non-null  object \n",
            " 3   Age      150000 non-null  int64  \n",
            " 4   Income   150000 non-null  float64\n",
            " 5   Illness  150000 non-null  object \n",
            "dtypes: float64(1), int64(2), object(3)\n",
            "memory usage: 6.9+ MB\n"
          ]
        }
      ],
      "metadata": {
        "id": "n8-dW4sQWzbc"
      }
    },
    {
      "cell_type": "markdown",
      "source": [
        "## 4. External Data Source Validation"
      ],
      "metadata": {
        "id": "ckfufNrcUHeH"
      }
    },
    {
      "cell_type": "markdown",
      "source": [
        "Making sure your data matches something outside of the dataset is very important. It allows you to ensure that the measurements are roughly in line with what they should be and it serves as a check on what other things might be wrong in your dataset. External validation can often be as simple as checking your data against a single number, as we will do here.\n",
        "\n",
        "An example would be suppose that you're working with a dataset on the population of countries during the year 2016. Validating such information with an external reliable resource such as World Bank Data would be important step to providing credibility to your dataset. Have a look at the following link for an example. [Link](https://rstudio-pubs-static.s3.amazonaws.com/182250_19977d0c5c06403fbad1e653850fc7c6.html)."
      ],
      "metadata": {
        "id": "6L4sl_0WXlbg"
      }
    },
    {
      "cell_type": "markdown",
      "source": [
        "### a.Validation"
      ],
      "metadata": {
        "id": "6XC_g-zKxe-r"
      }
    },
    {
      "cell_type": "markdown",
      "source": [
        "## 5. Tidying the Dataset"
      ],
      "metadata": {
        "id": "FlBMxEDBUc9B"
      }
    },
    {
      "cell_type": "code",
      "execution_count": 62,
      "source": [
        "# Checking for Outliers\r\n",
        "#\r\n",
        "\r\n",
        "col_names = ['Age', 'Income']\r\n",
        "\r\n",
        "fig, ax = plt.subplots(len(col_names), figsize=(4,10))\r\n",
        "\r\n",
        "for i, col_val in enumerate(col_names):\r\n",
        "\r\n",
        "    sns.boxplot(y=dataset[col_val], ax=ax[i])\r\n",
        "    ax[i].set_title('Box plot - ' + str(col_val), fontsize=10)\r\n",
        "    ax[i].set_xlabel(col_val, fontsize=8)\r\n",
        "\r\n",
        "plt.show()\r\n"
      ],
      "outputs": [
        {
          "output_type": "display_data",
          "data": {
            "image/png": "[encoded data removed]",
            "text/plain": [
              "<Figure size 288x720 with 2 Axes>"
            ]
          },
          "metadata": {
            "needs_background": "light"
          }
        }
      ],
      "metadata": {
        "id": "5o_bQcT5W3Wz"
      }
    },
    {
      "cell_type": "code",
      "execution_count": 40,
      "source": [
        "# removing outliers\r\n",
        "\r\n",
        "\r\n",
        "\r\n",
        "age_upper = dataset['Age'].mean() + 3*dataset['Age'].std()\r\n",
        "age_lower = dataset['Age'].mean() - 3*dataset['Age'].std()\r\n",
        "\r\n",
        "df = dataset[(dataset['Age']< age_upper) & (dataset['Age']> age_lower)]\r\n",
        "df\r\n",
        "# new_df= df[(df.Weight<upper) & (df.Weight>lower)]"
      ],
      "outputs": [
        {
          "output_type": "execute_result",
          "data": {
            "text/html": [
              "<div>\n",
              "<style scoped>\n",
              "    .dataframe tbody tr th:only-of-type {\n",
              "        vertical-align: middle;\n",
              "    }\n",
              "\n",
              "    .dataframe tbody tr th {\n",
              "        vertical-align: top;\n",
              "    }\n",
              "\n",
              "    .dataframe thead th {\n",
              "        text-align: right;\n",
              "    }\n",
              "</style>\n",
              "<table border=\"1\" class=\"dataframe\">\n",
              "  <thead>\n",
              "    <tr style=\"text-align: right;\">\n",
              "      <th></th>\n",
              "      <th>Number</th>\n",
              "      <th>City</th>\n",
              "      <th>Gender</th>\n",
              "      <th>Age</th>\n",
              "      <th>Income</th>\n",
              "      <th>Illness</th>\n",
              "    </tr>\n",
              "  </thead>\n",
              "  <tbody>\n",
              "    <tr>\n",
              "      <th>0</th>\n",
              "      <td>1</td>\n",
              "      <td>Dallas</td>\n",
              "      <td>Male</td>\n",
              "      <td>41</td>\n",
              "      <td>40367.0</td>\n",
              "      <td>No</td>\n",
              "    </tr>\n",
              "    <tr>\n",
              "      <th>1</th>\n",
              "      <td>2</td>\n",
              "      <td>Dallas</td>\n",
              "      <td>Male</td>\n",
              "      <td>54</td>\n",
              "      <td>45084.0</td>\n",
              "      <td>No</td>\n",
              "    </tr>\n",
              "    <tr>\n",
              "      <th>2</th>\n",
              "      <td>3</td>\n",
              "      <td>Dallas</td>\n",
              "      <td>Male</td>\n",
              "      <td>42</td>\n",
              "      <td>52483.0</td>\n",
              "      <td>No</td>\n",
              "    </tr>\n",
              "    <tr>\n",
              "      <th>3</th>\n",
              "      <td>4</td>\n",
              "      <td>Dallas</td>\n",
              "      <td>Male</td>\n",
              "      <td>40</td>\n",
              "      <td>40941.0</td>\n",
              "      <td>No</td>\n",
              "    </tr>\n",
              "    <tr>\n",
              "      <th>4</th>\n",
              "      <td>5</td>\n",
              "      <td>Dallas</td>\n",
              "      <td>Male</td>\n",
              "      <td>46</td>\n",
              "      <td>50289.0</td>\n",
              "      <td>No</td>\n",
              "    </tr>\n",
              "    <tr>\n",
              "      <th>...</th>\n",
              "      <td>...</td>\n",
              "      <td>...</td>\n",
              "      <td>...</td>\n",
              "      <td>...</td>\n",
              "      <td>...</td>\n",
              "      <td>...</td>\n",
              "    </tr>\n",
              "    <tr>\n",
              "      <th>149995</th>\n",
              "      <td>149996</td>\n",
              "      <td>Austin</td>\n",
              "      <td>Male</td>\n",
              "      <td>48</td>\n",
              "      <td>93669.0</td>\n",
              "      <td>No</td>\n",
              "    </tr>\n",
              "    <tr>\n",
              "      <th>149996</th>\n",
              "      <td>149997</td>\n",
              "      <td>Austin</td>\n",
              "      <td>Male</td>\n",
              "      <td>25</td>\n",
              "      <td>96748.0</td>\n",
              "      <td>No</td>\n",
              "    </tr>\n",
              "    <tr>\n",
              "      <th>149997</th>\n",
              "      <td>149998</td>\n",
              "      <td>Austin</td>\n",
              "      <td>Male</td>\n",
              "      <td>26</td>\n",
              "      <td>111885.0</td>\n",
              "      <td>No</td>\n",
              "    </tr>\n",
              "    <tr>\n",
              "      <th>149998</th>\n",
              "      <td>149999</td>\n",
              "      <td>Austin</td>\n",
              "      <td>Male</td>\n",
              "      <td>25</td>\n",
              "      <td>111878.0</td>\n",
              "      <td>No</td>\n",
              "    </tr>\n",
              "    <tr>\n",
              "      <th>149999</th>\n",
              "      <td>150000</td>\n",
              "      <td>Austin</td>\n",
              "      <td>Female</td>\n",
              "      <td>37</td>\n",
              "      <td>87251.0</td>\n",
              "      <td>No</td>\n",
              "    </tr>\n",
              "  </tbody>\n",
              "</table>\n",
              "<p>150000 rows × 6 columns</p>\n",
              "</div>"
            ],
            "text/plain": [
              "        Number    City  Gender  Age    Income Illness\n",
              "0            1  Dallas    Male   41   40367.0      No\n",
              "1            2  Dallas    Male   54   45084.0      No\n",
              "2            3  Dallas    Male   42   52483.0      No\n",
              "3            4  Dallas    Male   40   40941.0      No\n",
              "4            5  Dallas    Male   46   50289.0      No\n",
              "...        ...     ...     ...  ...       ...     ...\n",
              "149995  149996  Austin    Male   48   93669.0      No\n",
              "149996  149997  Austin    Male   25   96748.0      No\n",
              "149997  149998  Austin    Male   26  111885.0      No\n",
              "149998  149999  Austin    Male   25  111878.0      No\n",
              "149999  150000  Austin  Female   37   87251.0      No\n",
              "\n",
              "[150000 rows x 6 columns]"
            ]
          },
          "metadata": {},
          "execution_count": 40
        }
      ],
      "metadata": {}
    },
    {
      "cell_type": "code",
      "execution_count": 42,
      "source": [
        "# removing outliers in all columns\r\n",
        "def remove(data, col):\r\n",
        "    col_upper = data[col].mean() + 3*data[col].std()\r\n",
        "    col_lower = data[col].mean() - 3*data[col].std()\r\n",
        "    df = data[(data[col]< col_upper) & (data[col]> col_lower)]\r\n",
        "    return df \r\n",
        "\r\n",
        "# remove(dataset, 'Income')\r\n",
        "\r\n",
        "clmns = ['Age', 'Income']\r\n",
        "\r\n",
        "for c in clmns:\r\n",
        "\r\n",
        "    new = remove(dataset, c)\r\n",
        "    \r\n",
        "new"
      ],
      "outputs": [
        {
          "output_type": "execute_result",
          "data": {
            "text/html": [
              "<div>\n",
              "<style scoped>\n",
              "    .dataframe tbody tr th:only-of-type {\n",
              "        vertical-align: middle;\n",
              "    }\n",
              "\n",
              "    .dataframe tbody tr th {\n",
              "        vertical-align: top;\n",
              "    }\n",
              "\n",
              "    .dataframe thead th {\n",
              "        text-align: right;\n",
              "    }\n",
              "</style>\n",
              "<table border=\"1\" class=\"dataframe\">\n",
              "  <thead>\n",
              "    <tr style=\"text-align: right;\">\n",
              "      <th></th>\n",
              "      <th>Number</th>\n",
              "      <th>City</th>\n",
              "      <th>Gender</th>\n",
              "      <th>Age</th>\n",
              "      <th>Income</th>\n",
              "      <th>Illness</th>\n",
              "    </tr>\n",
              "  </thead>\n",
              "  <tbody>\n",
              "    <tr>\n",
              "      <th>0</th>\n",
              "      <td>1</td>\n",
              "      <td>Dallas</td>\n",
              "      <td>Male</td>\n",
              "      <td>41</td>\n",
              "      <td>40367.0</td>\n",
              "      <td>No</td>\n",
              "    </tr>\n",
              "    <tr>\n",
              "      <th>1</th>\n",
              "      <td>2</td>\n",
              "      <td>Dallas</td>\n",
              "      <td>Male</td>\n",
              "      <td>54</td>\n",
              "      <td>45084.0</td>\n",
              "      <td>No</td>\n",
              "    </tr>\n",
              "    <tr>\n",
              "      <th>2</th>\n",
              "      <td>3</td>\n",
              "      <td>Dallas</td>\n",
              "      <td>Male</td>\n",
              "      <td>42</td>\n",
              "      <td>52483.0</td>\n",
              "      <td>No</td>\n",
              "    </tr>\n",
              "    <tr>\n",
              "      <th>3</th>\n",
              "      <td>4</td>\n",
              "      <td>Dallas</td>\n",
              "      <td>Male</td>\n",
              "      <td>40</td>\n",
              "      <td>40941.0</td>\n",
              "      <td>No</td>\n",
              "    </tr>\n",
              "    <tr>\n",
              "      <th>4</th>\n",
              "      <td>5</td>\n",
              "      <td>Dallas</td>\n",
              "      <td>Male</td>\n",
              "      <td>46</td>\n",
              "      <td>50289.0</td>\n",
              "      <td>No</td>\n",
              "    </tr>\n",
              "    <tr>\n",
              "      <th>...</th>\n",
              "      <td>...</td>\n",
              "      <td>...</td>\n",
              "      <td>...</td>\n",
              "      <td>...</td>\n",
              "      <td>...</td>\n",
              "      <td>...</td>\n",
              "    </tr>\n",
              "    <tr>\n",
              "      <th>149995</th>\n",
              "      <td>149996</td>\n",
              "      <td>Austin</td>\n",
              "      <td>Male</td>\n",
              "      <td>48</td>\n",
              "      <td>93669.0</td>\n",
              "      <td>No</td>\n",
              "    </tr>\n",
              "    <tr>\n",
              "      <th>149996</th>\n",
              "      <td>149997</td>\n",
              "      <td>Austin</td>\n",
              "      <td>Male</td>\n",
              "      <td>25</td>\n",
              "      <td>96748.0</td>\n",
              "      <td>No</td>\n",
              "    </tr>\n",
              "    <tr>\n",
              "      <th>149997</th>\n",
              "      <td>149998</td>\n",
              "      <td>Austin</td>\n",
              "      <td>Male</td>\n",
              "      <td>26</td>\n",
              "      <td>111885.0</td>\n",
              "      <td>No</td>\n",
              "    </tr>\n",
              "    <tr>\n",
              "      <th>149998</th>\n",
              "      <td>149999</td>\n",
              "      <td>Austin</td>\n",
              "      <td>Male</td>\n",
              "      <td>25</td>\n",
              "      <td>111878.0</td>\n",
              "      <td>No</td>\n",
              "    </tr>\n",
              "    <tr>\n",
              "      <th>149999</th>\n",
              "      <td>150000</td>\n",
              "      <td>Austin</td>\n",
              "      <td>Female</td>\n",
              "      <td>37</td>\n",
              "      <td>87251.0</td>\n",
              "      <td>No</td>\n",
              "    </tr>\n",
              "  </tbody>\n",
              "</table>\n",
              "<p>149854 rows × 6 columns</p>\n",
              "</div>"
            ],
            "text/plain": [
              "        Number    City  Gender  Age    Income Illness\n",
              "0            1  Dallas    Male   41   40367.0      No\n",
              "1            2  Dallas    Male   54   45084.0      No\n",
              "2            3  Dallas    Male   42   52483.0      No\n",
              "3            4  Dallas    Male   40   40941.0      No\n",
              "4            5  Dallas    Male   46   50289.0      No\n",
              "...        ...     ...     ...  ...       ...     ...\n",
              "149995  149996  Austin    Male   48   93669.0      No\n",
              "149996  149997  Austin    Male   25   96748.0      No\n",
              "149997  149998  Austin    Male   26  111885.0      No\n",
              "149998  149999  Austin    Male   25  111878.0      No\n",
              "149999  150000  Austin  Female   37   87251.0      No\n",
              "\n",
              "[149854 rows x 6 columns]"
            ]
          },
          "metadata": {},
          "execution_count": 42
        }
      ],
      "metadata": {}
    },
    {
      "cell_type": "code",
      "execution_count": 43,
      "source": [
        "# Checking for Anomalies\r\n",
        "#\r\n",
        "clmns = ['Age', 'Income']\r\n",
        "\r\n",
        "for c in clmns:\r\n",
        "\r\n",
        "    new = remove(dataset, c)\r\n",
        "    \r\n",
        "new"
      ],
      "outputs": [
        {
          "output_type": "execute_result",
          "data": {
            "text/html": [
              "<div>\n",
              "<style scoped>\n",
              "    .dataframe tbody tr th:only-of-type {\n",
              "        vertical-align: middle;\n",
              "    }\n",
              "\n",
              "    .dataframe tbody tr th {\n",
              "        vertical-align: top;\n",
              "    }\n",
              "\n",
              "    .dataframe thead th {\n",
              "        text-align: right;\n",
              "    }\n",
              "</style>\n",
              "<table border=\"1\" class=\"dataframe\">\n",
              "  <thead>\n",
              "    <tr style=\"text-align: right;\">\n",
              "      <th></th>\n",
              "      <th>Number</th>\n",
              "      <th>City</th>\n",
              "      <th>Gender</th>\n",
              "      <th>Age</th>\n",
              "      <th>Income</th>\n",
              "      <th>Illness</th>\n",
              "    </tr>\n",
              "  </thead>\n",
              "  <tbody>\n",
              "    <tr>\n",
              "      <th>0</th>\n",
              "      <td>1</td>\n",
              "      <td>Dallas</td>\n",
              "      <td>Male</td>\n",
              "      <td>41</td>\n",
              "      <td>40367.0</td>\n",
              "      <td>No</td>\n",
              "    </tr>\n",
              "    <tr>\n",
              "      <th>1</th>\n",
              "      <td>2</td>\n",
              "      <td>Dallas</td>\n",
              "      <td>Male</td>\n",
              "      <td>54</td>\n",
              "      <td>45084.0</td>\n",
              "      <td>No</td>\n",
              "    </tr>\n",
              "    <tr>\n",
              "      <th>2</th>\n",
              "      <td>3</td>\n",
              "      <td>Dallas</td>\n",
              "      <td>Male</td>\n",
              "      <td>42</td>\n",
              "      <td>52483.0</td>\n",
              "      <td>No</td>\n",
              "    </tr>\n",
              "    <tr>\n",
              "      <th>3</th>\n",
              "      <td>4</td>\n",
              "      <td>Dallas</td>\n",
              "      <td>Male</td>\n",
              "      <td>40</td>\n",
              "      <td>40941.0</td>\n",
              "      <td>No</td>\n",
              "    </tr>\n",
              "    <tr>\n",
              "      <th>4</th>\n",
              "      <td>5</td>\n",
              "      <td>Dallas</td>\n",
              "      <td>Male</td>\n",
              "      <td>46</td>\n",
              "      <td>50289.0</td>\n",
              "      <td>No</td>\n",
              "    </tr>\n",
              "    <tr>\n",
              "      <th>...</th>\n",
              "      <td>...</td>\n",
              "      <td>...</td>\n",
              "      <td>...</td>\n",
              "      <td>...</td>\n",
              "      <td>...</td>\n",
              "      <td>...</td>\n",
              "    </tr>\n",
              "    <tr>\n",
              "      <th>149995</th>\n",
              "      <td>149996</td>\n",
              "      <td>Austin</td>\n",
              "      <td>Male</td>\n",
              "      <td>48</td>\n",
              "      <td>93669.0</td>\n",
              "      <td>No</td>\n",
              "    </tr>\n",
              "    <tr>\n",
              "      <th>149996</th>\n",
              "      <td>149997</td>\n",
              "      <td>Austin</td>\n",
              "      <td>Male</td>\n",
              "      <td>25</td>\n",
              "      <td>96748.0</td>\n",
              "      <td>No</td>\n",
              "    </tr>\n",
              "    <tr>\n",
              "      <th>149997</th>\n",
              "      <td>149998</td>\n",
              "      <td>Austin</td>\n",
              "      <td>Male</td>\n",
              "      <td>26</td>\n",
              "      <td>111885.0</td>\n",
              "      <td>No</td>\n",
              "    </tr>\n",
              "    <tr>\n",
              "      <th>149998</th>\n",
              "      <td>149999</td>\n",
              "      <td>Austin</td>\n",
              "      <td>Male</td>\n",
              "      <td>25</td>\n",
              "      <td>111878.0</td>\n",
              "      <td>No</td>\n",
              "    </tr>\n",
              "    <tr>\n",
              "      <th>149999</th>\n",
              "      <td>150000</td>\n",
              "      <td>Austin</td>\n",
              "      <td>Female</td>\n",
              "      <td>37</td>\n",
              "      <td>87251.0</td>\n",
              "      <td>No</td>\n",
              "    </tr>\n",
              "  </tbody>\n",
              "</table>\n",
              "<p>149854 rows × 6 columns</p>\n",
              "</div>"
            ],
            "text/plain": [
              "        Number    City  Gender  Age    Income Illness\n",
              "0            1  Dallas    Male   41   40367.0      No\n",
              "1            2  Dallas    Male   54   45084.0      No\n",
              "2            3  Dallas    Male   42   52483.0      No\n",
              "3            4  Dallas    Male   40   40941.0      No\n",
              "4            5  Dallas    Male   46   50289.0      No\n",
              "...        ...     ...     ...  ...       ...     ...\n",
              "149995  149996  Austin    Male   48   93669.0      No\n",
              "149996  149997  Austin    Male   25   96748.0      No\n",
              "149997  149998  Austin    Male   26  111885.0      No\n",
              "149998  149999  Austin    Male   25  111878.0      No\n",
              "149999  150000  Austin  Female   37   87251.0      No\n",
              "\n",
              "[149854 rows x 6 columns]"
            ]
          },
          "metadata": {},
          "execution_count": 43
        }
      ],
      "metadata": {
        "id": "PWlukLKUvFQN"
      }
    },
    {
      "cell_type": "code",
      "execution_count": 73,
      "source": [
        "# Identifying the Missing Data\r\n",
        "#\r\n",
        "\r\n",
        "new.isna().sum()"
      ],
      "outputs": [
        {
          "output_type": "execute_result",
          "data": {
            "text/plain": [
              "Number     0\n",
              "City       0\n",
              "Gender     0\n",
              "Age        0\n",
              "Income     0\n",
              "Illness    0\n",
              "dtype: int64"
            ]
          },
          "metadata": {},
          "execution_count": 73
        }
      ],
      "metadata": {
        "id": "PvCYb6dgW4yh"
      }
    },
    {
      "cell_type": "code",
      "execution_count": null,
      "source": [
        "# Dealing with the Missing Data\r\n",
        "#"
      ],
      "outputs": [],
      "metadata": {
        "id": "MpsDGKZHsf_W"
      }
    },
    {
      "cell_type": "code",
      "execution_count": 74,
      "source": [
        "# More data cleaning procedures\r\n",
        "#\r\n",
        "\r\n",
        "new.duplicated().sum()"
      ],
      "outputs": [
        {
          "output_type": "execute_result",
          "data": {
            "text/plain": [
              "0"
            ]
          },
          "metadata": {},
          "execution_count": 74
        }
      ],
      "metadata": {
        "id": "D-4I__6Os4C5"
      }
    },
    {
      "cell_type": "markdown",
      "source": [
        "## 6. Exploratory Analysis"
      ],
      "metadata": {
        "id": "rF2ABPsHUtbZ"
      }
    },
    {
      "cell_type": "code",
      "execution_count": 75,
      "source": [
        "# Ploting the univariate summaries and recording our observations\r\n",
        "#\r\n",
        "\r\n",
        "def plot(data, col):\r\n",
        "    fig = plt.hist(data[col], bins= 5, histtype='bar', rwidth=0.9)\r\n",
        "    return fig\r\n",
        "\r\n",
        "columnames = ['Age', 'Income']\r\n",
        "for i in columnames:\r\n",
        "    plot(new, i)\r\n",
        "\r\n"
      ],
      "outputs": [
        {
          "output_type": "display_data",
          "data": {
            "image/png": "[encoded data removed]",
            "text/plain": [
              "<Figure size 432x288 with 1 Axes>"
            ]
          },
          "metadata": {
            "needs_background": "light"
          }
        }
      ],
      "metadata": {
        "id": "5nnRToniXGDK"
      }
    },
    {
      "cell_type": "code",
      "execution_count": 76,
      "source": [
        "# Pie chart\r\n",
        "\r\n",
        "dataset_illiness = new.groupby('Illness').count()['Number'].reset_index()\r\n",
        "print(dataset_illiness)\r\n",
        "illy = dataset_illiness['Illness']\r\n",
        "numbers = dataset_illiness['Number']\r\n",
        "explode = (0.1, 0)  \r\n",
        "color = ['gold', 'green']\r\n",
        "\r\n",
        "plt.pie(numbers, explode=explode, labels = illy, colors=color, autopct = '%1.1f%%', shadow = True, startangle = 180)\r\n",
        "\r\n",
        "\r\n",
        "plt.axis('equal')\r\n",
        "plt.title('City Illiness')\r\n",
        "plt.show()"
      ],
      "outputs": [
        {
          "output_type": "stream",
          "name": "stdout",
          "text": [
            "  Illness  Number\n",
            "0      No  137726\n",
            "1     Yes   12128\n"
          ]
        },
        {
          "output_type": "display_data",
          "data": {
            "image/png": "[encoded data removed]",
            "text/plain": [
              "<Figure size 432x288 with 1 Axes>"
            ]
          },
          "metadata": {}
        }
      ],
      "metadata": {}
    },
    {
      "cell_type": "markdown",
      "source": [
        "## 7. Implementing the Solution"
      ],
      "metadata": {
        "id": "vTbdjSrhVIiT"
      }
    },
    {
      "cell_type": "code",
      "execution_count": 77,
      "source": [
        "# Implementing the Solution\r\n",
        "# \r\n",
        "#Quiz:\r\n",
        "#How can a US insurance company determine the top 10 cities \r\n",
        "#where its clients have the highest annual income for persons aged 40 and below? \r\n",
        "\r\n",
        "new[new['Age']< 40].groupby('City')['Income'].mean().sort_values(ascending=False).reset_index().head(5)"
      ],
      "outputs": [
        {
          "output_type": "execute_result",
          "data": {
            "text/html": [
              "<div>\n",
              "<style scoped>\n",
              "    .dataframe tbody tr th:only-of-type {\n",
              "        vertical-align: middle;\n",
              "    }\n",
              "\n",
              "    .dataframe tbody tr th {\n",
              "        vertical-align: top;\n",
              "    }\n",
              "\n",
              "    .dataframe thead th {\n",
              "        text-align: right;\n",
              "    }\n",
              "</style>\n",
              "<table border=\"1\" class=\"dataframe\">\n",
              "  <thead>\n",
              "    <tr style=\"text-align: right;\">\n",
              "      <th></th>\n",
              "      <th>City</th>\n",
              "      <th>Income</th>\n",
              "    </tr>\n",
              "  </thead>\n",
              "  <tbody>\n",
              "    <tr>\n",
              "      <th>0</th>\n",
              "      <td>Mountain View</td>\n",
              "      <td>134942.417152</td>\n",
              "    </tr>\n",
              "    <tr>\n",
              "      <th>1</th>\n",
              "      <td>San Diego</td>\n",
              "      <td>101310.862089</td>\n",
              "    </tr>\n",
              "    <tr>\n",
              "      <th>2</th>\n",
              "      <td>New York City</td>\n",
              "      <td>96959.705119</td>\n",
              "    </tr>\n",
              "    <tr>\n",
              "      <th>3</th>\n",
              "      <td>Los Angeles</td>\n",
              "      <td>95312.372223</td>\n",
              "    </tr>\n",
              "    <tr>\n",
              "      <th>4</th>\n",
              "      <td>Boston</td>\n",
              "      <td>91188.900740</td>\n",
              "    </tr>\n",
              "  </tbody>\n",
              "</table>\n",
              "</div>"
            ],
            "text/plain": [
              "            City         Income\n",
              "0  Mountain View  134942.417152\n",
              "1      San Diego  101310.862089\n",
              "2  New York City   96959.705119\n",
              "3    Los Angeles   95312.372223\n",
              "4         Boston   91188.900740"
            ]
          },
          "metadata": {},
          "execution_count": 77
        }
      ],
      "metadata": {
        "id": "PJLZaRzJXJ3w"
      }
    },
    {
      "cell_type": "markdown",
      "source": [
        "## 8. Challenging the solution"
      ],
      "metadata": {
        "id": "lQ2G4ZPDVOXE"
      }
    },
    {
      "cell_type": "markdown",
      "source": [
        "> The easy solution is nice because it is, well, easy, but you should never allow those results to hold the day. You should always be thinking of ways to challenge the results, especially if those results comport with your prior expectation.\n",
        "\n",
        "\n",
        "\n",
        "\n"
      ],
      "metadata": {
        "id": "jWVGKGuiYMWg"
      }
    },
    {
      "cell_type": "code",
      "execution_count": 78,
      "source": [
        "# Reviewing the Solution \r\n",
        "#\r\n",
        "\r\n",
        "new[new['Age']< 40].groupby('City')['Number'].count().sort_values(ascending=False).reset_index().head(5)"
      ],
      "outputs": [
        {
          "output_type": "execute_result",
          "data": {
            "text/html": [
              "<div>\n",
              "<style scoped>\n",
              "    .dataframe tbody tr th:only-of-type {\n",
              "        vertical-align: middle;\n",
              "    }\n",
              "\n",
              "    .dataframe tbody tr th {\n",
              "        vertical-align: top;\n",
              "    }\n",
              "\n",
              "    .dataframe thead th {\n",
              "        text-align: right;\n",
              "    }\n",
              "</style>\n",
              "<table border=\"1\" class=\"dataframe\">\n",
              "  <thead>\n",
              "    <tr style=\"text-align: right;\">\n",
              "      <th></th>\n",
              "      <th>City</th>\n",
              "      <th>Number</th>\n",
              "    </tr>\n",
              "  </thead>\n",
              "  <tbody>\n",
              "    <tr>\n",
              "      <th>0</th>\n",
              "      <td>New York City</td>\n",
              "      <td>18343</td>\n",
              "    </tr>\n",
              "    <tr>\n",
              "      <th>1</th>\n",
              "      <td>Los Angeles</td>\n",
              "      <td>11614</td>\n",
              "    </tr>\n",
              "    <tr>\n",
              "      <th>2</th>\n",
              "      <td>Dallas</td>\n",
              "      <td>7027</td>\n",
              "    </tr>\n",
              "    <tr>\n",
              "      <th>3</th>\n",
              "      <td>Mountain View</td>\n",
              "      <td>5154</td>\n",
              "    </tr>\n",
              "    <tr>\n",
              "      <th>4</th>\n",
              "      <td>Austin</td>\n",
              "      <td>4590</td>\n",
              "    </tr>\n",
              "  </tbody>\n",
              "</table>\n",
              "</div>"
            ],
            "text/plain": [
              "            City  Number\n",
              "0  New York City   18343\n",
              "1    Los Angeles   11614\n",
              "2         Dallas    7027\n",
              "3  Mountain View    5154\n",
              "4         Austin    4590"
            ]
          },
          "metadata": {},
          "execution_count": 78
        }
      ],
      "metadata": {
        "id": "j3x3SXZ4XT_L"
      }
    },
    {
      "cell_type": "markdown",
      "source": [
        "## 9. Follow up questions"
      ],
      "metadata": {
        "id": "xrmHVMVsVS--"
      }
    },
    {
      "cell_type": "markdown",
      "source": [
        "> At this point, we can refine our question or collect new data, all in an iterative process to get at the truth.\n",
        "\n"
      ],
      "metadata": {
        "id": "pth2qSWhuBIy"
      }
    },
    {
      "cell_type": "markdown",
      "source": [
        "### a). Did we have the right data?"
      ],
      "metadata": {
        "id": "HPQviDmNtta8"
      }
    },
    {
      "cell_type": "markdown",
      "source": [
        "# b). Do we need other data to answer our question?"
      ],
      "metadata": {
        "id": "qjFHK1CKty7o"
      }
    },
    {
      "cell_type": "markdown",
      "source": [
        "### c). Did we have the right question?"
      ],
      "metadata": {
        "id": "HSsicSdvt4Zs"
      }
    }
  ]
}
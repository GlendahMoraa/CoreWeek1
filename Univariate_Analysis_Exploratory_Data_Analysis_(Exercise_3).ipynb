{
  "nbformat": 4,
  "nbformat_minor": 2,
  "metadata": {
    "colab": {
      "name": "Univariate Analysis - Exploratory Data Analysis (Exercise 3)",
      "provenance": [],
      "collapsed_sections": [
        "kLG2VTrnTvYL",
        "iUNbvIvnT7ep",
        "OI3P3YnHUEBk",
        "ckfufNrcUHeH",
        "FlBMxEDBUc9B",
        "rF2ABPsHUtbZ",
        "vTbdjSrhVIiT",
        "lQ2G4ZPDVOXE",
        "xrmHVMVsVS--"
      ],
      "toc_visible": true
    },
    "kernelspec": {
      "name": "python3",
      "display_name": "Python 3.9.5 64-bit"
    },
    "language_info": {
      "name": "python",
      "version": "3.9.5",
      "mimetype": "text/x-python",
      "codemirror_mode": {
        "name": "ipython",
        "version": 3
      },
      "pygments_lexer": "ipython3",
      "nbconvert_exporter": "python",
      "file_extension": ".py"
    },
    "interpreter": {
      "hash": "247ab06e135bb35fa78c5eff31b2a9a0050dcb5fb773c2631d2a29ac689eeccb"
    }
  },
  "cells": [
    {
      "cell_type": "markdown",
      "source": [
        "# Exploratory Data Analysis: Univariate Analysis"
      ],
      "metadata": {
        "id": "xMxtPsqcTsSH"
      }
    },
    {
      "cell_type": "markdown",
      "source": [
        "## 1. Defining the Question"
      ],
      "metadata": {
        "id": "kLG2VTrnTvYL"
      }
    },
    {
      "cell_type": "markdown",
      "source": [
        "### a) Specifying the Data Analytic Question"
      ],
      "metadata": {
        "id": "XecOwPNorl2W"
      }
    },
    {
      "cell_type": "markdown",
      "source": [
        "> Which was the most improved SAT subject from the year 2017 - 2018?"
      ],
      "metadata": {
        "id": "ym7-i7auXZPg"
      }
    },
    {
      "cell_type": "markdown",
      "source": [
        "### b) Defining the Metric for Success"
      ],
      "metadata": {
        "id": "J4wfHZwQrs-t"
      }
    },
    {
      "cell_type": "markdown",
      "source": [
        "### c) Understanding the context "
      ],
      "metadata": {
        "id": "a9BPYqunry97"
      }
    },
    {
      "cell_type": "markdown",
      "source": [
        "### d) Recording the Experimental Design"
      ],
      "metadata": {
        "id": "7KMRBJ7zr9HD"
      }
    },
    {
      "cell_type": "markdown",
      "source": [
        "### e) Data Relevance"
      ],
      "metadata": {
        "id": "zSGyg6kWsBUl"
      }
    },
    {
      "cell_type": "markdown",
      "source": [
        "## 2. Reading the Data"
      ],
      "metadata": {
        "id": "iUNbvIvnT7ep"
      }
    },
    {
      "cell_type": "code",
      "execution_count": 4,
      "source": [
        "# Loading the Data from the source i.e. csv\r\n",
        "# ---\r\n",
        "# Dataset 1 url = http://bit.ly/SAT2017Dataset\r\n",
        "# Dataset 2 url = http://bit.ly/SAT2018Dataset\r\n",
        "# ---\r\n",
        "#\r\n",
        "\r\n",
        "import pandas as pd\r\n",
        "import numpy as np\r\n",
        "import seaborn as sns\r\n",
        "import matplotlib\r\n",
        "from matplotlib import pyplot as plt\r\n",
        "\r\n",
        "df1 = pd.read_csv(\"http://bit.ly/SAT2017Dataset\")\r\n",
        "df2 = pd.read_csv(\"http://bit.ly/SAT2018Dataset\")"
      ],
      "outputs": [],
      "metadata": {
        "id": "XJn2KjW-WMlG"
      }
    },
    {
      "cell_type": "markdown",
      "source": [
        "## 3. Checking the Data"
      ],
      "metadata": {
        "id": "OI3P3YnHUEBk"
      }
    },
    {
      "cell_type": "code",
      "execution_count": 7,
      "source": [
        "# Determining the no. of records in our dataset\r\n",
        "#\r\n",
        "\r\n",
        "df1.shape[0]\r\n",
        "df2.shape[0]\r\n"
      ],
      "outputs": [
        {
          "output_type": "execute_result",
          "data": {
            "text/plain": [
              "51"
            ]
          },
          "metadata": {},
          "execution_count": 7
        }
      ],
      "metadata": {
        "id": "YjSVNwgptHxY"
      }
    },
    {
      "cell_type": "code",
      "execution_count": 8,
      "source": [
        "# Previewing the top of our dataset\r\n",
        "#\r\n",
        "\r\n",
        "df2.head(5)\r\n"
      ],
      "outputs": [
        {
          "output_type": "execute_result",
          "data": {
            "text/html": [
              "<div>\n",
              "<style scoped>\n",
              "    .dataframe tbody tr th:only-of-type {\n",
              "        vertical-align: middle;\n",
              "    }\n",
              "\n",
              "    .dataframe tbody tr th {\n",
              "        vertical-align: top;\n",
              "    }\n",
              "\n",
              "    .dataframe thead th {\n",
              "        text-align: right;\n",
              "    }\n",
              "</style>\n",
              "<table border=\"1\" class=\"dataframe\">\n",
              "  <thead>\n",
              "    <tr style=\"text-align: right;\">\n",
              "      <th></th>\n",
              "      <th>State</th>\n",
              "      <th>Participation</th>\n",
              "      <th>Evidence-Based Reading and Writing</th>\n",
              "      <th>Math</th>\n",
              "      <th>Total</th>\n",
              "    </tr>\n",
              "  </thead>\n",
              "  <tbody>\n",
              "    <tr>\n",
              "      <th>0</th>\n",
              "      <td>Alabama</td>\n",
              "      <td>6%</td>\n",
              "      <td>595</td>\n",
              "      <td>571</td>\n",
              "      <td>1166</td>\n",
              "    </tr>\n",
              "    <tr>\n",
              "      <th>1</th>\n",
              "      <td>Alaska</td>\n",
              "      <td>43%</td>\n",
              "      <td>562</td>\n",
              "      <td>544</td>\n",
              "      <td>1106</td>\n",
              "    </tr>\n",
              "    <tr>\n",
              "      <th>2</th>\n",
              "      <td>Arizona</td>\n",
              "      <td>29%</td>\n",
              "      <td>577</td>\n",
              "      <td>572</td>\n",
              "      <td>1149</td>\n",
              "    </tr>\n",
              "    <tr>\n",
              "      <th>3</th>\n",
              "      <td>Arkansas</td>\n",
              "      <td>5%</td>\n",
              "      <td>592</td>\n",
              "      <td>576</td>\n",
              "      <td>1169</td>\n",
              "    </tr>\n",
              "    <tr>\n",
              "      <th>4</th>\n",
              "      <td>California</td>\n",
              "      <td>60%</td>\n",
              "      <td>540</td>\n",
              "      <td>536</td>\n",
              "      <td>1076</td>\n",
              "    </tr>\n",
              "  </tbody>\n",
              "</table>\n",
              "</div>"
            ],
            "text/plain": [
              "        State Participation  Evidence-Based Reading and Writing  Math  Total\n",
              "0     Alabama            6%                                 595   571   1166\n",
              "1      Alaska           43%                                 562   544   1106\n",
              "2     Arizona           29%                                 577   572   1149\n",
              "3    Arkansas            5%                                 592   576   1169\n",
              "4  California           60%                                 540   536   1076"
            ]
          },
          "metadata": {},
          "execution_count": 8
        }
      ],
      "metadata": {
        "id": "xHhTw5eKWr0n"
      }
    },
    {
      "cell_type": "code",
      "execution_count": 9,
      "source": [
        "# Previewing the bottom of our dataset\r\n",
        "# \r\n",
        "df1.tail(5)"
      ],
      "outputs": [
        {
          "output_type": "execute_result",
          "data": {
            "text/html": [
              "<div>\n",
              "<style scoped>\n",
              "    .dataframe tbody tr th:only-of-type {\n",
              "        vertical-align: middle;\n",
              "    }\n",
              "\n",
              "    .dataframe tbody tr th {\n",
              "        vertical-align: top;\n",
              "    }\n",
              "\n",
              "    .dataframe thead th {\n",
              "        text-align: right;\n",
              "    }\n",
              "</style>\n",
              "<table border=\"1\" class=\"dataframe\">\n",
              "  <thead>\n",
              "    <tr style=\"text-align: right;\">\n",
              "      <th></th>\n",
              "      <th>State</th>\n",
              "      <th>Participation</th>\n",
              "      <th>Evidence-Based Reading and Writing</th>\n",
              "      <th>Math</th>\n",
              "      <th>Total</th>\n",
              "    </tr>\n",
              "  </thead>\n",
              "  <tbody>\n",
              "    <tr>\n",
              "      <th>46</th>\n",
              "      <td>Virginia</td>\n",
              "      <td>65%</td>\n",
              "      <td>561</td>\n",
              "      <td>541</td>\n",
              "      <td>1102</td>\n",
              "    </tr>\n",
              "    <tr>\n",
              "      <th>47</th>\n",
              "      <td>Washington</td>\n",
              "      <td>64%</td>\n",
              "      <td>541</td>\n",
              "      <td>534</td>\n",
              "      <td>1075</td>\n",
              "    </tr>\n",
              "    <tr>\n",
              "      <th>48</th>\n",
              "      <td>West Virginia</td>\n",
              "      <td>14%</td>\n",
              "      <td>558</td>\n",
              "      <td>528</td>\n",
              "      <td>1086</td>\n",
              "    </tr>\n",
              "    <tr>\n",
              "      <th>49</th>\n",
              "      <td>Wisconsin</td>\n",
              "      <td>3%</td>\n",
              "      <td>642</td>\n",
              "      <td>649</td>\n",
              "      <td>1291</td>\n",
              "    </tr>\n",
              "    <tr>\n",
              "      <th>50</th>\n",
              "      <td>Wyoming</td>\n",
              "      <td>3%</td>\n",
              "      <td>626</td>\n",
              "      <td>604</td>\n",
              "      <td>1230</td>\n",
              "    </tr>\n",
              "  </tbody>\n",
              "</table>\n",
              "</div>"
            ],
            "text/plain": [
              "            State Participation  Evidence-Based Reading and Writing  Math  \\\n",
              "46       Virginia           65%                                 561   541   \n",
              "47     Washington           64%                                 541   534   \n",
              "48  West Virginia           14%                                 558   528   \n",
              "49      Wisconsin            3%                                 642   649   \n",
              "50        Wyoming            3%                                 626   604   \n",
              "\n",
              "    Total  \n",
              "46   1102  \n",
              "47   1075  \n",
              "48   1086  \n",
              "49   1291  \n",
              "50   1230  "
            ]
          },
          "metadata": {},
          "execution_count": 9
        }
      ],
      "metadata": {
        "id": "e9AzGcZFrIIr"
      }
    },
    {
      "cell_type": "code",
      "execution_count": 11,
      "source": [
        "# Checking whether each column has an appropriate datatype\r\n",
        "#\r\n",
        "df1.info()\r\n",
        "df2.info()"
      ],
      "outputs": [
        {
          "output_type": "stream",
          "name": "stdout",
          "text": [
            "<class 'pandas.core.frame.DataFrame'>\n",
            "RangeIndex: 51 entries, 0 to 50\n",
            "Data columns (total 5 columns):\n",
            " #   Column                              Non-Null Count  Dtype \n",
            "---  ------                              --------------  ----- \n",
            " 0   State                               51 non-null     object\n",
            " 1   Participation                       51 non-null     object\n",
            " 2   Evidence-Based Reading and Writing  51 non-null     int64 \n",
            " 3   Math                                51 non-null     int64 \n",
            " 4   Total                               51 non-null     int64 \n",
            "dtypes: int64(3), object(2)\n",
            "memory usage: 2.1+ KB\n",
            "<class 'pandas.core.frame.DataFrame'>\n",
            "RangeIndex: 51 entries, 0 to 50\n",
            "Data columns (total 5 columns):\n",
            " #   Column                              Non-Null Count  Dtype \n",
            "---  ------                              --------------  ----- \n",
            " 0   State                               51 non-null     object\n",
            " 1   Participation                       51 non-null     object\n",
            " 2   Evidence-Based Reading and Writing  51 non-null     int64 \n",
            " 3   Math                                51 non-null     int64 \n",
            " 4   Total                               51 non-null     int64 \n",
            "dtypes: int64(3), object(2)\n",
            "memory usage: 2.1+ KB\n"
          ]
        }
      ],
      "metadata": {
        "id": "n8-dW4sQWzbc"
      }
    },
    {
      "cell_type": "markdown",
      "source": [
        "## 4. External Data Source Validation"
      ],
      "metadata": {
        "id": "ckfufNrcUHeH"
      }
    },
    {
      "cell_type": "markdown",
      "source": [
        "Making sure your data matches something outside of the dataset is very important. It allows you to ensure that the measurements are roughly in line with what they should be and it serves as a check on what other things might be wrong in your dataset. External validation can often be as simple as checking your data against a single number, as we will do here.\n",
        "\n",
        "An example would be suppose that you're working with a dataset on the population of countries during the year 2016. Validating such information with an external reliable resource such as World Bank Data would be important step to providing credibility to your dataset. Have a look at the following link for an example. [Link](https://rstudio-pubs-static.s3.amazonaws.com/182250_19977d0c5c06403fbad1e653850fc7c6.html)."
      ],
      "metadata": {
        "id": "6L4sl_0WXlbg"
      }
    },
    {
      "cell_type": "markdown",
      "source": [
        "### a.Validation"
      ],
      "metadata": {
        "id": "6XC_g-zKxe-r"
      }
    },
    {
      "cell_type": "markdown",
      "source": [
        "## 5. Tidying the Dataset"
      ],
      "metadata": {
        "id": "FlBMxEDBUc9B"
      }
    },
    {
      "cell_type": "code",
      "execution_count": 16,
      "source": [
        "# Checking for Outliers\r\n",
        "#\r\n",
        "col_names = ['Evidence-Based Reading and Writing', 'Math']\r\n",
        "\r\n",
        "fig, ax = plt.subplots(len(col_names), figsize=(4,10))\r\n",
        "\r\n",
        "for i, col_val in enumerate(col_names):\r\n",
        "\r\n",
        "    sns.boxplot(y=df1[col_val], ax=ax[i])\r\n",
        "    ax[i].set_title('Box plot - ' + str(col_val), fontsize=10)\r\n",
        "    ax[i].set_xlabel(col_val, fontsize=8)\r\n",
        "\r\n",
        "\r\n",
        "plt.show()\r\n",
        "\r\n",
        "col_names = ['Evidence-Based Reading and Writing', 'Math']\r\n",
        "\r\n",
        "fig, ax = plt.subplots(len(col_names), figsize=(4,10))\r\n",
        "\r\n",
        "for i, col_val in enumerate(col_names):\r\n",
        "\r\n",
        "    sns.boxplot(y=df2[col_val], ax=ax[i])\r\n",
        "    ax[i].set_title('Box plot - ' + str(col_val), fontsize=10)\r\n",
        "    ax[i].set_xlabel(col_val, fontsize=8)\r\n"
      ],
      "outputs": [
        {
          "output_type": "display_data",
          "data": {
            "image/png": "[encoded data removed]",
            "text/plain": [
              "<Figure size 288x720 with 2 Axes>"
            ]
          },
          "metadata": {
            "needs_background": "light"
          }
        },
        {
          "output_type": "display_data",
          "data": {
            "image/png": "[encoded data removed]",
            "text/plain": [
              "<Figure size 288x720 with 2 Axes>"
            ]
          },
          "metadata": {
            "needs_background": "light"
          }
        }
      ],
      "metadata": {
        "id": "5o_bQcT5W3Wz"
      }
    },
    {
      "cell_type": "code",
      "execution_count": 17,
      "source": [
        "# Checking for Anomalies\r\n",
        "#\r\n",
        "\r\n",
        "def remove(data, col):\r\n",
        "    col_upper = data[col].mean() + 3*data[col].std()\r\n",
        "    col_lower = data[col].mean() - 3*data[col].std()\r\n",
        "    df = data[(data[col]< col_upper) & (data[col]> col_lower)]\r\n",
        "    return df \r\n",
        "\r\n",
        "# remove()\r\n",
        "\r\n",
        "for c in col_names:\r\n",
        "\r\n",
        "    newdf = remove(df1, c)\r\n",
        "    \r\n",
        "newdf"
      ],
      "outputs": [
        {
          "output_type": "execute_result",
          "data": {
            "text/html": [
              "<div>\n",
              "<style scoped>\n",
              "    .dataframe tbody tr th:only-of-type {\n",
              "        vertical-align: middle;\n",
              "    }\n",
              "\n",
              "    .dataframe tbody tr th {\n",
              "        vertical-align: top;\n",
              "    }\n",
              "\n",
              "    .dataframe thead th {\n",
              "        text-align: right;\n",
              "    }\n",
              "</style>\n",
              "<table border=\"1\" class=\"dataframe\">\n",
              "  <thead>\n",
              "    <tr style=\"text-align: right;\">\n",
              "      <th></th>\n",
              "      <th>State</th>\n",
              "      <th>Participation</th>\n",
              "      <th>Evidence-Based Reading and Writing</th>\n",
              "      <th>Math</th>\n",
              "      <th>Total</th>\n",
              "    </tr>\n",
              "  </thead>\n",
              "  <tbody>\n",
              "    <tr>\n",
              "      <th>0</th>\n",
              "      <td>Alabama</td>\n",
              "      <td>5%</td>\n",
              "      <td>593</td>\n",
              "      <td>572</td>\n",
              "      <td>1165</td>\n",
              "    </tr>\n",
              "    <tr>\n",
              "      <th>1</th>\n",
              "      <td>Alaska</td>\n",
              "      <td>38%</td>\n",
              "      <td>547</td>\n",
              "      <td>533</td>\n",
              "      <td>1080</td>\n",
              "    </tr>\n",
              "    <tr>\n",
              "      <th>2</th>\n",
              "      <td>Arizona</td>\n",
              "      <td>30%</td>\n",
              "      <td>563</td>\n",
              "      <td>553</td>\n",
              "      <td>1116</td>\n",
              "    </tr>\n",
              "    <tr>\n",
              "      <th>3</th>\n",
              "      <td>Arkansas</td>\n",
              "      <td>3%</td>\n",
              "      <td>614</td>\n",
              "      <td>594</td>\n",
              "      <td>1208</td>\n",
              "    </tr>\n",
              "    <tr>\n",
              "      <th>4</th>\n",
              "      <td>California</td>\n",
              "      <td>53%</td>\n",
              "      <td>531</td>\n",
              "      <td>524</td>\n",
              "      <td>1055</td>\n",
              "    </tr>\n",
              "    <tr>\n",
              "      <th>5</th>\n",
              "      <td>Colorado</td>\n",
              "      <td>11%</td>\n",
              "      <td>606</td>\n",
              "      <td>595</td>\n",
              "      <td>1201</td>\n",
              "    </tr>\n",
              "    <tr>\n",
              "      <th>6</th>\n",
              "      <td>Connecticut</td>\n",
              "      <td>100%</td>\n",
              "      <td>530</td>\n",
              "      <td>512</td>\n",
              "      <td>1041</td>\n",
              "    </tr>\n",
              "    <tr>\n",
              "      <th>7</th>\n",
              "      <td>Delaware</td>\n",
              "      <td>100%</td>\n",
              "      <td>503</td>\n",
              "      <td>492</td>\n",
              "      <td>996</td>\n",
              "    </tr>\n",
              "    <tr>\n",
              "      <th>8</th>\n",
              "      <td>District of Columbia</td>\n",
              "      <td>100%</td>\n",
              "      <td>482</td>\n",
              "      <td>468</td>\n",
              "      <td>950</td>\n",
              "    </tr>\n",
              "    <tr>\n",
              "      <th>9</th>\n",
              "      <td>Florida</td>\n",
              "      <td>83%</td>\n",
              "      <td>520</td>\n",
              "      <td>497</td>\n",
              "      <td>1017</td>\n",
              "    </tr>\n",
              "    <tr>\n",
              "      <th>10</th>\n",
              "      <td>Georgia</td>\n",
              "      <td>61%</td>\n",
              "      <td>535</td>\n",
              "      <td>515</td>\n",
              "      <td>1050</td>\n",
              "    </tr>\n",
              "    <tr>\n",
              "      <th>11</th>\n",
              "      <td>Hawaii</td>\n",
              "      <td>55%</td>\n",
              "      <td>544</td>\n",
              "      <td>541</td>\n",
              "      <td>1085</td>\n",
              "    </tr>\n",
              "    <tr>\n",
              "      <th>12</th>\n",
              "      <td>Idaho</td>\n",
              "      <td>93%</td>\n",
              "      <td>513</td>\n",
              "      <td>493</td>\n",
              "      <td>1005</td>\n",
              "    </tr>\n",
              "    <tr>\n",
              "      <th>13</th>\n",
              "      <td>Illinois</td>\n",
              "      <td>9%</td>\n",
              "      <td>559</td>\n",
              "      <td>556</td>\n",
              "      <td>1115</td>\n",
              "    </tr>\n",
              "    <tr>\n",
              "      <th>14</th>\n",
              "      <td>Indiana</td>\n",
              "      <td>63%</td>\n",
              "      <td>542</td>\n",
              "      <td>532</td>\n",
              "      <td>1074</td>\n",
              "    </tr>\n",
              "    <tr>\n",
              "      <th>15</th>\n",
              "      <td>Iowa</td>\n",
              "      <td>2%</td>\n",
              "      <td>641</td>\n",
              "      <td>635</td>\n",
              "      <td>1275</td>\n",
              "    </tr>\n",
              "    <tr>\n",
              "      <th>16</th>\n",
              "      <td>Kansas</td>\n",
              "      <td>4%</td>\n",
              "      <td>632</td>\n",
              "      <td>628</td>\n",
              "      <td>1260</td>\n",
              "    </tr>\n",
              "    <tr>\n",
              "      <th>17</th>\n",
              "      <td>Kentucky</td>\n",
              "      <td>4%</td>\n",
              "      <td>631</td>\n",
              "      <td>616</td>\n",
              "      <td>1247</td>\n",
              "    </tr>\n",
              "    <tr>\n",
              "      <th>18</th>\n",
              "      <td>Louisiana</td>\n",
              "      <td>4%</td>\n",
              "      <td>611</td>\n",
              "      <td>586</td>\n",
              "      <td>1198</td>\n",
              "    </tr>\n",
              "    <tr>\n",
              "      <th>19</th>\n",
              "      <td>Maine</td>\n",
              "      <td>95%</td>\n",
              "      <td>513</td>\n",
              "      <td>499</td>\n",
              "      <td>1012</td>\n",
              "    </tr>\n",
              "    <tr>\n",
              "      <th>21</th>\n",
              "      <td>Massachusetts</td>\n",
              "      <td>76%</td>\n",
              "      <td>555</td>\n",
              "      <td>551</td>\n",
              "      <td>1107</td>\n",
              "    </tr>\n",
              "    <tr>\n",
              "      <th>22</th>\n",
              "      <td>Michigan</td>\n",
              "      <td>100%</td>\n",
              "      <td>509</td>\n",
              "      <td>495</td>\n",
              "      <td>1005</td>\n",
              "    </tr>\n",
              "    <tr>\n",
              "      <th>23</th>\n",
              "      <td>Minnesota</td>\n",
              "      <td>3%</td>\n",
              "      <td>644</td>\n",
              "      <td>651</td>\n",
              "      <td>1295</td>\n",
              "    </tr>\n",
              "    <tr>\n",
              "      <th>24</th>\n",
              "      <td>Mississippi</td>\n",
              "      <td>2%</td>\n",
              "      <td>634</td>\n",
              "      <td>607</td>\n",
              "      <td>1242</td>\n",
              "    </tr>\n",
              "    <tr>\n",
              "      <th>25</th>\n",
              "      <td>Missouri</td>\n",
              "      <td>3%</td>\n",
              "      <td>640</td>\n",
              "      <td>631</td>\n",
              "      <td>1271</td>\n",
              "    </tr>\n",
              "    <tr>\n",
              "      <th>26</th>\n",
              "      <td>Montana</td>\n",
              "      <td>10%</td>\n",
              "      <td>605</td>\n",
              "      <td>591</td>\n",
              "      <td>1196</td>\n",
              "    </tr>\n",
              "    <tr>\n",
              "      <th>27</th>\n",
              "      <td>Nebraska</td>\n",
              "      <td>3%</td>\n",
              "      <td>629</td>\n",
              "      <td>625</td>\n",
              "      <td>1253</td>\n",
              "    </tr>\n",
              "    <tr>\n",
              "      <th>28</th>\n",
              "      <td>Nevada</td>\n",
              "      <td>26%</td>\n",
              "      <td>563</td>\n",
              "      <td>553</td>\n",
              "      <td>1116</td>\n",
              "    </tr>\n",
              "    <tr>\n",
              "      <th>29</th>\n",
              "      <td>New Hampshire</td>\n",
              "      <td>96%</td>\n",
              "      <td>532</td>\n",
              "      <td>520</td>\n",
              "      <td>1052</td>\n",
              "    </tr>\n",
              "    <tr>\n",
              "      <th>30</th>\n",
              "      <td>New Jersey</td>\n",
              "      <td>70%</td>\n",
              "      <td>530</td>\n",
              "      <td>526</td>\n",
              "      <td>1056</td>\n",
              "    </tr>\n",
              "    <tr>\n",
              "      <th>31</th>\n",
              "      <td>New Mexico</td>\n",
              "      <td>11%</td>\n",
              "      <td>577</td>\n",
              "      <td>561</td>\n",
              "      <td>1138</td>\n",
              "    </tr>\n",
              "    <tr>\n",
              "      <th>32</th>\n",
              "      <td>New York</td>\n",
              "      <td>67%</td>\n",
              "      <td>528</td>\n",
              "      <td>523</td>\n",
              "      <td>1052</td>\n",
              "    </tr>\n",
              "    <tr>\n",
              "      <th>33</th>\n",
              "      <td>North Carolina</td>\n",
              "      <td>49%</td>\n",
              "      <td>546</td>\n",
              "      <td>535</td>\n",
              "      <td>1081</td>\n",
              "    </tr>\n",
              "    <tr>\n",
              "      <th>34</th>\n",
              "      <td>North Dakota</td>\n",
              "      <td>2%</td>\n",
              "      <td>635</td>\n",
              "      <td>621</td>\n",
              "      <td>1256</td>\n",
              "    </tr>\n",
              "    <tr>\n",
              "      <th>35</th>\n",
              "      <td>Ohio</td>\n",
              "      <td>12%</td>\n",
              "      <td>578</td>\n",
              "      <td>570</td>\n",
              "      <td>1149</td>\n",
              "    </tr>\n",
              "    <tr>\n",
              "      <th>36</th>\n",
              "      <td>Oklahoma</td>\n",
              "      <td>7%</td>\n",
              "      <td>530</td>\n",
              "      <td>517</td>\n",
              "      <td>1047</td>\n",
              "    </tr>\n",
              "    <tr>\n",
              "      <th>37</th>\n",
              "      <td>Oregon</td>\n",
              "      <td>43%</td>\n",
              "      <td>560</td>\n",
              "      <td>548</td>\n",
              "      <td>1108</td>\n",
              "    </tr>\n",
              "    <tr>\n",
              "      <th>38</th>\n",
              "      <td>Pennsylvania</td>\n",
              "      <td>65%</td>\n",
              "      <td>540</td>\n",
              "      <td>531</td>\n",
              "      <td>1071</td>\n",
              "    </tr>\n",
              "    <tr>\n",
              "      <th>39</th>\n",
              "      <td>Rhode Island</td>\n",
              "      <td>71%</td>\n",
              "      <td>539</td>\n",
              "      <td>524</td>\n",
              "      <td>1062</td>\n",
              "    </tr>\n",
              "    <tr>\n",
              "      <th>40</th>\n",
              "      <td>South Carolina</td>\n",
              "      <td>50%</td>\n",
              "      <td>543</td>\n",
              "      <td>521</td>\n",
              "      <td>1064</td>\n",
              "    </tr>\n",
              "    <tr>\n",
              "      <th>41</th>\n",
              "      <td>South Dakota</td>\n",
              "      <td>3%</td>\n",
              "      <td>612</td>\n",
              "      <td>603</td>\n",
              "      <td>1216</td>\n",
              "    </tr>\n",
              "    <tr>\n",
              "      <th>42</th>\n",
              "      <td>Tennessee</td>\n",
              "      <td>5%</td>\n",
              "      <td>623</td>\n",
              "      <td>604</td>\n",
              "      <td>1228</td>\n",
              "    </tr>\n",
              "    <tr>\n",
              "      <th>43</th>\n",
              "      <td>Texas</td>\n",
              "      <td>62%</td>\n",
              "      <td>513</td>\n",
              "      <td>507</td>\n",
              "      <td>1020</td>\n",
              "    </tr>\n",
              "    <tr>\n",
              "      <th>44</th>\n",
              "      <td>Utah</td>\n",
              "      <td>3%</td>\n",
              "      <td>624</td>\n",
              "      <td>614</td>\n",
              "      <td>1238</td>\n",
              "    </tr>\n",
              "    <tr>\n",
              "      <th>45</th>\n",
              "      <td>Vermont</td>\n",
              "      <td>60%</td>\n",
              "      <td>562</td>\n",
              "      <td>551</td>\n",
              "      <td>1114</td>\n",
              "    </tr>\n",
              "    <tr>\n",
              "      <th>46</th>\n",
              "      <td>Virginia</td>\n",
              "      <td>65%</td>\n",
              "      <td>561</td>\n",
              "      <td>541</td>\n",
              "      <td>1102</td>\n",
              "    </tr>\n",
              "    <tr>\n",
              "      <th>47</th>\n",
              "      <td>Washington</td>\n",
              "      <td>64%</td>\n",
              "      <td>541</td>\n",
              "      <td>534</td>\n",
              "      <td>1075</td>\n",
              "    </tr>\n",
              "    <tr>\n",
              "      <th>48</th>\n",
              "      <td>West Virginia</td>\n",
              "      <td>14%</td>\n",
              "      <td>558</td>\n",
              "      <td>528</td>\n",
              "      <td>1086</td>\n",
              "    </tr>\n",
              "    <tr>\n",
              "      <th>49</th>\n",
              "      <td>Wisconsin</td>\n",
              "      <td>3%</td>\n",
              "      <td>642</td>\n",
              "      <td>649</td>\n",
              "      <td>1291</td>\n",
              "    </tr>\n",
              "    <tr>\n",
              "      <th>50</th>\n",
              "      <td>Wyoming</td>\n",
              "      <td>3%</td>\n",
              "      <td>626</td>\n",
              "      <td>604</td>\n",
              "      <td>1230</td>\n",
              "    </tr>\n",
              "  </tbody>\n",
              "</table>\n",
              "</div>"
            ],
            "text/plain": [
              "                   State Participation  Evidence-Based Reading and Writing  \\\n",
              "0                Alabama            5%                                 593   \n",
              "1                 Alaska           38%                                 547   \n",
              "2                Arizona           30%                                 563   \n",
              "3               Arkansas            3%                                 614   \n",
              "4             California           53%                                 531   \n",
              "5               Colorado           11%                                 606   \n",
              "6            Connecticut          100%                                 530   \n",
              "7               Delaware          100%                                 503   \n",
              "8   District of Columbia          100%                                 482   \n",
              "9                Florida           83%                                 520   \n",
              "10               Georgia           61%                                 535   \n",
              "11                Hawaii           55%                                 544   \n",
              "12                 Idaho           93%                                 513   \n",
              "13              Illinois            9%                                 559   \n",
              "14               Indiana           63%                                 542   \n",
              "15                  Iowa            2%                                 641   \n",
              "16                Kansas            4%                                 632   \n",
              "17              Kentucky            4%                                 631   \n",
              "18             Louisiana            4%                                 611   \n",
              "19                 Maine           95%                                 513   \n",
              "21         Massachusetts           76%                                 555   \n",
              "22              Michigan          100%                                 509   \n",
              "23             Minnesota            3%                                 644   \n",
              "24           Mississippi            2%                                 634   \n",
              "25              Missouri            3%                                 640   \n",
              "26               Montana           10%                                 605   \n",
              "27              Nebraska            3%                                 629   \n",
              "28                Nevada           26%                                 563   \n",
              "29         New Hampshire           96%                                 532   \n",
              "30            New Jersey           70%                                 530   \n",
              "31            New Mexico           11%                                 577   \n",
              "32              New York           67%                                 528   \n",
              "33        North Carolina           49%                                 546   \n",
              "34          North Dakota            2%                                 635   \n",
              "35                  Ohio           12%                                 578   \n",
              "36              Oklahoma            7%                                 530   \n",
              "37                Oregon           43%                                 560   \n",
              "38          Pennsylvania           65%                                 540   \n",
              "39          Rhode Island           71%                                 539   \n",
              "40        South Carolina           50%                                 543   \n",
              "41          South Dakota            3%                                 612   \n",
              "42             Tennessee            5%                                 623   \n",
              "43                 Texas           62%                                 513   \n",
              "44                  Utah            3%                                 624   \n",
              "45               Vermont           60%                                 562   \n",
              "46              Virginia           65%                                 561   \n",
              "47            Washington           64%                                 541   \n",
              "48         West Virginia           14%                                 558   \n",
              "49             Wisconsin            3%                                 642   \n",
              "50               Wyoming            3%                                 626   \n",
              "\n",
              "    Math  Total  \n",
              "0    572   1165  \n",
              "1    533   1080  \n",
              "2    553   1116  \n",
              "3    594   1208  \n",
              "4    524   1055  \n",
              "5    595   1201  \n",
              "6    512   1041  \n",
              "7    492    996  \n",
              "8    468    950  \n",
              "9    497   1017  \n",
              "10   515   1050  \n",
              "11   541   1085  \n",
              "12   493   1005  \n",
              "13   556   1115  \n",
              "14   532   1074  \n",
              "15   635   1275  \n",
              "16   628   1260  \n",
              "17   616   1247  \n",
              "18   586   1198  \n",
              "19   499   1012  \n",
              "21   551   1107  \n",
              "22   495   1005  \n",
              "23   651   1295  \n",
              "24   607   1242  \n",
              "25   631   1271  \n",
              "26   591   1196  \n",
              "27   625   1253  \n",
              "28   553   1116  \n",
              "29   520   1052  \n",
              "30   526   1056  \n",
              "31   561   1138  \n",
              "32   523   1052  \n",
              "33   535   1081  \n",
              "34   621   1256  \n",
              "35   570   1149  \n",
              "36   517   1047  \n",
              "37   548   1108  \n",
              "38   531   1071  \n",
              "39   524   1062  \n",
              "40   521   1064  \n",
              "41   603   1216  \n",
              "42   604   1228  \n",
              "43   507   1020  \n",
              "44   614   1238  \n",
              "45   551   1114  \n",
              "46   541   1102  \n",
              "47   534   1075  \n",
              "48   528   1086  \n",
              "49   649   1291  \n",
              "50   604   1230  "
            ]
          },
          "metadata": {},
          "execution_count": 17
        }
      ],
      "metadata": {
        "id": "PWlukLKUvFQN"
      }
    },
    {
      "cell_type": "code",
      "execution_count": 20,
      "source": [
        "# Identifying the Missing Data\r\n",
        "#\r\n",
        "def miss(data):\r\n",
        "    return data.isnull().sum()\r\n",
        "\r\n",
        "miss(df1), miss(df2)\r\n"
      ],
      "outputs": [
        {
          "output_type": "execute_result",
          "data": {
            "text/plain": [
              "(State                                 0\n",
              " Participation                         0\n",
              " Evidence-Based Reading and Writing    0\n",
              " Math                                  0\n",
              " Total                                 0\n",
              " dtype: int64,\n",
              " State                                 0\n",
              " Participation                         0\n",
              " Evidence-Based Reading and Writing    0\n",
              " Math                                  0\n",
              " Total                                 0\n",
              " dtype: int64)"
            ]
          },
          "metadata": {},
          "execution_count": 20
        }
      ],
      "metadata": {
        "id": "PvCYb6dgW4yh"
      }
    },
    {
      "cell_type": "code",
      "execution_count": null,
      "source": [
        "# Dealing with the Missing Data\r\n",
        "#"
      ],
      "outputs": [],
      "metadata": {
        "id": "MpsDGKZHsf_W"
      }
    },
    {
      "cell_type": "code",
      "execution_count": 21,
      "source": [
        "# More data cleaning procedures\r\n",
        "#\r\n",
        "\r\n",
        "def duplicates(data):\r\n",
        "    return data.duplicated().sum()\r\n",
        "\r\n",
        "duplicates(df1), duplicates(df2)"
      ],
      "outputs": [
        {
          "output_type": "execute_result",
          "data": {
            "text/plain": [
              "(0, 0)"
            ]
          },
          "metadata": {},
          "execution_count": 21
        }
      ],
      "metadata": {
        "id": "D-4I__6Os4C5"
      }
    },
    {
      "cell_type": "code",
      "execution_count": 30,
      "source": [
        "#merging Dataframes\r\n",
        "\r\n",
        "\r\n",
        "\r\n",
        "merged_data = df1.merge(df2, how=\"left\", on='State')\r\n",
        "merged_data.head(5)"
      ],
      "outputs": [
        {
          "output_type": "execute_result",
          "data": {
            "text/html": [
              "<div>\n",
              "<style scoped>\n",
              "    .dataframe tbody tr th:only-of-type {\n",
              "        vertical-align: middle;\n",
              "    }\n",
              "\n",
              "    .dataframe tbody tr th {\n",
              "        vertical-align: top;\n",
              "    }\n",
              "\n",
              "    .dataframe thead th {\n",
              "        text-align: right;\n",
              "    }\n",
              "</style>\n",
              "<table border=\"1\" class=\"dataframe\">\n",
              "  <thead>\n",
              "    <tr style=\"text-align: right;\">\n",
              "      <th></th>\n",
              "      <th>State</th>\n",
              "      <th>Participation_x</th>\n",
              "      <th>Evidence-Based Reading and Writing_x</th>\n",
              "      <th>Math_x</th>\n",
              "      <th>Total_x</th>\n",
              "      <th>Participation_y</th>\n",
              "      <th>Evidence-Based Reading and Writing_y</th>\n",
              "      <th>Math_y</th>\n",
              "      <th>Total_y</th>\n",
              "    </tr>\n",
              "  </thead>\n",
              "  <tbody>\n",
              "    <tr>\n",
              "      <th>0</th>\n",
              "      <td>Alabama</td>\n",
              "      <td>5%</td>\n",
              "      <td>593</td>\n",
              "      <td>572</td>\n",
              "      <td>1165</td>\n",
              "      <td>6%</td>\n",
              "      <td>595</td>\n",
              "      <td>571</td>\n",
              "      <td>1166</td>\n",
              "    </tr>\n",
              "    <tr>\n",
              "      <th>1</th>\n",
              "      <td>Alaska</td>\n",
              "      <td>38%</td>\n",
              "      <td>547</td>\n",
              "      <td>533</td>\n",
              "      <td>1080</td>\n",
              "      <td>43%</td>\n",
              "      <td>562</td>\n",
              "      <td>544</td>\n",
              "      <td>1106</td>\n",
              "    </tr>\n",
              "    <tr>\n",
              "      <th>2</th>\n",
              "      <td>Arizona</td>\n",
              "      <td>30%</td>\n",
              "      <td>563</td>\n",
              "      <td>553</td>\n",
              "      <td>1116</td>\n",
              "      <td>29%</td>\n",
              "      <td>577</td>\n",
              "      <td>572</td>\n",
              "      <td>1149</td>\n",
              "    </tr>\n",
              "    <tr>\n",
              "      <th>3</th>\n",
              "      <td>Arkansas</td>\n",
              "      <td>3%</td>\n",
              "      <td>614</td>\n",
              "      <td>594</td>\n",
              "      <td>1208</td>\n",
              "      <td>5%</td>\n",
              "      <td>592</td>\n",
              "      <td>576</td>\n",
              "      <td>1169</td>\n",
              "    </tr>\n",
              "    <tr>\n",
              "      <th>4</th>\n",
              "      <td>California</td>\n",
              "      <td>53%</td>\n",
              "      <td>531</td>\n",
              "      <td>524</td>\n",
              "      <td>1055</td>\n",
              "      <td>60%</td>\n",
              "      <td>540</td>\n",
              "      <td>536</td>\n",
              "      <td>1076</td>\n",
              "    </tr>\n",
              "  </tbody>\n",
              "</table>\n",
              "</div>"
            ],
            "text/plain": [
              "        State Participation_x  Evidence-Based Reading and Writing_x  Math_x  \\\n",
              "0     Alabama              5%                                   593     572   \n",
              "1      Alaska             38%                                   547     533   \n",
              "2     Arizona             30%                                   563     553   \n",
              "3    Arkansas              3%                                   614     594   \n",
              "4  California             53%                                   531     524   \n",
              "\n",
              "   Total_x Participation_y  Evidence-Based Reading and Writing_y  Math_y  \\\n",
              "0     1165              6%                                   595     571   \n",
              "1     1080             43%                                   562     544   \n",
              "2     1116             29%                                   577     572   \n",
              "3     1208              5%                                   592     576   \n",
              "4     1055             60%                                   540     536   \n",
              "\n",
              "   Total_y  \n",
              "0     1166  \n",
              "1     1106  \n",
              "2     1149  \n",
              "3     1169  \n",
              "4     1076  "
            ]
          },
          "metadata": {},
          "execution_count": 30
        }
      ],
      "metadata": {}
    },
    {
      "cell_type": "markdown",
      "source": [
        "## 6. Exploratory Analysis"
      ],
      "metadata": {
        "id": "rF2ABPsHUtbZ"
      }
    },
    {
      "cell_type": "code",
      "execution_count": 35,
      "source": [
        "# Ploting the univariate summaries and recording our observations\r\n",
        "#\r\n",
        "\r\n",
        "mean_subject = merged_data[['Evidence-Based Reading and Writing_x', 'Math_x', 'Evidence-Based Reading and Writing_y', 'Math_y']].mean()\r\n",
        "mean_subject\r\n",
        "\r\n",
        "rangeq = (merged_data['Math_y'].mean() - merged_data['Math_x'].mean()), (merged_data['Evidence-Based Reading and Writing_x'].mean() - merged_data['Evidence-Based Reading and Writing_y'].mean())\r\n",
        "\r\n",
        "\r\n"
      ],
      "outputs": [],
      "metadata": {
        "id": "5nnRToniXGDK"
      }
    },
    {
      "cell_type": "markdown",
      "source": [
        "## 7. Implementing the Solution"
      ],
      "metadata": {
        "id": "vTbdjSrhVIiT"
      }
    },
    {
      "cell_type": "code",
      "execution_count": null,
      "source": [
        "# Implementing the Solution\r\n",
        "# "
      ],
      "outputs": [],
      "metadata": {
        "id": "PJLZaRzJXJ3w"
      }
    },
    {
      "cell_type": "markdown",
      "source": [
        "## 8. Challenging the solution"
      ],
      "metadata": {
        "id": "lQ2G4ZPDVOXE"
      }
    },
    {
      "cell_type": "markdown",
      "source": [
        "> The easy solution is nice because it is, well, easy, but you should never allow those results to hold the day. You should always be thinking of ways to challenge the results, especially if those results comport with your prior expectation.\n",
        "\n",
        "\n",
        "\n",
        "\n"
      ],
      "metadata": {
        "id": "jWVGKGuiYMWg"
      }
    },
    {
      "cell_type": "code",
      "execution_count": null,
      "source": [
        "# Reviewing the Solution \r\n",
        "#"
      ],
      "outputs": [],
      "metadata": {
        "id": "j3x3SXZ4XT_L"
      }
    },
    {
      "cell_type": "markdown",
      "source": [
        "## 9. Follow up questions"
      ],
      "metadata": {
        "id": "xrmHVMVsVS--"
      }
    },
    {
      "cell_type": "markdown",
      "source": [
        "> At this point, we can refine our question or collect new data, all in an iterative process to get at the truth.\n",
        "\n"
      ],
      "metadata": {
        "id": "pth2qSWhuBIy"
      }
    },
    {
      "cell_type": "markdown",
      "source": [
        "### a). Did we have the right data?"
      ],
      "metadata": {
        "id": "HPQviDmNtta8"
      }
    },
    {
      "cell_type": "markdown",
      "source": [
        "### b). Do we need other data to answer our question?"
      ],
      "metadata": {
        "id": "qjFHK1CKty7o"
      }
    },
    {
      "cell_type": "markdown",
      "source": [
        "### c). Did we have the right question?"
      ],
      "metadata": {
        "id": "HSsicSdvt4Zs"
      }
    }
  ]
}
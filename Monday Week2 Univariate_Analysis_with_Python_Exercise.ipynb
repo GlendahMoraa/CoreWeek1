{
  "nbformat": 4,
  "nbformat_minor": 2,
  "metadata": {
    "colab": {
      "name": "Univariate Analysis with Python - Exercise",
      "provenance": [],
      "collapsed_sections": [
        "kLkivweO1Iii",
        "InrgA2D21MCl",
        "0CRs-dFC1ohx",
        "ck0zE_a43uV-",
        "NCrhoYJz1dUY",
        "jRKV0pa04BQH",
        "yXH8QAl71vLq",
        "6lNbN0xS4XAY",
        "QIuhupEZ1y_S",
        "GqietlVA2BUa",
        "Z6im-o4g4pK6",
        "8POt4f4D2LcH",
        "xumXllAg5A6N",
        "kKZFF5-Q6d5c",
        "32s_izI76icw",
        "DHNDapES6-4D",
        "NqN2REVg6xM7",
        "uXIKUeun7Tz6"
      ],
      "toc_visible": true
    },
    "kernelspec": {
      "name": "python3",
      "display_name": "Python 3.9.5 64-bit"
    },
    "language_info": {
      "name": "python",
      "version": "3.9.5",
      "mimetype": "text/x-python",
      "codemirror_mode": {
        "name": "ipython",
        "version": 3
      },
      "pygments_lexer": "ipython3",
      "nbconvert_exporter": "python",
      "file_extension": ".py"
    },
    "interpreter": {
      "hash": "247ab06e135bb35fa78c5eff31b2a9a0050dcb5fb773c2631d2a29ac689eeccb"
    }
  },
  "cells": [
    {
      "cell_type": "markdown",
      "source": [
        "<font color=\"green\">*To start working on this notebook, or any other notebook that we will use in the Moringa Data Science Course, we will need to save our own copy of it. We can do this by clicking File > Save a Copy in Drive. We will then be able to make edits to our own copy of this notebook.*</font>"
      ],
      "metadata": {
        "id": "adeOETQPnPAj"
      }
    },
    {
      "cell_type": "markdown",
      "source": [
        "# Univariate Analysis with Python - Exercise"
      ],
      "metadata": {
        "id": "FtNfyN9C1FSE"
      }
    },
    {
      "cell_type": "markdown",
      "source": [
        "## 1.0 Importing Libraries"
      ],
      "metadata": {
        "id": "kLkivweO1Iii"
      }
    },
    {
      "cell_type": "code",
      "execution_count": 1,
      "source": [
        "# Importing Pandas\r\n",
        "# \r\n",
        "import pandas as pd"
      ],
      "outputs": [],
      "metadata": {
        "id": "7rB0TURq1Mfo"
      }
    },
    {
      "cell_type": "code",
      "execution_count": 2,
      "source": [
        "# Importing Numpy\r\n",
        "#\r\n",
        "import numpy as np"
      ],
      "outputs": [],
      "metadata": {
        "id": "J7sTS1pS6w17"
      }
    },
    {
      "cell_type": "code",
      "execution_count": 3,
      "source": [
        "# Importing Seaborn\r\n",
        "#\r\n",
        "import seaborn as sns"
      ],
      "outputs": [],
      "metadata": {
        "id": "T7fU_A8G3j2c"
      }
    },
    {
      "cell_type": "code",
      "execution_count": 5,
      "source": [
        "# Importing Matplotlib\r\n",
        "#\r\n",
        "import matplotlib.pyplot as plt"
      ],
      "outputs": [],
      "metadata": {
        "id": "h9m2KAfqKr_R"
      }
    },
    {
      "cell_type": "markdown",
      "source": [
        "## 1.2 Categorical Variables"
      ],
      "metadata": {
        "id": "InrgA2D21MCl"
      }
    },
    {
      "cell_type": "markdown",
      "source": [
        "### 1.21 Frequency Tables"
      ],
      "metadata": {
        "id": "0CRs-dFC1ohx"
      }
    },
    {
      "cell_type": "code",
      "execution_count": 4,
      "source": [
        "# Example 1\r\n",
        "# ---\r\n",
        "# Creating Frequency table of column using the value_counts() function\r\n",
        "# ---\r\n",
        "# \r\n",
        "\r\n",
        "data = {'Name':['John', 'Paul', 'Jame','Mark', 'Susan', 'Ruth', 'Ragna', 'Irene', 'Gilbert', 'Esther', 'Salome', 'Moses'],\r\n",
        "       'County':['Nairobi', 'Kiambu', 'Mombasa', 'Kisumu', 'Kiambu', 'Mombasa', 'Nairobi', 'Mombasa', 'Kisumu', 'Nairobi', 'Kiambu','Mombasa']}\r\n",
        " \r\n",
        "# Creating our dataframe\r\n",
        "frequency_df = pd.DataFrame(data, columns=['Name', 'County'])\r\n",
        "frequency_df\r\n",
        "\r\n",
        "# Creating our frequency table\r\n",
        "# ---\r\n",
        "frequency_df.County.value_counts()"
      ],
      "outputs": [
        {
          "output_type": "execute_result",
          "data": {
            "text/plain": [
              "Mombasa    4\n",
              "Nairobi    3\n",
              "Kiambu     3\n",
              "Kisumu     2\n",
              "Name: County, dtype: int64"
            ]
          },
          "metadata": {},
          "execution_count": 4
        }
      ],
      "metadata": {
        "id": "S1BPZ36A1LiF"
      }
    },
    {
      "cell_type": "markdown",
      "source": [
        "#### <font color=\"green\">1.21 Challenges</font>"
      ],
      "metadata": {
        "id": "ck0zE_a43uV-"
      }
    },
    {
      "cell_type": "code",
      "execution_count": 6,
      "source": [
        "# Challenge 1\r\n",
        "# ---\r\n",
        "# Question: Generate a frequency table from the categorical data in the following dataset\r\n",
        "# ---\r\n",
        "# Dataset url = http://bit.ly/IrisDataset\r\n",
        "# ---\r\n",
        "# \r\n",
        "\r\n",
        "iris_dataset = pd.read_csv('IRIS.csv')\r\n",
        "iris_dataset.species.value_counts()"
      ],
      "outputs": [
        {
          "output_type": "execute_result",
          "data": {
            "text/plain": [
              "Iris-setosa        50\n",
              "Iris-versicolor    50\n",
              "Iris-virginica     50\n",
              "Name: species, dtype: int64"
            ]
          },
          "metadata": {},
          "execution_count": 6
        }
      ],
      "metadata": {
        "id": "UNbhFPzR33L6"
      }
    },
    {
      "cell_type": "markdown",
      "source": [
        "### 1.22 Bar Charts and Histograms"
      ],
      "metadata": {
        "id": "NCrhoYJz1dUY"
      }
    },
    {
      "cell_type": "code",
      "execution_count": 7,
      "source": [
        "# Example 1\r\n",
        "# ---\r\n",
        "# Bar charts are used to display values associated with categorical data.\r\n",
        "# ---\r\n",
        "# \r\n",
        "\r\n",
        "# Defining our data\r\n",
        "x = ['Nuclear', 'Hydro', 'Gas', 'Oil', 'Coal', 'Biofuel']\r\n",
        "energy = [5, 6, 15, 22, 24, 8]\r\n",
        " \r\n",
        "\r\n",
        "plt.bar(x, energy, color='green')\r\n",
        "\r\n",
        "# Labelling our x axis\r\n",
        "plt.xlabel(\"Energy Source\")\r\n",
        "\r\n",
        "# Labelling our y axis\r\n",
        "plt.ylabel(\"Energy Output (GJ)\")\r\n",
        "\r\n",
        "# Giving a title to our Bar chart\r\n",
        "plt.title(\"Energy output from various fuel sources\")\r\n",
        "\r\n",
        "# Displaying our chart\r\n",
        "plt.show()"
      ],
      "outputs": [
        {
          "output_type": "display_data",
          "data": {
            "image/png": "[encoded data removed]",
            "text/plain": [
              "<Figure size 432x288 with 1 Axes>"
            ]
          },
          "metadata": {
            "needs_background": "light"
          }
        }
      ],
      "metadata": {
        "id": "_3kf4a5q1ylu"
      }
    },
    {
      "cell_type": "code",
      "execution_count": 8,
      "source": [
        "# Example 2\r\n",
        "# ---\r\n",
        "# We can also create the exact same chart horizontally as shown \r\n",
        "# ---\r\n",
        "# \r\n",
        "\r\n",
        "x = ['Nuclear', 'Hydro', 'Gas', 'Oil', 'Coal', 'Biofuel']\r\n",
        "energy = [15, 16, 25, 32, 34, 18]  \r\n",
        "\r\n",
        "plt.barh(x, energy)\r\n",
        "plt.ylabel(\"Energy Source\")\r\n",
        "plt.xlabel(\"Energy Output (GJ)\")\r\n",
        "plt.title(\"Energy output from various fuel sources\")\r\n",
        "plt.show()"
      ],
      "outputs": [
        {
          "output_type": "display_data",
          "data": {
            "image/png": "[encoded data removed]",
            "text/plain": [
              "<Figure size 432x288 with 1 Axes>"
            ]
          },
          "metadata": {
            "needs_background": "light"
          }
        }
      ],
      "metadata": {
        "id": "RWgB6pZg3-o6"
      }
    },
    {
      "cell_type": "code",
      "execution_count": 10,
      "source": [
        "# Example 3\r\n",
        "# ---\r\n",
        "# Very much like a bar chart, histograms tend to show distribution by grouping segments together. \r\n",
        "# Examples of this might be age groups, or scores on a test. \r\n",
        "# Rather than showing every single age a group might be, maybe you just show people from 20-25, 25-30... and so on.\r\n",
        "# ---\r\n",
        "#\r\n",
        "\r\n",
        "population_ages = [22, 55, 62, 45, 21, 22, 34, 42, 42, 4, 99, 102, 110, 120, 121, 122, 130, 111, 115, 112, 80, 75, 65, 54, 44, 43, 42, 48]\r\n",
        "bins            = [0, 10, 20, 30, 40, 50, 60, 70, 80, 90, 100, 110, 120, 130]\r\n",
        "\r\n",
        "plt.hist(population_ages, bins=10, histtype='bar', rwidth=0.9)\r\n",
        "\r\n",
        "plt.xlabel('x')\r\n",
        "plt.ylabel('y')\r\n",
        "plt.title('Histogram of Population') \r\n",
        "plt.show()"
      ],
      "outputs": [
        {
          "output_type": "display_data",
          "data": {
            "image/png": "[encoded data removed]",
            "text/plain": [
              "<Figure size 432x288 with 1 Axes>"
            ]
          },
          "metadata": {
            "needs_background": "light"
          }
        }
      ],
      "metadata": {
        "id": "n21agJh93_w0"
      }
    },
    {
      "cell_type": "code",
      "execution_count": 11,
      "source": [
        "# Example 4\r\n",
        "# ---\r\n",
        "# Creating a histogram from a given dataset using values from the points column\r\n",
        "# ---\r\n",
        "# Dataset url = http://bit.ly/WineDataset\r\n",
        "# ---\r\n",
        "#\r\n",
        "\r\n",
        "# Loading out datasethttp://bit.ly/WineDataset\r\n",
        "wine_df = pd.read_csv(\"winemag-data_first150k.csv\")\r\n",
        "\r\n",
        "wine_points = wine_df['points']\r\n",
        "\r\n",
        "plt.hist(wine_points, bins=10, histtype='bar', rwidth=0.9)\r\n",
        "plt.xlabel('No. of Wines')\r\n",
        "plt.ylabel('Quantity')\r\n",
        "plt.title('Histogram of Points of Wine vs No. of Wines')\r\n",
        "plt.show()"
      ],
      "outputs": [
        {
          "output_type": "display_data",
          "data": {
            "image/png": "[encoded data removed]",
            "text/plain": [
              "<Figure size 432x288 with 1 Axes>"
            ]
          },
          "metadata": {
            "needs_background": "light"
          }
        }
      ],
      "metadata": {
        "id": "eGXHLiBY8jbI"
      }
    },
    {
      "cell_type": "markdown",
      "source": [
        "#### <font color=\"green\">1.22 Challenges</font>"
      ],
      "metadata": {
        "id": "jRKV0pa04BQH"
      }
    },
    {
      "cell_type": "code",
      "execution_count": 12,
      "source": [
        "# Challenge 1\r\n",
        "# ---\r\n",
        "# Question: Create a bar chart given the following dataset\r\n",
        "# ---\r\n",
        "# \r\n",
        "languages = ('Python', 'C++', 'Java', 'Perl', 'Scala', 'Lisp') \r\n",
        "performance = [20, 18, 66, 14, 12, 11]\r\n",
        "\r\n",
        "plt.bar(languages, performance)\r\n",
        "plt.xlabel('Languages')\r\n",
        "plt.ylabel('Perfomance')\r\n",
        "plt.title('Language perfomamce')\r\n",
        "plt.show()"
      ],
      "outputs": [
        {
          "output_type": "display_data",
          "data": {
            "image/png": "[encoded data removed]",
            "text/plain": [
              "<Figure size 432x288 with 1 Axes>"
            ]
          },
          "metadata": {
            "needs_background": "light"
          }
        }
      ],
      "metadata": {
        "id": "VWgtpnM54Mf7"
      }
    },
    {
      "cell_type": "code",
      "execution_count": 13,
      "source": [
        "# Challenge 2\r\n",
        "# ---\r\n",
        "# Question: Create a histogram from the following data\r\n",
        "# ---\r\n",
        "# \r\n",
        "x = [21, 22, 23, 4, 5, 6, 77, 8, 9, 10, 31, 32, 33, 34, 35, 36, 37, 18, 49, 50, 100]\r\n",
        "num_bins = 5\r\n",
        "\r\n",
        "plt.hist(x, bins=5, histtype='bar', rwidth=0.9)\r\n",
        "plt.xlabel('Bin Size')\r\n",
        "plt.ylabel(\"x Count\")\r\n",
        "plt.show()"
      ],
      "outputs": [
        {
          "output_type": "display_data",
          "data": {
            "image/png": "[encoded data removed]",
            "text/plain": [
              "<Figure size 432x288 with 1 Axes>"
            ]
          },
          "metadata": {
            "needs_background": "light"
          }
        }
      ],
      "metadata": {
        "id": "FUy2tpOl4Nax"
      }
    },
    {
      "cell_type": "code",
      "execution_count": 14,
      "source": [
        "# Challenge 3\r\n",
        "# ---\r\n",
        "# Question: Create a histogram from a given dataset using values from the sepal length column\r\n",
        "# ---\r\n",
        "# Dataset url = http://bit.ly/IrisDataset\r\n",
        "# ---\r\n",
        "# \r\n",
        "\r\n",
        "sepal_length_df = iris_dataset.sepal_length\r\n",
        "plt.hist(sepal_length_df, bins=7, histtype='bar', rwidth=0.9)\r\n",
        "plt.xlabel('Sepal Length')\r\n",
        "plt.ylabel('Sepal Length Count')"
      ],
      "outputs": [
        {
          "output_type": "execute_result",
          "data": {
            "text/plain": [
              "Text(0, 0.5, 'Sepal Length Count')"
            ]
          },
          "metadata": {},
          "execution_count": 14
        },
        {
          "output_type": "display_data",
          "data": {
            "image/png": "[encoded data removed]",
            "text/plain": [
              "<Figure size 432x288 with 1 Axes>"
            ]
          },
          "metadata": {
            "needs_background": "light"
          }
        }
      ],
      "metadata": {
        "id": "eQV9iT2u4Po_"
      }
    },
    {
      "cell_type": "markdown",
      "source": [
        "### 1.23 Pie Charts"
      ],
      "metadata": {
        "id": "yXH8QAl71vLq"
      }
    },
    {
      "cell_type": "code",
      "execution_count": 15,
      "source": [
        "# Example 1\r\n",
        "# ---\r\n",
        "# Question: Create a pie chart usig the sizes list given below\r\n",
        "# ---\r\n",
        "#\r\n",
        "\r\n",
        "# Defining our labels, sizes, colors and explode (this will explode the 1st slice)\r\n",
        "labels = 'Python', 'C++', 'Ruby', 'Java'\r\n",
        "sizes  = [215, 130, 245, 210]\r\n",
        "colors = ['gold', 'yellowgreen', 'lightcoral', 'lightskyblue']\r\n",
        "\r\n",
        "# Highlights a particular Value in plot\r\n",
        "explode = (0.1, 0, 0, 0)  \r\n",
        "\r\n",
        "# Plotting our pie chart\r\n",
        "plt.pie(sizes, explode=explode, labels=labels, colors=colors,\r\n",
        "autopct='%1.1f%%', shadow=True, startangle=140)\r\n",
        "\r\n",
        "plt.axis('equal')\r\n",
        "plt.title('Pie Chart of Programming Languages')\r\n",
        "plt.show()"
      ],
      "outputs": [
        {
          "output_type": "display_data",
          "data": {
            "image/png": "[encoded data removed]",
            "text/plain": [
              "<Figure size 432x288 with 1 Axes>"
            ]
          },
          "metadata": {}
        }
      ],
      "metadata": {
        "id": "UXYA0eoB09kd"
      }
    },
    {
      "cell_type": "code",
      "execution_count": 16,
      "source": [
        "# Example 2\r\n",
        "# ---\r\n",
        "# Question: Create a pie chart to show the distribution of age and population\r\n",
        "# ---\r\n",
        "# \r\n",
        "\r\n",
        "# Loading out dataset\r\n",
        "df = pd.read_csv(\"age_populatuon.csv\")\r\n",
        "\r\n",
        "# # Previewing the dataset \r\n",
        "df.head()\r\n",
        "\r\n",
        "# # Assigning our columns to population and age variables\r\n",
        "population = df['population']\r\n",
        "age        = df['age']\r\n",
        "\r\n",
        "explode = (0.1, 0, 0, 0, 0, 0, 0) \r\n",
        "# Plotting our pie chart\r\n",
        "# -------\r\n",
        "plt.pie(population, labels = age, explode= explode, autopct = '%1.1f%%', shadow = True, startangle = 140)\r\n",
        "plt.axis('equal')\r\n",
        "plt.title('Pie Chart of Age population')\r\n",
        "plt.show()"
      ],
      "outputs": [
        {
          "output_type": "display_data",
          "data": {
            "image/png": "[encoded data removed]",
            "text/plain": [
              "<Figure size 432x288 with 1 Axes>"
            ]
          },
          "metadata": {}
        }
      ],
      "metadata": {
        "id": "4IIwpXsF4To9"
      }
    },
    {
      "cell_type": "markdown",
      "source": [
        "#### <font color=\"green\">1.23 Challenges</font>"
      ],
      "metadata": {
        "id": "6lNbN0xS4XAY"
      }
    },
    {
      "cell_type": "code",
      "execution_count": 17,
      "source": [
        "# Challenge 1\r\n",
        "# ---\r\n",
        "# Question: Create a pie chart of county population given the following\r\n",
        "# ---\r\n",
        "# \r\n",
        "\r\n",
        "county_population = [12344408, 2441523, 30523371, 110012442, 47886051]\r\n",
        "counties = ['Thika', 'Mombasa', 'Kisumu', 'Nairobi', 'Nakuru']\r\n",
        "\r\n",
        "explode = (0.1, 0, 0, 0, 0)\r\n",
        "\r\n",
        "\r\n",
        "plt.pie(county_population, labels=counties, autopct='%1.1f%%', explode=explode, shadow=True, startangle=140)\r\n",
        "plt.axis('equal')\r\n",
        "plt.title('County Population')"
      ],
      "outputs": [
        {
          "output_type": "execute_result",
          "data": {
            "text/plain": [
              "Text(0.5, 1.0, 'County Population')"
            ]
          },
          "metadata": {},
          "execution_count": 17
        },
        {
          "output_type": "display_data",
          "data": {
            "image/png": "[encoded data removed]",
            "text/plain": [
              "<Figure size 432x288 with 1 Axes>"
            ]
          },
          "metadata": {}
        }
      ],
      "metadata": {
        "id": "SDYT8o0U4WE9"
      }
    },
    {
      "cell_type": "code",
      "execution_count": 18,
      "source": [
        "# Challenge 2\r\n",
        "# ---\r\n",
        "# Question: Acting as Chief Data Strategist for a ride sharing company, \r\n",
        "# you are expected to offer data-backed guidance on new opportunities for market differentiation.\r\n",
        "# Merge the two datasets into a single dataset based on the cities they share then \r\n",
        "# produce the following pie chart: Pie Chart of % of Total Fares by City Type.\r\n",
        "# Hint: When making the pie Chart, experiment with effects like shadow, startangle, and explosion\r\n",
        "# ---\r\n",
        "# Dataset 1 url = http://bit.ly/City-RideDataset\r\n",
        "# Dataset 2 url = http://bit.ly/RideDataset\r\n",
        "# ---\r\n",
        "# REading the dataframes\r\n",
        "data1 = pd.read_csv('ride_data.csv')\r\n",
        "data2 = pd.read_csv('ride_dateset_one.csv')\r\n",
        "\r\n",
        "#Merging the two data frames\r\n",
        "\r\n",
        "merged_df= data1.merge(data2, how='left', on='city')\r\n",
        "merged_df.head(10)\r\n",
        "\r\n",
        "# Drawing a pie chart\r\n",
        "\r\n",
        "gdf = merged_df.groupby(merged_df['type'])['fare'].sum()\r\n",
        "# print(gdf)\r\n",
        "\r\n",
        "# Drawing pie chart\r\n",
        "\r\n",
        "explode= (0.1, 0, 0)\r\n",
        "labels = ['Rural', 'Suburban', 'Urban']\r\n",
        "plt.pie(gdf, labels=labels, autopct='%1.1f%%', colors=('grey', 'gold', 'green'), explode=explode, shadow=True, startangle=140)\r\n",
        "\r\n",
        "plt.axis('equal')\r\n",
        "\r\n",
        "\r\n",
        "plt.title('Total Fares by City Type')\r\n"
      ],
      "outputs": [
        {
          "output_type": "execute_result",
          "data": {
            "text/plain": [
              "Text(0.5, 1.0, 'Total Fares by City Type')"
            ]
          },
          "metadata": {},
          "execution_count": 18
        },
        {
          "output_type": "display_data",
          "data": {
            "image/png": "[encoded data removed]",
            "text/plain": [
              "<Figure size 432x288 with 1 Axes>"
            ]
          },
          "metadata": {}
        }
      ],
      "metadata": {
        "id": "xRcsBrgL4jDB"
      }
    },
    {
      "cell_type": "code",
      "execution_count": 19,
      "source": [
        "# Challenge 3\r\n",
        "# ---\r\n",
        "# Question: From the combined dataset in Challenge 2, \r\n",
        "# create a pie chart of % of Total Rides by City Type\r\n",
        "# ---\r\n",
        "#\r\n",
        "grp = merged_df.groupby('type')['ride_id'].count()\r\n",
        "# print(grp)\r\n",
        "\r\n",
        "#Drawing pie chart\r\n",
        "\r\n",
        "explode= (0.1, 0, 0)\r\n",
        "labels = ['Rural', 'Suburban', 'Urban']\r\n",
        "\r\n",
        "plt.pie(grp, labels=labels, explode=explode, autopct='%1.1f%%', colors=('red', 'blue', 'green'), shadow=True, startangle=140)\r\n",
        "plt.axis('equal')\r\n",
        "plt.title('Total Rides by City Type')"
      ],
      "outputs": [
        {
          "output_type": "execute_result",
          "data": {
            "text/plain": [
              "Text(0.5, 1.0, 'Total Rides by City Type')"
            ]
          },
          "metadata": {},
          "execution_count": 19
        },
        {
          "output_type": "display_data",
          "data": {
            "image/png": "[encoded data removed]",
            "text/plain": [
              "<Figure size 432x288 with 1 Axes>"
            ]
          },
          "metadata": {}
        }
      ],
      "metadata": {
        "id": "EpTRmGQF4kyA"
      }
    },
    {
      "cell_type": "code",
      "execution_count": 20,
      "source": [
        "# Challenge 4\r\n",
        "# ---\r\n",
        "# Question: From the combined dataset in Challenge 2, \r\n",
        "# create a pie chart % of Total Drivers by City Type\r\n",
        "# ---\r\n",
        "#\r\n",
        "tot_drivers = merged_df.groupby('type')['driver_count'].sum()\r\n",
        "# print(tot_drivers)\r\n",
        "\r\n",
        "#Drawing pie chart\r\n",
        "\r\n",
        "explode= (0.1, 0, 0)\r\n",
        "labels = ['Rural', 'Suburban', 'Urban']\r\n",
        "\r\n",
        "plt.pie(tot_drivers, labels=labels, explode=explode, autopct='%1.1f%%', colors=('red', 'blue', 'white'), shadow=True, startangle=140)\r\n",
        "plt.axis('equal')\r\n",
        "plt.title('Total Drivers by City Type')"
      ],
      "outputs": [
        {
          "output_type": "execute_result",
          "data": {
            "text/plain": [
              "Text(0.5, 1.0, 'Total Drivers by City Type')"
            ]
          },
          "metadata": {},
          "execution_count": 20
        },
        {
          "output_type": "display_data",
          "data": {
            "image/png": "[encoded data removed]",
            "text/plain": [
              "<Figure size 432x288 with 1 Axes>"
            ]
          },
          "metadata": {}
        }
      ],
      "metadata": {
        "id": "H4FACJNg6kPw"
      }
    },
    {
      "cell_type": "markdown",
      "source": [
        "## 1.3 Numerical Variables"
      ],
      "metadata": {
        "id": "QIuhupEZ1y_S"
      }
    },
    {
      "cell_type": "markdown",
      "source": [
        "### 1.31 Measures of Central Tendency"
      ],
      "metadata": {
        "id": "GqietlVA2BUa"
      }
    },
    {
      "cell_type": "code",
      "execution_count": 22,
      "source": [
        "# Example 1: Mean\r\n",
        "# Mean or Average is a central tendency of the data i.e. a number around which a whole data is spread out. \r\n",
        "# In a way, it is a single number which can estimate the value of whole data set.\r\n",
        "# ---\r\n",
        "# Question: From the following dataset, What is the mean monthly consumption and export of tea in millions of kg between 2003 and 2015\r\n",
        "# Dataset url = http://bit.ly/tea-exports\r\n",
        "# ---\r\n",
        "\r\n",
        "# Loading the dataset\r\n",
        "tea_exports_df = pd.read_csv(\"National_Monthly_Production_Consumption_and_Export_of_Tea_in_Millions_of_Kg_between_20032015.csv\")\r\n",
        "\r\n",
        "# Previewing the dataset\r\n",
        "tea_exports_df.head()\r\n",
        "\r\n",
        "# Finding the mean\r\n",
        "tea_exports_df[\"Millions_in_KGS_\"].mean()"
      ],
      "outputs": [
        {
          "output_type": "execute_result",
          "data": {
            "text/plain": [
              "24.452987654320985"
            ]
          },
          "metadata": {},
          "execution_count": 22
        }
      ],
      "metadata": {
        "id": "u_W0Wibz13A8"
      }
    },
    {
      "cell_type": "code",
      "execution_count": 24,
      "source": [
        "# Example 2: Median\r\n",
        "# Median is the value which divides the data in 2 equal parts i.e. number of terms on right side of it \r\n",
        "# is same as number of terms on left side of it when data is arranged in either ascending or descending order.\r\n",
        "# ---\r\n",
        "# Question: From the following dataset, What was the monthly median fish production(kgs) in Kisumu sub county?\r\n",
        "# Dataset url = http://bit.ly/Kisumu-fish-production\r\n",
        "# ---\r\n",
        "# \r\n",
        "\r\n",
        "# Loading the dataset\r\n",
        "kisumu_fish_production_df = pd.read_csv(\"Monthly_Fish_Production_in_Kisumu_West_Sub_County_by_Beaches_2016.csv\")\r\n",
        "\r\n",
        "# Previewing the dataset\r\n",
        "kisumu_fish_production_df.head()\r\n",
        "\r\n",
        "# Finding the median\r\n",
        "kisumu_fish_production_df[\"WEIGHT_KGS\"].median()"
      ],
      "outputs": [
        {
          "output_type": "execute_result",
          "data": {
            "text/plain": [
              "2424.0"
            ]
          },
          "metadata": {},
          "execution_count": 24
        }
      ],
      "metadata": {
        "id": "2DPrdaoc16tZ"
      }
    },
    {
      "cell_type": "code",
      "execution_count": 28,
      "source": [
        "# Example 3: Mode \r\n",
        "# Mode is the term appearing maximum time in data set i.e. term that has highest frequency.\r\n",
        "# ---\r\n",
        "# Question: From the given dataset, what was the mode target yield bags per hectare during the long rains?\r\n",
        "# Dataset url = http://bit.ly/Kisumu-crop-statistics\r\n",
        "# ---\r\n",
        "#\r\n",
        "\r\n",
        "# Loading the dataset\r\n",
        "kisumu_crop_statistics_df = pd.read_csv(\"Kisumu_County_Crop_Statistics.csv\")\r\n",
        "\r\n",
        "# Previewing the dataset\r\n",
        "kisumu_crop_statistics_df.head()\r\n",
        "\r\n",
        "# Finding the median\r\n",
        "kisumu_crop_statistics_df[\"TARGET_YIELD__BAG/HA_LONG_RAINS\"].mode()"
      ],
      "outputs": [
        {
          "output_type": "execute_result",
          "data": {
            "text/plain": [
              "0    10\n",
              "dtype: int64"
            ]
          },
          "metadata": {},
          "execution_count": 28
        }
      ],
      "metadata": {
        "id": "eYO9eGyH125E"
      }
    },
    {
      "cell_type": "markdown",
      "source": [
        "#### <font color=\"green\">1.32 Challenges</font>"
      ],
      "metadata": {
        "id": "Z6im-o4g4pK6"
      }
    },
    {
      "cell_type": "code",
      "execution_count": 32,
      "source": [
        "# Challenge 1: Mean\r\n",
        "# ---\r\n",
        "# Question: What was the mean target production bags of 90kg during short rains?\r\n",
        "# Dataset url = http://bit.ly/Kisumu-crop-statistics\r\n",
        "# ---\r\n",
        "# \r\n",
        "\r\n",
        "kisumu_crop_statistics_df['PROJECTED___PRODUCTION_BAGS_OF_90KG_EACH__SR'].mean()"
      ],
      "outputs": [
        {
          "output_type": "execute_result",
          "data": {
            "text/plain": [
              "3195.5666666666666"
            ]
          },
          "metadata": {},
          "execution_count": 32
        }
      ],
      "metadata": {
        "id": "bd8oXas94osH"
      }
    },
    {
      "cell_type": "code",
      "execution_count": 36,
      "source": [
        "# Challenge 2: Median\r\n",
        "# ---\r\n",
        "# Question: What was the median target production bags during long rains?\r\n",
        "# Dataset url = http://bit.ly/Kisumu-crop-statistics\r\n",
        "# ---\r\n",
        "#\r\n",
        "kisumu_crop_statistics_df['TARGET_PRODUCTION_BAGS_LONG_RAINS'].median()"
      ],
      "outputs": [
        {
          "output_type": "execute_result",
          "data": {
            "text/plain": [
              "3075.0"
            ]
          },
          "metadata": {},
          "execution_count": 36
        }
      ],
      "metadata": {
        "id": "lOwXYPaO4x7u"
      }
    },
    {
      "cell_type": "code",
      "execution_count": 37,
      "source": [
        "# Challenge 3: Mode \r\n",
        "# ---\r\n",
        "# Question: What was the mode projected yield bags per hectare during short rains?\r\n",
        "# Dataset url = http://bit.ly/Kisumu-crop-statistics\r\n",
        "# ---\r\n",
        "#\r\n",
        "kisumu_crop_statistics_df['TARGET_YIELD__BAG/HA_SHORT_RAINS'].mode()"
      ],
      "outputs": [
        {
          "output_type": "execute_result",
          "data": {
            "text/plain": [
              "0    10\n",
              "dtype: int64"
            ]
          },
          "metadata": {},
          "execution_count": 37
        }
      ],
      "metadata": {
        "id": "JyOIjUMD4y-7"
      }
    },
    {
      "cell_type": "markdown",
      "source": [
        "### 1.32 Measures of Dispersion/Variability/Spread"
      ],
      "metadata": {
        "id": "8POt4f4D2LcH"
      }
    },
    {
      "cell_type": "code",
      "execution_count": 41,
      "source": [
        "# Example 1: Standard Deviation  \r\n",
        "# Standard deviation is the measurement of average distance between each quantity and mean. \r\n",
        "# That is, how data is spread out from mean. A low standard deviation indicates that the data points \r\n",
        "# tend to be close to the mean of the data set, while a high standard deviation indicates that the \r\n",
        "# data points are spread out over a wider range of values.\r\n",
        "# There are situations when we have to choose between sample or population Standard Deviation. \r\n",
        "# When we are asked to find SD of some part of a population, a segment of population; \r\n",
        "# then we use sample Standard Deviation. But when we have to deal with a whole population, \r\n",
        "# then we use population Standard Deviation. As you know, in descriptive statistics, \r\n",
        "# we generally deal with a data available in a sample, not in a population.\r\n",
        "# ---\r\n",
        "# Question: What was the standard deviation for the Nakuru Couty Herbicide average prices?\r\n",
        "# Dataset url = http://bit.ly/NakuruCountyHerbicidePrices\r\n",
        "# ----\r\n",
        "# \r\n",
        "\r\n",
        "# Loading the dataset\r\n",
        "nakuru_county_herbicide_prices_df = pd.read_csv(\"Nakuru_County_Herbicide_prices_for_2015_2016.csv\")\r\n",
        "\r\n",
        "# Previewing the dataset\r\n",
        "nakuru_county_herbicide_prices_df.head()\r\n",
        "\r\n",
        "# Finding the standard deviation\r\n",
        "nakuru_county_herbicide_prices_df[\"Average_Price\"].std()"
      ],
      "outputs": [
        {
          "output_type": "execute_result",
          "data": {
            "text/plain": [
              "2539.974525115418"
            ]
          },
          "metadata": {},
          "execution_count": 41
        }
      ],
      "metadata": {
        "id": "kZeJoLg_2R3Q"
      }
    },
    {
      "cell_type": "code",
      "execution_count": 42,
      "source": [
        "# Example 2: Variance\r\n",
        "# Variance is a square of average distance between each quantity and mean. \r\n",
        "# That is it is square of standard deviation. It is a measure of how dispersed or spread out the set is, \r\n",
        "# something that the “average” (mean or median) is not designed to do. \r\n",
        "# If I tell you a data set has a variance of zero, for example, you know that every member of it is the same. \r\n",
        "# If the variance is high, especially as a ratio to the mean, \r\n",
        "# that tells you that the data have some very large dis-similarities amongst its members. \r\n",
        "# If one considers the mean to be a sort of centre of the data, \r\n",
        "# the variance tells you how scattered around the centre of mass the points are.\r\n",
        "# ---\r\n",
        "# Question: What was the variance of the Nakuru Couty Herbicide average prices?\r\n",
        "# Dataset url = http://bit.ly/NakuruCountyHerbicidePrices\r\n",
        "# ---\r\n",
        "#  \r\n",
        "\r\n",
        "# Finding the variance of the herbicide average prices\r\n",
        "nakuru_county_herbicide_prices_df[\"Average_Price\"].var()"
      ],
      "outputs": [
        {
          "output_type": "execute_result",
          "data": {
            "text/plain": [
              "6451470.5882352935"
            ]
          },
          "metadata": {},
          "execution_count": 42
        }
      ],
      "metadata": {
        "id": "P8vUwmx3-8iB"
      }
    },
    {
      "cell_type": "code",
      "execution_count": 43,
      "source": [
        "# Examples 3: Range\r\n",
        "# Range is one of the simplest techniques of descriptive statistics. \r\n",
        "# It is the difference between lowest and highest value.\r\n",
        "# ---\r\n",
        "# Question: What was the range of the Nakuru county herbicide prices?\r\n",
        "# Dataset url = http://bit.ly/NakuruCountyHerbicidePrices\r\n",
        "# ---\r\n",
        "#\r\n",
        "\r\n",
        "# Finding the min and max values of the herbicide average prices\r\n",
        "nakuru_county_herbicide_prices_max = nakuru_county_herbicide_prices_df[\"Average_Price\"].max()\r\n",
        "nakuru_county_herbicide_prices_min = nakuru_county_herbicide_prices_df[\"Average_Price\"].min()\r\n",
        "\r\n",
        "# Calculating the range\r\n",
        "nakuru_county_herbicide_prices_max - nakuru_county_herbicide_prices_min"
      ],
      "outputs": [
        {
          "output_type": "execute_result",
          "data": {
            "text/plain": [
              "7450"
            ]
          },
          "metadata": {},
          "execution_count": 43
        }
      ],
      "metadata": {
        "id": "j73naeos2RRR"
      }
    },
    {
      "cell_type": "code",
      "execution_count": 46,
      "source": [
        "# Example 4: Quantiles \r\n",
        "# In statistics and probability, quartiles are values that divide your data into quarters provided data is sorted in an ascending order. \r\n",
        "# There are three quartile values. First quartile value is at 25 percentile. \r\n",
        "# Second quartile is 50 percentile and third quartile is 75 percentile. \r\n",
        "# Second quartile (Q2) is median of the whole data. First quartile (Q1) is median of upper half of the data. \r\n",
        "# And Third Quartile (Q3) is median of lower half of the data.\r\n",
        "# ---\r\n",
        "# Question: Determine the quantiles of the Nakuru county herbicide prices\r\n",
        "# Dataset url = http://bit.ly/NakuruCountyHerbicidePrices\r\n",
        "# ---\r\n",
        "# \r\n",
        "\r\n",
        "# Finding the quantiles of the herbicide average prices\r\n",
        "nakuru_county_herbicide_prices_df[\"Average_Price\"].quantile([0.25,0.5,0.75])"
      ],
      "outputs": [
        {
          "output_type": "execute_result",
          "data": {
            "text/plain": [
              "0.25    1162.5\n",
              "0.50    1875.0\n",
              "0.75    3900.0\n",
              "Name: Average_Price, dtype: float64"
            ]
          },
          "metadata": {},
          "execution_count": 46
        }
      ],
      "metadata": {
        "id": "UobGI2kj2Q3Y"
      }
    },
    {
      "cell_type": "code",
      "execution_count": 47,
      "source": [
        "# Examples 5: Skewness\r\n",
        "# Skewness is a measure of the asymmetry of the probability distribution (http://bit.ly/ProbabilityDistribution)\r\n",
        "# of a real-valued random variable about its mean. The skewness value can be positive or negative, or undefined.\r\n",
        "# In a perfect normal distribution, the tails on either side of the curve are exact mirror images of each other.\r\n",
        "# When a distribution is skewed to the left, the tail on the curve’s left-hand side is longer than the tail on the right-hand side,\r\n",
        "# and the mean is less than the mode. This situation is also called negative skewness.\r\n",
        "# When a distribution is skewed to the right, the tail on the curve’s right-hand side is longer than the tail on the left-hand side, \r\n",
        "# and the mean is greater than the mode. This situation is also called positive skewness.\r\n",
        "# It is important for researchers from the behavioral and business sciences to measure skewness when it appears in their data. \r\n",
        "# Great amount of skewness may motivate the data scientist to investigate the existence of outliers. \r\n",
        "# When making decisions about which measure of location to report and which inferential statistic to employ, \r\n",
        "# one should take into consideration the estimated skewness of the population.\r\n",
        "# A negative value means the distribution is negatively skewed. A positive value means the distribution is positively skewed.\r\n",
        "# ---\r\n",
        "# Question: Determine the skewness of the Nakuru county herbicide prices.\r\n",
        "# Dataset url = http://bit.ly/NakuruCountyHerbicidePrices\r\n",
        "# ---\r\n",
        "#\r\n",
        "\r\n",
        "# Determining the skeweness\r\n",
        "nakuru_county_herbicide_prices_df[\"Average_Price\"].skew()"
      ],
      "outputs": [
        {
          "output_type": "execute_result",
          "data": {
            "text/plain": [
              "1.0944233329783948"
            ]
          },
          "metadata": {},
          "execution_count": 47
        }
      ],
      "metadata": {
        "id": "j_9rzQpe3UEE"
      }
    },
    {
      "cell_type": "code",
      "execution_count": 48,
      "source": [
        "# Examples 6: Kurtosis\r\n",
        "# The exact interpretation of the measure of Kurtosis used to be disputed, but is now settled. \r\n",
        "# Its about existence of outliers. Kurtosis is a measure of whether the data are heavy-tailed (profusion of outliers)\r\n",
        "# or light-tailed (lack of outliers) relative to a normal distribution.\r\n",
        "# There are three types of Kurtosis: Mesokurtic, Leptokurtic, Mesokurtic and Platykurtic. \r\n",
        "# ***\r\n",
        "# Mesokurtic is the distribution which has similar kurtosis as normal distribution kurtosis, which is zero.\r\n",
        "# ***\r\n",
        "# Leptokurtic is the distribution which has kurtosis greater than a Mesokurtic distribution. Tails of such distributions are thick and heavy. \r\n",
        "# If the curve of a distribution is more peaked than Mesokurtic curve, it is referred to as a Leptokurtic curve.\r\n",
        "# ***\r\n",
        "# Platykurtic is the distribution which has kurtosis lesser than a Mesokurtic distribution. Tails of such distributions thinner. \r\n",
        "# If a curve of a distribution is less peaked than a Mesokurtic curve, it is referred to as a Platykurtic curve.\r\n",
        "# \r\n",
        "# If the kurtosis is close to 0, then a normal distribution is often assumed. These are called mesokurtic distributions. \r\n",
        "# If the kurtosis is less than zero, then the distribution is light tails and is called a platykurtic distribution.  \r\n",
        "# If the kurtosis is greater than zero, then the distribution has heavier tails and is called a leptokurtic distribution.\r\n",
        "# ---\r\n",
        "# Question: Determine the Kurtosis of the Nakuru county herbicide prices \r\n",
        "# Dataset url = http://bit.ly/NakuruCountyHerbicidePrices\r\n",
        "# ---\r\n",
        "#\r\n",
        "\r\n",
        "# Determining the skeweness \r\n",
        "nakuru_county_herbicide_prices_df[\"Average_Price\"].kurt()"
      ],
      "outputs": [
        {
          "output_type": "execute_result",
          "data": {
            "text/plain": [
              "-0.1522981864221693"
            ]
          },
          "metadata": {},
          "execution_count": 48
        }
      ],
      "metadata": {
        "id": "HTwjeGEy3XAB"
      }
    },
    {
      "cell_type": "code",
      "execution_count": 63,
      "source": [
        "# Example 7: Displaying the summary statistics of the dataframe\r\n",
        "#\r\n",
        "nakuru_county_herbicide_prices_df['Average_Price'].describe()\r\n"
      ],
      "outputs": [
        {
          "output_type": "execute_result",
          "data": {
            "text/plain": [
              "count      18.000000\n",
              "mean     2933.333333\n",
              "std      2539.974525\n",
              "min       550.000000\n",
              "25%      1162.500000\n",
              "50%      1875.000000\n",
              "75%      3900.000000\n",
              "max      8000.000000\n",
              "Name: Average_Price, dtype: float64"
            ]
          },
          "metadata": {},
          "execution_count": 63
        }
      ],
      "metadata": {
        "id": "cN5YUpsblCLC"
      }
    },
    {
      "cell_type": "markdown",
      "source": [
        "#### <font color=\"green\">1.32 Challenges</font>"
      ],
      "metadata": {
        "id": "xumXllAg5A6N"
      }
    },
    {
      "cell_type": "code",
      "execution_count": 52,
      "source": [
        "# Challenge 1: Standard Deviation\r\n",
        "# ---\r\n",
        "# What was the variance of end of reporting month surplus for the 90kg bags?\r\n",
        "# Dataset url = http://bit.ly/KisumuFoodSecurtyDataset\r\n",
        "# ---\r\n",
        "# \r\n",
        "kisumu_food_security = pd.read_csv(\"Kisumu_County_Monthly_Food_Security_Statistics.csv\")\r\n",
        "kisumu_food_security['End_of_reporting_month_surplus-_90_Kg_bags'].std()"
      ],
      "outputs": [
        {
          "output_type": "execute_result",
          "data": {
            "text/plain": [
              "16791.401843156884"
            ]
          },
          "metadata": {},
          "execution_count": 52
        }
      ],
      "metadata": {
        "id": "gXnEzujX5Gi0"
      }
    },
    {
      "cell_type": "code",
      "execution_count": 53,
      "source": [
        "# Challenge 2: Variance \r\n",
        "# ---\r\n",
        "# What was the variance of end of reporting month surplus for the 90kg bags?\r\n",
        "# Dataset url = http://bit.ly/KisumuFoodSecurityDataset\r\n",
        "# ---\r\n",
        "# \r\n",
        "\r\n",
        "kisumu_food_security['End_of_reporting_month_surplus-_90_Kg_bags'].var()"
      ],
      "outputs": [
        {
          "output_type": "execute_result",
          "data": {
            "text/plain": [
              "281951175.85837245"
            ]
          },
          "metadata": {},
          "execution_count": 53
        }
      ],
      "metadata": {
        "id": "233fZPZb3aE8"
      }
    },
    {
      "cell_type": "code",
      "execution_count": 57,
      "source": [
        "# Challenge 3: Range\r\n",
        "# ---\r\n",
        "# What was the range of end of reporting month surplus for the 90kg bags?\r\n",
        "# Dataset url = http://bit.ly/KisumuFoodSecurityDataset\r\n",
        "# ---\r\n",
        "# \r\n",
        " \r\n",
        "max_suplus = kisumu_food_security['End_of_reporting_month_surplus-_90_Kg_bags'].max()\r\n",
        "min_suplus = kisumu_food_security['End_of_reporting_month_surplus-_90_Kg_bags'].min()\r\n",
        "\r\n",
        "max_suplus - min_suplus"
      ],
      "outputs": [
        {
          "output_type": "execute_result",
          "data": {
            "text/plain": [
              "59835"
            ]
          },
          "metadata": {},
          "execution_count": 57
        }
      ],
      "metadata": {
        "id": "0V7cj3tZ5Ive"
      }
    },
    {
      "cell_type": "code",
      "execution_count": 59,
      "source": [
        "# Challenge 4: Quantiles\r\n",
        "# ---\r\n",
        "# What was the range of end of reporting month surplus for the 90kg bags?\r\n",
        "# Dataset url = http://bit.ly/KisumuFoodSecurityDataset\r\n",
        "# ---\r\n",
        "# \r\n",
        "\r\n",
        "kisumu_food_security['End_of_reporting_month_surplus-_90_Kg_bags'].quantile([0.25, 0.5, 0.75])"
      ],
      "outputs": [
        {
          "output_type": "execute_result",
          "data": {
            "text/plain": [
              "0.25     2412.5\n",
              "0.50     3968.0\n",
              "0.75    24584.0\n",
              "Name: End_of_reporting_month_surplus-_90_Kg_bags, dtype: float64"
            ]
          },
          "metadata": {},
          "execution_count": 59
        }
      ],
      "metadata": {
        "id": "goQeGKwvEYTR"
      }
    },
    {
      "cell_type": "code",
      "execution_count": 60,
      "source": [
        "# Challenge 5: Skewness\r\n",
        "# ---\r\n",
        "# What was the skewness of end of reporting month surplus for the 90kg bags?\r\n",
        "# Dataset url = http://bit.ly/KisumuFoodSecurityDataset\r\n",
        "# ---\r\n",
        "# \r\n",
        "\r\n",
        "kisumu_food_security['End_of_reporting_month_surplus-_90_Kg_bags'].skew()"
      ],
      "outputs": [
        {
          "output_type": "execute_result",
          "data": {
            "text/plain": [
              "1.1041466566572853"
            ]
          },
          "metadata": {},
          "execution_count": 60
        }
      ],
      "metadata": {
        "id": "9i9AaOF-EZ7M"
      }
    },
    {
      "cell_type": "code",
      "execution_count": 62,
      "source": [
        "# Challenge 6: Kurtosis \r\n",
        "# ---\r\n",
        "# Find the kurtosis of end of reporting month surplus for the 90kg bags?\r\n",
        "# Dataset url = http://bit.ly/KisumuFoodSecurityDataset\r\n",
        "# ---\r\n",
        "# \r\n",
        "\r\n",
        "kisumu_food_security['End_of_reporting_month_surplus-_90_Kg_bags'].kurt()\r\n"
      ],
      "outputs": [
        {
          "output_type": "execute_result",
          "data": {
            "text/plain": [
              "-0.007825909487768179"
            ]
          },
          "metadata": {},
          "execution_count": 62
        }
      ],
      "metadata": {
        "id": "jJG08eSTEbG6"
      }
    },
    {
      "cell_type": "code",
      "execution_count": 64,
      "source": [
        "# Displaying the summary statistics of the dataframe\r\n",
        "\r\n",
        "kisumu_food_security['End_of_reporting_month_surplus-_90_Kg_bags'].describe()"
      ],
      "outputs": [
        {
          "output_type": "execute_result",
          "data": {
            "text/plain": [
              "count       72.000000\n",
              "mean     14405.472222\n",
              "std      16791.401843\n",
              "min      -1050.000000\n",
              "25%       2412.500000\n",
              "50%       3968.000000\n",
              "75%      24584.000000\n",
              "max      58785.000000\n",
              "Name: End_of_reporting_month_surplus-_90_Kg_bags, dtype: float64"
            ]
          },
          "metadata": {},
          "execution_count": 64
        }
      ],
      "metadata": {}
    },
    {
      "cell_type": "markdown",
      "source": [
        "### 1.33 Visualisation Techniques"
      ],
      "metadata": {
        "id": "kKZFF5-Q6d5c"
      }
    },
    {
      "cell_type": "markdown",
      "source": [
        "#### 1.41 Box Plots"
      ],
      "metadata": {
        "id": "32s_izI76icw"
      }
    },
    {
      "cell_type": "code",
      "execution_count": 65,
      "source": [
        "# Example 1\r\n",
        "# A boxplot is a standardized way of displaying the distribution of data based on a \r\n",
        "# five number summary (“minimum”, first quartile (Q1), median, third quartile (Q3), and “maximum”). \r\n",
        "# It can tell you about your outliers and what their values are. It can also tell you if your data is symmetrical, \r\n",
        "# how tightly your data is grouped, and if and how your data is skewed.\r\n",
        "# ---\r\n",
        "# Question: Plot a box plot of the average herbicide price\r\n",
        "# Dataset url = http://bit.ly/Kisumu-crop-statistics\r\n",
        "# ---\r\n",
        "#\r\n",
        "\r\n",
        "# Creating the boxplot\r\n",
        "#\r\n",
        "sns.boxplot(nakuru_county_herbicide_prices_df[\"Average_Price\"], showmeans=True)\r\n"
      ],
      "outputs": [
        {
          "output_type": "stream",
          "name": "stderr",
          "text": [
            "C:\\Users\\user\\AppData\\Local\\Programs\\Python\\Python39\\lib\\site-packages\\seaborn\\_decorators.py:36: FutureWarning: Pass the following variable as a keyword arg: x. From version 0.12, the only valid positional argument will be `data`, and passing other arguments without an explicit keyword will result in an error or misinterpretation.\n",
            "  warnings.warn(\n"
          ]
        },
        {
          "output_type": "execute_result",
          "data": {
            "text/plain": [
              "<AxesSubplot:xlabel='Average_Price'>"
            ]
          },
          "metadata": {},
          "execution_count": 65
        },
        {
          "output_type": "display_data",
          "data": {
            "image/png": "[encoded data removed]",
            "text/plain": [
              "<Figure size 432x288 with 1 Axes>"
            ]
          },
          "metadata": {
            "needs_background": "light"
          }
        }
      ],
      "metadata": {
        "id": "Cf_cAZET6iHd"
      }
    },
    {
      "cell_type": "code",
      "execution_count": 66,
      "source": [
        "# Example 2\r\n",
        "# ---\r\n",
        "# Question: Using pandas, create a boxplot of the target yield bags per hectare during the long rains. \r\n",
        "# Dataset url = http://bit.ly/Kisumu-crop-statistics\r\n",
        "# ---\r\n",
        "#\r\n",
        "\r\n",
        "# Creating the boxplot\r\n",
        "#\r\n",
        "kisumu_crop_statistics_df.boxplot([\"TARGET_YIELD__BAG/HA_LONG_RAINS\"])"
      ],
      "outputs": [
        {
          "output_type": "execute_result",
          "data": {
            "text/plain": [
              "<AxesSubplot:>"
            ]
          },
          "metadata": {},
          "execution_count": 66
        },
        {
          "output_type": "display_data",
          "data": {
            "image/png": "[encoded data removed]",
            "text/plain": [
              "<Figure size 432x288 with 1 Axes>"
            ]
          },
          "metadata": {
            "needs_background": "light"
          }
        }
      ],
      "metadata": {
        "id": "QcI9bqIq68t3"
      }
    },
    {
      "cell_type": "markdown",
      "source": [
        "##### <font color=\"green\">1.41 Challenges</font>"
      ],
      "metadata": {
        "id": "DHNDapES6-4D"
      }
    },
    {
      "cell_type": "code",
      "execution_count": 68,
      "source": [
        "# Challenge 1\r\n",
        "# ---\r\n",
        "# Question: Using pandas, create a boxplot of the target area per hectare during the short rains.\r\n",
        "# Dataset url = http://bit.ly/Kisumu-crop-statistics\r\n",
        "# ---\r\n",
        "# \r\n",
        "\r\n",
        "kisumu_crop_statistics_df.boxplot(['TARGET_AREA_HA_SHORT_RAINS'])"
      ],
      "outputs": [
        {
          "output_type": "execute_result",
          "data": {
            "text/plain": [
              "<AxesSubplot:>"
            ]
          },
          "metadata": {},
          "execution_count": 68
        },
        {
          "output_type": "display_data",
          "data": {
            "image/png": "[encoded data removed]",
            "text/plain": [
              "<Figure size 432x288 with 1 Axes>"
            ]
          },
          "metadata": {
            "needs_background": "light"
          }
        }
      ],
      "metadata": {
        "id": "Np_EB-2g7EjP"
      }
    },
    {
      "cell_type": "code",
      "execution_count": 70,
      "source": [
        "# Challenge 2\r\n",
        "# ---\r\n",
        "# Question: Using pandas, create a boxplot of the target production bags the long rains.\r\n",
        "# Dataset url = http://bit.ly/Kisumu-crop-statistics\r\n",
        "# ---\r\n",
        "#\r\n",
        "\r\n",
        "kisumu_crop_statistics_df.boxplot(['TARGET_AREA_HA_SHORT_RAINS'])"
      ],
      "outputs": [
        {
          "output_type": "execute_result",
          "data": {
            "text/plain": [
              "<AxesSubplot:>"
            ]
          },
          "metadata": {},
          "execution_count": 70
        },
        {
          "output_type": "display_data",
          "data": {
            "image/png": "[encoded data removed]",
            "text/plain": [
              "<Figure size 432x288 with 1 Axes>"
            ]
          },
          "metadata": {
            "needs_background": "light"
          }
        }
      ],
      "metadata": {
        "id": "woDc6x7z7Jhf"
      }
    },
    {
      "cell_type": "markdown",
      "source": [
        "#### 1.42 More Histograms"
      ],
      "metadata": {
        "id": "NqN2REVg6xM7"
      }
    },
    {
      "cell_type": "code",
      "execution_count": 71,
      "source": [
        "# Example 1\r\n",
        "# ---\r\n",
        "# Question: Plot a histogram of target area during long rains in kisumu county.\r\n",
        "# Dataset url = http://bit.ly/Kisumu-crop-statistics\r\n",
        "# ---\r\n",
        "# \r\n",
        "\r\n",
        "# Plotting the histogram\r\n",
        "#\r\n",
        "kisumu_crop_statistics_df['TARGET_AREA_HA_LONG_RAINS'].hist()"
      ],
      "outputs": [
        {
          "output_type": "execute_result",
          "data": {
            "text/plain": [
              "<AxesSubplot:>"
            ]
          },
          "metadata": {},
          "execution_count": 71
        },
        {
          "output_type": "display_data",
          "data": {
            "image/png": "[encoded data removed]",
            "text/plain": [
              "<Figure size 432x288 with 1 Axes>"
            ]
          },
          "metadata": {
            "needs_background": "light"
          }
        }
      ],
      "metadata": {
        "id": "cGxxrtln66MY"
      }
    },
    {
      "cell_type": "code",
      "execution_count": 72,
      "source": [
        "kisumu_crop_statistics_df.head()"
      ],
      "outputs": [
        {
          "output_type": "execute_result",
          "data": {
            "text/html": [
              "<div>\n",
              "<style scoped>\n",
              "    .dataframe tbody tr th:only-of-type {\n",
              "        vertical-align: middle;\n",
              "    }\n",
              "\n",
              "    .dataframe tbody tr th {\n",
              "        vertical-align: top;\n",
              "    }\n",
              "\n",
              "    .dataframe thead th {\n",
              "        text-align: right;\n",
              "    }\n",
              "</style>\n",
              "<table border=\"1\" class=\"dataframe\">\n",
              "  <thead>\n",
              "    <tr style=\"text-align: right;\">\n",
              "      <th></th>\n",
              "      <th>SUB-COUNTY</th>\n",
              "      <th>PRODUCE</th>\n",
              "      <th>TARGET_AREA_HA_LONG_RAINS</th>\n",
              "      <th>TARGET_AREA_HA_SHORT_RAINS</th>\n",
              "      <th>TARGET_TOTAL_</th>\n",
              "      <th>TARGET_YIELD__BAG/HA_LONG_RAINS</th>\n",
              "      <th>TARGET_YIELD__BAG/HA_SHORT_RAINS</th>\n",
              "      <th>TARGET_PRODUCTION_BAGS_LONG_RAINS</th>\n",
              "      <th>TARGET_PRODUCTION_BAGS_SHORT_RAINS</th>\n",
              "      <th>TARGET_PRODUCTION_BAGS_TOTAL</th>\n",
              "      <th>...</th>\n",
              "      <th>PROJECTED___PRODUCTION_BAGS_OF_90KG_EACH__LR</th>\n",
              "      <th>PROJECTED___PRODUCTION_BAGS_OF_90KG_EACH__SR</th>\n",
              "      <th>PROJECTED___PRODUCTION_BAGS_OF_90KG_EACH__TOTAL</th>\n",
              "      <th>PRICES_KSH/BAG_LONG_RAINS</th>\n",
              "      <th>PRICES_KSH/BAG_SHORT_RAINS</th>\n",
              "      <th>VALUE_KSH__LONG_RAINS</th>\n",
              "      <th>VALUE_KSH_SHORT_RAINS</th>\n",
              "      <th>VALUE_KSH_TOTAL</th>\n",
              "      <th>DATE</th>\n",
              "      <th>OBJECTID</th>\n",
              "    </tr>\n",
              "  </thead>\n",
              "  <tbody>\n",
              "    <tr>\n",
              "      <th>0</th>\n",
              "      <td>KISUMU WEST</td>\n",
              "      <td>Maize</td>\n",
              "      <td>8000</td>\n",
              "      <td>5000</td>\n",
              "      <td>6700</td>\n",
              "      <td>25</td>\n",
              "      <td>20</td>\n",
              "      <td>200000</td>\n",
              "      <td>100000</td>\n",
              "      <td>300000</td>\n",
              "      <td>...</td>\n",
              "      <td>21670</td>\n",
              "      <td>25000.0</td>\n",
              "      <td>46670</td>\n",
              "      <td>0</td>\n",
              "      <td>0</td>\n",
              "      <td>0</td>\n",
              "      <td>0</td>\n",
              "      <td>0</td>\n",
              "      <td>9/16/16</td>\n",
              "      <td>0</td>\n",
              "    </tr>\n",
              "    <tr>\n",
              "      <th>1</th>\n",
              "      <td>SEME</td>\n",
              "      <td>Maize</td>\n",
              "      <td>8000</td>\n",
              "      <td>3500</td>\n",
              "      <td>13000</td>\n",
              "      <td>25</td>\n",
              "      <td>20</td>\n",
              "      <td>200000</td>\n",
              "      <td>70000</td>\n",
              "      <td>270000</td>\n",
              "      <td>...</td>\n",
              "      <td>19800</td>\n",
              "      <td>17500.0</td>\n",
              "      <td>37300</td>\n",
              "      <td>0</td>\n",
              "      <td>0</td>\n",
              "      <td>0</td>\n",
              "      <td>0</td>\n",
              "      <td>0</td>\n",
              "      <td>9/16/16</td>\n",
              "      <td>1</td>\n",
              "    </tr>\n",
              "    <tr>\n",
              "      <th>2</th>\n",
              "      <td>KISUMU E</td>\n",
              "      <td>Maize</td>\n",
              "      <td>1500</td>\n",
              "      <td>750</td>\n",
              "      <td>2250</td>\n",
              "      <td>25</td>\n",
              "      <td>20</td>\n",
              "      <td>37500</td>\n",
              "      <td>15000</td>\n",
              "      <td>52500</td>\n",
              "      <td>...</td>\n",
              "      <td>4015</td>\n",
              "      <td>3750.0</td>\n",
              "      <td>7765</td>\n",
              "      <td>0</td>\n",
              "      <td>0</td>\n",
              "      <td>0</td>\n",
              "      <td>0</td>\n",
              "      <td>0</td>\n",
              "      <td>9/16/16</td>\n",
              "      <td>2</td>\n",
              "    </tr>\n",
              "    <tr>\n",
              "      <th>3</th>\n",
              "      <td>NYANDO</td>\n",
              "      <td>Maize</td>\n",
              "      <td>8200</td>\n",
              "      <td>4000</td>\n",
              "      <td>12200</td>\n",
              "      <td>25</td>\n",
              "      <td>20</td>\n",
              "      <td>205000</td>\n",
              "      <td>80000</td>\n",
              "      <td>285000</td>\n",
              "      <td>...</td>\n",
              "      <td>21010</td>\n",
              "      <td>20000.0</td>\n",
              "      <td>41010</td>\n",
              "      <td>0</td>\n",
              "      <td>0</td>\n",
              "      <td>0</td>\n",
              "      <td>0</td>\n",
              "      <td>0</td>\n",
              "      <td>9/16/16</td>\n",
              "      <td>3</td>\n",
              "    </tr>\n",
              "    <tr>\n",
              "      <th>4</th>\n",
              "      <td>NYAKACH</td>\n",
              "      <td>Maize</td>\n",
              "      <td>10500</td>\n",
              "      <td>4500</td>\n",
              "      <td>15000</td>\n",
              "      <td>25</td>\n",
              "      <td>20</td>\n",
              "      <td>262500</td>\n",
              "      <td>90000</td>\n",
              "      <td>352500</td>\n",
              "      <td>...</td>\n",
              "      <td>26125</td>\n",
              "      <td>22500.0</td>\n",
              "      <td>48625</td>\n",
              "      <td>0</td>\n",
              "      <td>0</td>\n",
              "      <td>0</td>\n",
              "      <td>0</td>\n",
              "      <td>0</td>\n",
              "      <td>9/16/16</td>\n",
              "      <td>4</td>\n",
              "    </tr>\n",
              "  </tbody>\n",
              "</table>\n",
              "<p>5 rows × 25 columns</p>\n",
              "</div>"
            ],
            "text/plain": [
              "    SUB-COUNTY PRODUCE  TARGET_AREA_HA_LONG_RAINS  TARGET_AREA_HA_SHORT_RAINS  \\\n",
              "0  KISUMU WEST   Maize                       8000                        5000   \n",
              "1         SEME   Maize                       8000                        3500   \n",
              "2     KISUMU E   Maize                       1500                         750   \n",
              "3       NYANDO   Maize                       8200                        4000   \n",
              "4      NYAKACH   Maize                      10500                        4500   \n",
              "\n",
              "   TARGET_TOTAL_  TARGET_YIELD__BAG/HA_LONG_RAINS  \\\n",
              "0           6700                               25   \n",
              "1          13000                               25   \n",
              "2           2250                               25   \n",
              "3          12200                               25   \n",
              "4          15000                               25   \n",
              "\n",
              "   TARGET_YIELD__BAG/HA_SHORT_RAINS  TARGET_PRODUCTION_BAGS_LONG_RAINS  \\\n",
              "0                                20                             200000   \n",
              "1                                20                             200000   \n",
              "2                                20                              37500   \n",
              "3                                20                             205000   \n",
              "4                                20                             262500   \n",
              "\n",
              "   TARGET_PRODUCTION_BAGS_SHORT_RAINS  TARGET_PRODUCTION_BAGS_TOTAL  ...  \\\n",
              "0                              100000                        300000  ...   \n",
              "1                               70000                        270000  ...   \n",
              "2                               15000                         52500  ...   \n",
              "3                               80000                        285000  ...   \n",
              "4                               90000                        352500  ...   \n",
              "\n",
              "   PROJECTED___PRODUCTION_BAGS_OF_90KG_EACH__LR  \\\n",
              "0                                         21670   \n",
              "1                                         19800   \n",
              "2                                          4015   \n",
              "3                                         21010   \n",
              "4                                         26125   \n",
              "\n",
              "   PROJECTED___PRODUCTION_BAGS_OF_90KG_EACH__SR  \\\n",
              "0                                       25000.0   \n",
              "1                                       17500.0   \n",
              "2                                        3750.0   \n",
              "3                                       20000.0   \n",
              "4                                       22500.0   \n",
              "\n",
              "   PROJECTED___PRODUCTION_BAGS_OF_90KG_EACH__TOTAL  PRICES_KSH/BAG_LONG_RAINS  \\\n",
              "0                                            46670                          0   \n",
              "1                                            37300                          0   \n",
              "2                                             7765                          0   \n",
              "3                                            41010                          0   \n",
              "4                                            48625                          0   \n",
              "\n",
              "   PRICES_KSH/BAG_SHORT_RAINS  VALUE_KSH__LONG_RAINS  VALUE_KSH_SHORT_RAINS  \\\n",
              "0                           0                      0                      0   \n",
              "1                           0                      0                      0   \n",
              "2                           0                      0                      0   \n",
              "3                           0                      0                      0   \n",
              "4                           0                      0                      0   \n",
              "\n",
              "   VALUE_KSH_TOTAL     DATE  OBJECTID  \n",
              "0                0  9/16/16         0  \n",
              "1                0  9/16/16         1  \n",
              "2                0  9/16/16         2  \n",
              "3                0  9/16/16         3  \n",
              "4                0  9/16/16         4  \n",
              "\n",
              "[5 rows x 25 columns]"
            ]
          },
          "metadata": {},
          "execution_count": 72
        }
      ],
      "metadata": {
        "id": "31CPj4mFH2X2"
      }
    },
    {
      "cell_type": "code",
      "execution_count": 73,
      "source": [
        "# Example 2\r\n",
        "# ---\r\n",
        "# Question: Using Seaborn, Plot a histogram of target area for maize during long rains in kisumu county\r\n",
        "# ---\r\n",
        "#\r\n",
        "\r\n",
        "# Plotting our histogram\r\n",
        "#\r\n",
        "df = kisumu_crop_statistics_df[kisumu_crop_statistics_df.PRODUCE == 'Maize']\r\n",
        "sns.distplot(kisumu_crop_statistics_df['TARGET_AREA_HA_LONG_RAINS'],  kde=False,label='Maize')"
      ],
      "outputs": [
        {
          "output_type": "stream",
          "name": "stderr",
          "text": [
            "C:\\Users\\user\\AppData\\Local\\Programs\\Python\\Python39\\lib\\site-packages\\seaborn\\distributions.py:2619: FutureWarning: `distplot` is a deprecated function and will be removed in a future version. Please adapt your code to use either `displot` (a figure-level function with similar flexibility) or `histplot` (an axes-level function for histograms).\n",
            "  warnings.warn(msg, FutureWarning)\n"
          ]
        },
        {
          "output_type": "execute_result",
          "data": {
            "text/plain": [
              "<AxesSubplot:xlabel='TARGET_AREA_HA_LONG_RAINS'>"
            ]
          },
          "metadata": {},
          "execution_count": 73
        },
        {
          "output_type": "display_data",
          "data": {
            "image/png": "[encoded data removed]",
            "text/plain": [
              "<Figure size 432x288 with 1 Axes>"
            ]
          },
          "metadata": {
            "needs_background": "light"
          }
        }
      ],
      "metadata": {
        "id": "jZ_y-wGN7Pro"
      }
    },
    {
      "cell_type": "markdown",
      "source": [
        "#### <font color=\"green\">1.43 Challenges</font>"
      ],
      "metadata": {
        "id": "uXIKUeun7Tz6"
      }
    },
    {
      "cell_type": "code",
      "execution_count": 75,
      "source": [
        "# Challenge 1\r\n",
        "# ---\r\n",
        "# Question: Plot a histogram of weight in kgs for fish production\r\n",
        "# Dataset url = \"http://bit.ly/Kisumu-fish-production\"\r\n",
        "# ---\r\n",
        "#\r\n",
        "\r\n",
        "kisumu_fish_production_df['WEIGHT_KGS'].hist()"
      ],
      "outputs": [
        {
          "output_type": "execute_result",
          "data": {
            "text/plain": [
              "<AxesSubplot:>"
            ]
          },
          "metadata": {},
          "execution_count": 75
        },
        {
          "output_type": "display_data",
          "data": {
            "image/png": "[encoded data removed]",
            "text/plain": [
              "<Figure size 432x288 with 1 Axes>"
            ]
          },
          "metadata": {
            "needs_background": "light"
          }
        }
      ],
      "metadata": {
        "id": "c20egYFA7ZQA"
      }
    },
    {
      "cell_type": "code",
      "execution_count": 78,
      "source": [
        "# Challenge 2\r\n",
        "# ---\r\n",
        "# Question: Plot a histogram of target yield bags during short rains.\r\n",
        "# Dataset url = \"http://bit.ly/Kisumu-crop-statistics\"\r\n",
        "# ---\r\n",
        "# \r\n",
        "\r\n",
        "kisumu_crop_statistics_df['TARGET_YIELD__BAG/HA_SHORT_RAINS'].hist()"
      ],
      "outputs": [
        {
          "output_type": "execute_result",
          "data": {
            "text/plain": [
              "<AxesSubplot:>"
            ]
          },
          "metadata": {},
          "execution_count": 78
        },
        {
          "output_type": "display_data",
          "data": {
            "image/png": "[encoded data removed]",
            "text/plain": [
              "<Figure size 432x288 with 1 Axes>"
            ]
          },
          "metadata": {
            "needs_background": "light"
          }
        }
      ],
      "metadata": {
        "id": "8_NmsQOu7aTW"
      }
    },
    {
      "cell_type": "markdown",
      "source": [],
      "metadata": {
        "id": "y2tpmU6oFKHX"
      }
    },
    {
      "cell_type": "code",
      "execution_count": null,
      "source": [],
      "outputs": [],
      "metadata": {
        "id": "gOGG_XWoFKiM"
      }
    }
  ]
}
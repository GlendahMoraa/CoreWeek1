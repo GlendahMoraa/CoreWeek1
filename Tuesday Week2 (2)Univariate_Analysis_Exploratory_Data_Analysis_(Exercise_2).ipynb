{
  "nbformat": 4,
  "nbformat_minor": 2,
  "metadata": {
    "colab": {
      "name": "Univariate Analysis - Exploratory Data Analysis (Exercise 2)",
      "provenance": [],
      "collapsed_sections": [
        "kLG2VTrnTvYL",
        "XecOwPNorl2W",
        "J4wfHZwQrs-t",
        "a9BPYqunry97",
        "7KMRBJ7zr9HD",
        "zSGyg6kWsBUl",
        "iUNbvIvnT7ep",
        "OI3P3YnHUEBk",
        "6XC_g-zKxe-r",
        "FlBMxEDBUc9B",
        "rF2ABPsHUtbZ",
        "vTbdjSrhVIiT",
        "lQ2G4ZPDVOXE",
        "xrmHVMVsVS--",
        "HPQviDmNtta8",
        "qjFHK1CKty7o",
        "HSsicSdvt4Zs"
      ],
      "toc_visible": true
    },
    "kernelspec": {
      "name": "python3",
      "display_name": "Python 3.9.5 64-bit"
    },
    "language_info": {
      "name": "python",
      "version": "3.9.5",
      "mimetype": "text/x-python",
      "codemirror_mode": {
        "name": "ipython",
        "version": 3
      },
      "pygments_lexer": "ipython3",
      "nbconvert_exporter": "python",
      "file_extension": ".py"
    },
    "interpreter": {
      "hash": "247ab06e135bb35fa78c5eff31b2a9a0050dcb5fb773c2631d2a29ac689eeccb"
    }
  },
  "cells": [
    {
      "cell_type": "markdown",
      "source": [
        "# Exploratory Data Analysis: Univariate Analysis"
      ],
      "metadata": {
        "id": "xMxtPsqcTsSH"
      }
    },
    {
      "cell_type": "markdown",
      "source": [
        "## 1. Defining the Question"
      ],
      "metadata": {
        "id": "kLG2VTrnTvYL"
      }
    },
    {
      "cell_type": "markdown",
      "source": [
        "### a) Specifying the Data Analytic Question"
      ],
      "metadata": {
        "id": "XecOwPNorl2W"
      }
    },
    {
      "cell_type": "markdown",
      "source": [
        "> Which subject performed best during the 2017 ACT test?"
      ],
      "metadata": {
        "id": "fZOpvz6fWyFa"
      }
    },
    {
      "cell_type": "markdown",
      "source": [
        "### b) Defining the Metric for Success"
      ],
      "metadata": {
        "id": "J4wfHZwQrs-t"
      }
    },
    {
      "cell_type": "markdown",
      "source": [
        "### c) Understanding the context "
      ],
      "metadata": {
        "id": "a9BPYqunry97"
      }
    },
    {
      "cell_type": "markdown",
      "source": [
        "### d) Recording the Experimental Design"
      ],
      "metadata": {
        "id": "7KMRBJ7zr9HD"
      }
    },
    {
      "cell_type": "markdown",
      "source": [
        "### e) Data Relevance"
      ],
      "metadata": {
        "id": "zSGyg6kWsBUl"
      }
    },
    {
      "cell_type": "markdown",
      "source": [
        "## 2. Reading the Data"
      ],
      "metadata": {
        "id": "iUNbvIvnT7ep"
      }
    },
    {
      "cell_type": "code",
      "execution_count": 2,
      "source": [
        "# Loading the Data from the source \r\n",
        "# ---\r\n",
        "# Dataset url = http://bit.ly/2017ACTScoresDataset\r\n",
        "# ---\r\n",
        "#\r\n",
        "\r\n",
        "import pandas as pd\r\n",
        "import numpy as np\r\n",
        "import seaborn as sns\r\n",
        "import matplotlib\r\n",
        "from matplotlib import pyplot as plt\r\n",
        "\r\n",
        "\r\n",
        "data1 = pd.read_csv(\"http://bit.ly/2017ACTScoresDataset\")\r\n",
        "data1.head(5)"
      ],
      "outputs": [
        {
          "output_type": "execute_result",
          "data": {
            "text/html": [
              "<div>\n",
              "<style scoped>\n",
              "    .dataframe tbody tr th:only-of-type {\n",
              "        vertical-align: middle;\n",
              "    }\n",
              "\n",
              "    .dataframe tbody tr th {\n",
              "        vertical-align: top;\n",
              "    }\n",
              "\n",
              "    .dataframe thead th {\n",
              "        text-align: right;\n",
              "    }\n",
              "</style>\n",
              "<table border=\"1\" class=\"dataframe\">\n",
              "  <thead>\n",
              "    <tr style=\"text-align: right;\">\n",
              "      <th></th>\n",
              "      <th>State</th>\n",
              "      <th>Participation</th>\n",
              "      <th>English</th>\n",
              "      <th>Math</th>\n",
              "      <th>Reading</th>\n",
              "      <th>Science</th>\n",
              "      <th>Composite</th>\n",
              "    </tr>\n",
              "  </thead>\n",
              "  <tbody>\n",
              "    <tr>\n",
              "      <th>0</th>\n",
              "      <td>National</td>\n",
              "      <td>60%</td>\n",
              "      <td>20.3</td>\n",
              "      <td>20.7</td>\n",
              "      <td>21.4</td>\n",
              "      <td>21.0</td>\n",
              "      <td>21.0</td>\n",
              "    </tr>\n",
              "    <tr>\n",
              "      <th>1</th>\n",
              "      <td>Alabama</td>\n",
              "      <td>100%</td>\n",
              "      <td>18.9</td>\n",
              "      <td>18.4</td>\n",
              "      <td>19.7</td>\n",
              "      <td>19.4</td>\n",
              "      <td>19.2</td>\n",
              "    </tr>\n",
              "    <tr>\n",
              "      <th>2</th>\n",
              "      <td>Alaska</td>\n",
              "      <td>65%</td>\n",
              "      <td>18.7</td>\n",
              "      <td>19.8</td>\n",
              "      <td>20.4</td>\n",
              "      <td>19.9</td>\n",
              "      <td>19.8</td>\n",
              "    </tr>\n",
              "    <tr>\n",
              "      <th>3</th>\n",
              "      <td>Arizona</td>\n",
              "      <td>62%</td>\n",
              "      <td>18.6</td>\n",
              "      <td>19.8</td>\n",
              "      <td>20.1</td>\n",
              "      <td>19.8</td>\n",
              "      <td>19.7</td>\n",
              "    </tr>\n",
              "    <tr>\n",
              "      <th>4</th>\n",
              "      <td>Arkansas</td>\n",
              "      <td>100%</td>\n",
              "      <td>18.9</td>\n",
              "      <td>19.0</td>\n",
              "      <td>19.7</td>\n",
              "      <td>19.5</td>\n",
              "      <td>19.4</td>\n",
              "    </tr>\n",
              "  </tbody>\n",
              "</table>\n",
              "</div>"
            ],
            "text/plain": [
              "      State Participation  English  Math  Reading  Science Composite\n",
              "0  National           60%     20.3  20.7     21.4     21.0      21.0\n",
              "1   Alabama          100%     18.9  18.4     19.7     19.4      19.2\n",
              "2    Alaska           65%     18.7  19.8     20.4     19.9      19.8\n",
              "3   Arizona           62%     18.6  19.8     20.1     19.8      19.7\n",
              "4  Arkansas          100%     18.9  19.0     19.7     19.5      19.4"
            ]
          },
          "metadata": {},
          "execution_count": 2
        }
      ],
      "metadata": {
        "id": "XJn2KjW-WMlG"
      }
    },
    {
      "cell_type": "markdown",
      "source": [
        "## 3. Checking the Data"
      ],
      "metadata": {
        "id": "OI3P3YnHUEBk"
      }
    },
    {
      "cell_type": "code",
      "execution_count": 3,
      "source": [
        "# Determining the no. of records in our dataset\r\n",
        "#\r\n",
        "\r\n",
        "len(data1.index)\r\n",
        "\r\n",
        "#procedure 2 \r\n",
        "\r\n",
        "data1.shape[0]\r\n",
        "\r\n",
        "#procedure 3\r\n",
        "\r\n",
        "data1[data1.columns[0]].count()"
      ],
      "outputs": [
        {
          "output_type": "execute_result",
          "data": {
            "text/plain": [
              "52"
            ]
          },
          "metadata": {},
          "execution_count": 3
        }
      ],
      "metadata": {
        "id": "YjSVNwgptHxY"
      }
    },
    {
      "cell_type": "code",
      "execution_count": 4,
      "source": [
        "# Previewing the top of our dataset\r\n",
        "#\r\n",
        "\r\n",
        "data1.head(5)"
      ],
      "outputs": [
        {
          "output_type": "execute_result",
          "data": {
            "text/html": [
              "<div>\n",
              "<style scoped>\n",
              "    .dataframe tbody tr th:only-of-type {\n",
              "        vertical-align: middle;\n",
              "    }\n",
              "\n",
              "    .dataframe tbody tr th {\n",
              "        vertical-align: top;\n",
              "    }\n",
              "\n",
              "    .dataframe thead th {\n",
              "        text-align: right;\n",
              "    }\n",
              "</style>\n",
              "<table border=\"1\" class=\"dataframe\">\n",
              "  <thead>\n",
              "    <tr style=\"text-align: right;\">\n",
              "      <th></th>\n",
              "      <th>State</th>\n",
              "      <th>Participation</th>\n",
              "      <th>English</th>\n",
              "      <th>Math</th>\n",
              "      <th>Reading</th>\n",
              "      <th>Science</th>\n",
              "      <th>Composite</th>\n",
              "    </tr>\n",
              "  </thead>\n",
              "  <tbody>\n",
              "    <tr>\n",
              "      <th>0</th>\n",
              "      <td>National</td>\n",
              "      <td>60%</td>\n",
              "      <td>20.3</td>\n",
              "      <td>20.7</td>\n",
              "      <td>21.4</td>\n",
              "      <td>21.0</td>\n",
              "      <td>21.0</td>\n",
              "    </tr>\n",
              "    <tr>\n",
              "      <th>1</th>\n",
              "      <td>Alabama</td>\n",
              "      <td>100%</td>\n",
              "      <td>18.9</td>\n",
              "      <td>18.4</td>\n",
              "      <td>19.7</td>\n",
              "      <td>19.4</td>\n",
              "      <td>19.2</td>\n",
              "    </tr>\n",
              "    <tr>\n",
              "      <th>2</th>\n",
              "      <td>Alaska</td>\n",
              "      <td>65%</td>\n",
              "      <td>18.7</td>\n",
              "      <td>19.8</td>\n",
              "      <td>20.4</td>\n",
              "      <td>19.9</td>\n",
              "      <td>19.8</td>\n",
              "    </tr>\n",
              "    <tr>\n",
              "      <th>3</th>\n",
              "      <td>Arizona</td>\n",
              "      <td>62%</td>\n",
              "      <td>18.6</td>\n",
              "      <td>19.8</td>\n",
              "      <td>20.1</td>\n",
              "      <td>19.8</td>\n",
              "      <td>19.7</td>\n",
              "    </tr>\n",
              "    <tr>\n",
              "      <th>4</th>\n",
              "      <td>Arkansas</td>\n",
              "      <td>100%</td>\n",
              "      <td>18.9</td>\n",
              "      <td>19.0</td>\n",
              "      <td>19.7</td>\n",
              "      <td>19.5</td>\n",
              "      <td>19.4</td>\n",
              "    </tr>\n",
              "  </tbody>\n",
              "</table>\n",
              "</div>"
            ],
            "text/plain": [
              "      State Participation  English  Math  Reading  Science Composite\n",
              "0  National           60%     20.3  20.7     21.4     21.0      21.0\n",
              "1   Alabama          100%     18.9  18.4     19.7     19.4      19.2\n",
              "2    Alaska           65%     18.7  19.8     20.4     19.9      19.8\n",
              "3   Arizona           62%     18.6  19.8     20.1     19.8      19.7\n",
              "4  Arkansas          100%     18.9  19.0     19.7     19.5      19.4"
            ]
          },
          "metadata": {},
          "execution_count": 4
        }
      ],
      "metadata": {
        "id": "xHhTw5eKWr0n"
      }
    },
    {
      "cell_type": "code",
      "execution_count": 5,
      "source": [
        "# Previewing the bottom of our dataset\r\n",
        "# \r\n",
        "\r\n",
        "data1.tail(5)"
      ],
      "outputs": [
        {
          "output_type": "execute_result",
          "data": {
            "text/html": [
              "<div>\n",
              "<style scoped>\n",
              "    .dataframe tbody tr th:only-of-type {\n",
              "        vertical-align: middle;\n",
              "    }\n",
              "\n",
              "    .dataframe tbody tr th {\n",
              "        vertical-align: top;\n",
              "    }\n",
              "\n",
              "    .dataframe thead th {\n",
              "        text-align: right;\n",
              "    }\n",
              "</style>\n",
              "<table border=\"1\" class=\"dataframe\">\n",
              "  <thead>\n",
              "    <tr style=\"text-align: right;\">\n",
              "      <th></th>\n",
              "      <th>State</th>\n",
              "      <th>Participation</th>\n",
              "      <th>English</th>\n",
              "      <th>Math</th>\n",
              "      <th>Reading</th>\n",
              "      <th>Science</th>\n",
              "      <th>Composite</th>\n",
              "    </tr>\n",
              "  </thead>\n",
              "  <tbody>\n",
              "    <tr>\n",
              "      <th>47</th>\n",
              "      <td>Virginia</td>\n",
              "      <td>29%</td>\n",
              "      <td>23.5</td>\n",
              "      <td>23.3</td>\n",
              "      <td>24.6</td>\n",
              "      <td>23.5</td>\n",
              "      <td>23.8</td>\n",
              "    </tr>\n",
              "    <tr>\n",
              "      <th>48</th>\n",
              "      <td>Washington</td>\n",
              "      <td>29%</td>\n",
              "      <td>20.9</td>\n",
              "      <td>21.9</td>\n",
              "      <td>22.1</td>\n",
              "      <td>22.0</td>\n",
              "      <td>21.9</td>\n",
              "    </tr>\n",
              "    <tr>\n",
              "      <th>49</th>\n",
              "      <td>West Virginia</td>\n",
              "      <td>69%</td>\n",
              "      <td>20.0</td>\n",
              "      <td>19.4</td>\n",
              "      <td>21.2</td>\n",
              "      <td>20.5</td>\n",
              "      <td>20.4</td>\n",
              "    </tr>\n",
              "    <tr>\n",
              "      <th>50</th>\n",
              "      <td>Wisconsin</td>\n",
              "      <td>100%</td>\n",
              "      <td>19.7</td>\n",
              "      <td>20.4</td>\n",
              "      <td>20.6</td>\n",
              "      <td>20.9</td>\n",
              "      <td>20.5</td>\n",
              "    </tr>\n",
              "    <tr>\n",
              "      <th>51</th>\n",
              "      <td>Wyoming</td>\n",
              "      <td>100%</td>\n",
              "      <td>19.4</td>\n",
              "      <td>19.8</td>\n",
              "      <td>20.8</td>\n",
              "      <td>20.6</td>\n",
              "      <td>20.2x</td>\n",
              "    </tr>\n",
              "  </tbody>\n",
              "</table>\n",
              "</div>"
            ],
            "text/plain": [
              "            State Participation  English  Math  Reading  Science Composite\n",
              "47       Virginia           29%     23.5  23.3     24.6     23.5      23.8\n",
              "48     Washington           29%     20.9  21.9     22.1     22.0      21.9\n",
              "49  West Virginia           69%     20.0  19.4     21.2     20.5      20.4\n",
              "50      Wisconsin          100%     19.7  20.4     20.6     20.9      20.5\n",
              "51        Wyoming          100%     19.4  19.8     20.8     20.6     20.2x"
            ]
          },
          "metadata": {},
          "execution_count": 5
        }
      ],
      "metadata": {
        "id": "e9AzGcZFrIIr"
      }
    },
    {
      "cell_type": "code",
      "execution_count": 12,
      "source": [
        "# Checking whether each column has an appropriate datatype\r\n",
        "#\r\n",
        "#removing x from the values that have it\r\n",
        "\r\n",
        "data1['Composite']=data1['Composite'].str.replace('x','')\r\n",
        "data1['Composite'] = data1['Composite'].astype(float, errors = 'raise')\r\n",
        "data1.info()"
      ],
      "outputs": [
        {
          "output_type": "stream",
          "name": "stdout",
          "text": [
            "<class 'pandas.core.frame.DataFrame'>\n",
            "RangeIndex: 52 entries, 0 to 51\n",
            "Data columns (total 7 columns):\n",
            " #   Column         Non-Null Count  Dtype  \n",
            "---  ------         --------------  -----  \n",
            " 0   State          52 non-null     object \n",
            " 1   Participation  52 non-null     object \n",
            " 2   English        52 non-null     float64\n",
            " 3   Math           52 non-null     float64\n",
            " 4   Reading        52 non-null     float64\n",
            " 5   Science        52 non-null     float64\n",
            " 6   Composite      52 non-null     float64\n",
            "dtypes: float64(5), object(2)\n",
            "memory usage: 3.0+ KB\n"
          ]
        }
      ],
      "metadata": {
        "id": "n8-dW4sQWzbc"
      }
    },
    {
      "cell_type": "markdown",
      "source": [
        "## 4. External Data Source Validation"
      ],
      "metadata": {
        "id": "ckfufNrcUHeH"
      }
    },
    {
      "cell_type": "markdown",
      "source": [
        "Making sure your data matches something outside of the dataset is very important. It allows you to ensure that the measurements are roughly in line with what they should be and it serves as a check on what other things might be wrong in your dataset. External validation can often be as simple as checking your data against a single number, as we will do here.\n",
        "\n",
        "An example would be suppose that you're working with a dataset on the population of countries during the year 2016. Validating such information with an external reliable resource such as World Bank Data would be important step to providing credibility to your dataset. Have a look at the following link for an example. [Link](https://rstudio-pubs-static.s3.amazonaws.com/182250_19977d0c5c06403fbad1e653850fc7c6.html)."
      ],
      "metadata": {
        "id": "6L4sl_0WXlbg"
      }
    },
    {
      "cell_type": "markdown",
      "source": [
        "### a.Validation"
      ],
      "metadata": {
        "id": "6XC_g-zKxe-r"
      }
    },
    {
      "cell_type": "markdown",
      "source": [
        "## 5. Tidying the Dataset"
      ],
      "metadata": {
        "id": "FlBMxEDBUc9B"
      }
    },
    {
      "cell_type": "code",
      "execution_count": 15,
      "source": [
        "# Checking for Outliers\r\n",
        "#\r\n",
        "col_names = ['English', 'Math', 'Reading', 'Science', 'Composite']\r\n",
        "\r\n",
        "fig, ax = plt.subplots(len(col_names), figsize=(10,20))\r\n",
        "\r\n",
        "for i, col_val in enumerate(col_names):\r\n",
        "\r\n",
        "    sns.boxplot(y=data1[col_val], ax=ax[i])\r\n",
        "    ax[i].set_title('Box plot - ' + str(col_val), fontsize=10)\r\n",
        "    ax[i].set_xlabel(col_val, fontsize=8)\r\n",
        "\r\n",
        "plt.show()"
      ],
      "outputs": [
        {
          "output_type": "display_data",
          "data": {
            "image/png": "[encoded data removed]",
            "text/plain": [
              "<Figure size 720x1440 with 5 Axes>"
            ]
          },
          "metadata": {
            "needs_background": "light"
          }
        }
      ],
      "metadata": {
        "id": "5o_bQcT5W3Wz"
      }
    },
    {
      "cell_type": "code",
      "execution_count": 18,
      "source": [
        "# Checking for Anomalies\r\n",
        "#\r\n",
        "\r\n",
        "def remove(data, col):\r\n",
        "    col_upper = data[col].mean() + 3*data[col].std()\r\n",
        "    col_lower = data[col].mean() - 3*data[col].std()\r\n",
        "    df = data[(data[col]< col_upper) & (data[col]> col_lower)]\r\n",
        "    return df \r\n",
        "\r\n",
        "# remove()\r\n",
        "\r\n",
        "for c in col_names:\r\n",
        "\r\n",
        "    newdf = remove(data1, c)\r\n",
        "    \r\n",
        "newdf"
      ],
      "outputs": [
        {
          "output_type": "execute_result",
          "data": {
            "text/html": [
              "<div>\n",
              "<style scoped>\n",
              "    .dataframe tbody tr th:only-of-type {\n",
              "        vertical-align: middle;\n",
              "    }\n",
              "\n",
              "    .dataframe tbody tr th {\n",
              "        vertical-align: top;\n",
              "    }\n",
              "\n",
              "    .dataframe thead th {\n",
              "        text-align: right;\n",
              "    }\n",
              "</style>\n",
              "<table border=\"1\" class=\"dataframe\">\n",
              "  <thead>\n",
              "    <tr style=\"text-align: right;\">\n",
              "      <th></th>\n",
              "      <th>State</th>\n",
              "      <th>Participation</th>\n",
              "      <th>English</th>\n",
              "      <th>Math</th>\n",
              "      <th>Reading</th>\n",
              "      <th>Science</th>\n",
              "      <th>Composite</th>\n",
              "    </tr>\n",
              "  </thead>\n",
              "  <tbody>\n",
              "    <tr>\n",
              "      <th>0</th>\n",
              "      <td>National</td>\n",
              "      <td>60%</td>\n",
              "      <td>20.3</td>\n",
              "      <td>20.7</td>\n",
              "      <td>21.4</td>\n",
              "      <td>21.0</td>\n",
              "      <td>21.0</td>\n",
              "    </tr>\n",
              "    <tr>\n",
              "      <th>1</th>\n",
              "      <td>Alabama</td>\n",
              "      <td>100%</td>\n",
              "      <td>18.9</td>\n",
              "      <td>18.4</td>\n",
              "      <td>19.7</td>\n",
              "      <td>19.4</td>\n",
              "      <td>19.2</td>\n",
              "    </tr>\n",
              "    <tr>\n",
              "      <th>2</th>\n",
              "      <td>Alaska</td>\n",
              "      <td>65%</td>\n",
              "      <td>18.7</td>\n",
              "      <td>19.8</td>\n",
              "      <td>20.4</td>\n",
              "      <td>19.9</td>\n",
              "      <td>19.8</td>\n",
              "    </tr>\n",
              "    <tr>\n",
              "      <th>3</th>\n",
              "      <td>Arizona</td>\n",
              "      <td>62%</td>\n",
              "      <td>18.6</td>\n",
              "      <td>19.8</td>\n",
              "      <td>20.1</td>\n",
              "      <td>19.8</td>\n",
              "      <td>19.7</td>\n",
              "    </tr>\n",
              "    <tr>\n",
              "      <th>4</th>\n",
              "      <td>Arkansas</td>\n",
              "      <td>100%</td>\n",
              "      <td>18.9</td>\n",
              "      <td>19.0</td>\n",
              "      <td>19.7</td>\n",
              "      <td>19.5</td>\n",
              "      <td>19.4</td>\n",
              "    </tr>\n",
              "    <tr>\n",
              "      <th>5</th>\n",
              "      <td>California</td>\n",
              "      <td>31%</td>\n",
              "      <td>22.5</td>\n",
              "      <td>22.7</td>\n",
              "      <td>23.1</td>\n",
              "      <td>22.2</td>\n",
              "      <td>22.8</td>\n",
              "    </tr>\n",
              "    <tr>\n",
              "      <th>6</th>\n",
              "      <td>Colorado</td>\n",
              "      <td>100%</td>\n",
              "      <td>20.1</td>\n",
              "      <td>20.3</td>\n",
              "      <td>21.2</td>\n",
              "      <td>20.9</td>\n",
              "      <td>20.8</td>\n",
              "    </tr>\n",
              "    <tr>\n",
              "      <th>7</th>\n",
              "      <td>Connecticut</td>\n",
              "      <td>31%</td>\n",
              "      <td>25.5</td>\n",
              "      <td>24.6</td>\n",
              "      <td>25.6</td>\n",
              "      <td>24.6</td>\n",
              "      <td>25.2</td>\n",
              "    </tr>\n",
              "    <tr>\n",
              "      <th>8</th>\n",
              "      <td>Delaware</td>\n",
              "      <td>18%</td>\n",
              "      <td>24.1</td>\n",
              "      <td>23.4</td>\n",
              "      <td>24.8</td>\n",
              "      <td>23.6</td>\n",
              "      <td>24.1</td>\n",
              "    </tr>\n",
              "    <tr>\n",
              "      <th>9</th>\n",
              "      <td>District of Columbia</td>\n",
              "      <td>32%</td>\n",
              "      <td>24.4</td>\n",
              "      <td>23.5</td>\n",
              "      <td>24.9</td>\n",
              "      <td>23.5</td>\n",
              "      <td>24.2</td>\n",
              "    </tr>\n",
              "    <tr>\n",
              "      <th>10</th>\n",
              "      <td>Florida</td>\n",
              "      <td>73%</td>\n",
              "      <td>19.0</td>\n",
              "      <td>19.4</td>\n",
              "      <td>21.0</td>\n",
              "      <td>19.4</td>\n",
              "      <td>19.8</td>\n",
              "    </tr>\n",
              "    <tr>\n",
              "      <th>11</th>\n",
              "      <td>Georgia</td>\n",
              "      <td>55%</td>\n",
              "      <td>21.0</td>\n",
              "      <td>20.9</td>\n",
              "      <td>22.0</td>\n",
              "      <td>21.3</td>\n",
              "      <td>21.4</td>\n",
              "    </tr>\n",
              "    <tr>\n",
              "      <th>12</th>\n",
              "      <td>Hawaii</td>\n",
              "      <td>90%</td>\n",
              "      <td>17.8</td>\n",
              "      <td>19.2</td>\n",
              "      <td>19.2</td>\n",
              "      <td>19.3</td>\n",
              "      <td>19.0</td>\n",
              "    </tr>\n",
              "    <tr>\n",
              "      <th>13</th>\n",
              "      <td>Idaho</td>\n",
              "      <td>38%</td>\n",
              "      <td>21.9</td>\n",
              "      <td>21.8</td>\n",
              "      <td>23.0</td>\n",
              "      <td>22.1</td>\n",
              "      <td>22.3</td>\n",
              "    </tr>\n",
              "    <tr>\n",
              "      <th>14</th>\n",
              "      <td>Illinois</td>\n",
              "      <td>93%</td>\n",
              "      <td>21.0</td>\n",
              "      <td>21.2</td>\n",
              "      <td>21.6</td>\n",
              "      <td>21.3</td>\n",
              "      <td>21.4</td>\n",
              "    </tr>\n",
              "    <tr>\n",
              "      <th>15</th>\n",
              "      <td>Indiana</td>\n",
              "      <td>35%</td>\n",
              "      <td>22.0</td>\n",
              "      <td>22.4</td>\n",
              "      <td>23.2</td>\n",
              "      <td>22.3</td>\n",
              "      <td>22.6</td>\n",
              "    </tr>\n",
              "    <tr>\n",
              "      <th>16</th>\n",
              "      <td>Iowa</td>\n",
              "      <td>67%</td>\n",
              "      <td>21.2</td>\n",
              "      <td>21.3</td>\n",
              "      <td>22.6</td>\n",
              "      <td>22.1</td>\n",
              "      <td>21.9</td>\n",
              "    </tr>\n",
              "    <tr>\n",
              "      <th>17</th>\n",
              "      <td>Kansas</td>\n",
              "      <td>73%</td>\n",
              "      <td>21.1</td>\n",
              "      <td>21.3</td>\n",
              "      <td>22.3</td>\n",
              "      <td>21.7</td>\n",
              "      <td>21.7</td>\n",
              "    </tr>\n",
              "    <tr>\n",
              "      <th>18</th>\n",
              "      <td>Kentucky</td>\n",
              "      <td>100%</td>\n",
              "      <td>19.6</td>\n",
              "      <td>19.4</td>\n",
              "      <td>20.5</td>\n",
              "      <td>20.1</td>\n",
              "      <td>20.0</td>\n",
              "    </tr>\n",
              "    <tr>\n",
              "      <th>19</th>\n",
              "      <td>Louisiana</td>\n",
              "      <td>100%</td>\n",
              "      <td>19.4</td>\n",
              "      <td>18.8</td>\n",
              "      <td>19.8</td>\n",
              "      <td>19.6</td>\n",
              "      <td>19.5</td>\n",
              "    </tr>\n",
              "    <tr>\n",
              "      <th>20</th>\n",
              "      <td>Maine</td>\n",
              "      <td>8%</td>\n",
              "      <td>24.2</td>\n",
              "      <td>24.0</td>\n",
              "      <td>24.8</td>\n",
              "      <td>23.7</td>\n",
              "      <td>24.3</td>\n",
              "    </tr>\n",
              "    <tr>\n",
              "      <th>21</th>\n",
              "      <td>Maryland</td>\n",
              "      <td>28%</td>\n",
              "      <td>23.3</td>\n",
              "      <td>23.1</td>\n",
              "      <td>24.2</td>\n",
              "      <td>2.3</td>\n",
              "      <td>23.6</td>\n",
              "    </tr>\n",
              "    <tr>\n",
              "      <th>22</th>\n",
              "      <td>Massachusetts</td>\n",
              "      <td>29%</td>\n",
              "      <td>25.4</td>\n",
              "      <td>25.3</td>\n",
              "      <td>25.9</td>\n",
              "      <td>24.7</td>\n",
              "      <td>25.4</td>\n",
              "    </tr>\n",
              "    <tr>\n",
              "      <th>23</th>\n",
              "      <td>Michigan</td>\n",
              "      <td>29%</td>\n",
              "      <td>24.1</td>\n",
              "      <td>23.7</td>\n",
              "      <td>24.5</td>\n",
              "      <td>23.8</td>\n",
              "      <td>24.1</td>\n",
              "    </tr>\n",
              "    <tr>\n",
              "      <th>24</th>\n",
              "      <td>Minnesota</td>\n",
              "      <td>100%</td>\n",
              "      <td>20.4</td>\n",
              "      <td>21.5</td>\n",
              "      <td>21.8</td>\n",
              "      <td>21.6</td>\n",
              "      <td>21.5</td>\n",
              "    </tr>\n",
              "    <tr>\n",
              "      <th>25</th>\n",
              "      <td>Mississippi</td>\n",
              "      <td>100%</td>\n",
              "      <td>18.2</td>\n",
              "      <td>18.1</td>\n",
              "      <td>18.8</td>\n",
              "      <td>18.8</td>\n",
              "      <td>18.6</td>\n",
              "    </tr>\n",
              "    <tr>\n",
              "      <th>26</th>\n",
              "      <td>Missouri</td>\n",
              "      <td>100%</td>\n",
              "      <td>19.8</td>\n",
              "      <td>19.9</td>\n",
              "      <td>20.8</td>\n",
              "      <td>20.5</td>\n",
              "      <td>20.4</td>\n",
              "    </tr>\n",
              "    <tr>\n",
              "      <th>27</th>\n",
              "      <td>Montana</td>\n",
              "      <td>100%</td>\n",
              "      <td>19.0</td>\n",
              "      <td>20.2</td>\n",
              "      <td>21.0</td>\n",
              "      <td>20.5</td>\n",
              "      <td>20.3</td>\n",
              "    </tr>\n",
              "    <tr>\n",
              "      <th>28</th>\n",
              "      <td>Nebraska</td>\n",
              "      <td>84%</td>\n",
              "      <td>20.9</td>\n",
              "      <td>20.9</td>\n",
              "      <td>21.9</td>\n",
              "      <td>21.5</td>\n",
              "      <td>21.4</td>\n",
              "    </tr>\n",
              "    <tr>\n",
              "      <th>29</th>\n",
              "      <td>Nevada</td>\n",
              "      <td>100%</td>\n",
              "      <td>16.3</td>\n",
              "      <td>18.0</td>\n",
              "      <td>18.1</td>\n",
              "      <td>18.2</td>\n",
              "      <td>17.8</td>\n",
              "    </tr>\n",
              "    <tr>\n",
              "      <th>30</th>\n",
              "      <td>New Hampshire</td>\n",
              "      <td>18%</td>\n",
              "      <td>25.4</td>\n",
              "      <td>25.1</td>\n",
              "      <td>26.0</td>\n",
              "      <td>24.9</td>\n",
              "      <td>25.5</td>\n",
              "    </tr>\n",
              "    <tr>\n",
              "      <th>31</th>\n",
              "      <td>New Jersey</td>\n",
              "      <td>34%</td>\n",
              "      <td>23.8</td>\n",
              "      <td>23.8</td>\n",
              "      <td>24.1</td>\n",
              "      <td>23.2</td>\n",
              "      <td>23.9</td>\n",
              "    </tr>\n",
              "    <tr>\n",
              "      <th>32</th>\n",
              "      <td>New Mexico</td>\n",
              "      <td>66%</td>\n",
              "      <td>18.6</td>\n",
              "      <td>19.4</td>\n",
              "      <td>20.4</td>\n",
              "      <td>20.0</td>\n",
              "      <td>19.7</td>\n",
              "    </tr>\n",
              "    <tr>\n",
              "      <th>33</th>\n",
              "      <td>New York</td>\n",
              "      <td>31%</td>\n",
              "      <td>23.8</td>\n",
              "      <td>24.0</td>\n",
              "      <td>24.6</td>\n",
              "      <td>23.9</td>\n",
              "      <td>24.2</td>\n",
              "    </tr>\n",
              "    <tr>\n",
              "      <th>34</th>\n",
              "      <td>North Carolina</td>\n",
              "      <td>100%</td>\n",
              "      <td>17.8</td>\n",
              "      <td>19.3</td>\n",
              "      <td>19.6</td>\n",
              "      <td>19.3</td>\n",
              "      <td>19.1</td>\n",
              "    </tr>\n",
              "    <tr>\n",
              "      <th>35</th>\n",
              "      <td>North Dakota</td>\n",
              "      <td>98%</td>\n",
              "      <td>19.0</td>\n",
              "      <td>20.4</td>\n",
              "      <td>20.5</td>\n",
              "      <td>20.6</td>\n",
              "      <td>20.3</td>\n",
              "    </tr>\n",
              "    <tr>\n",
              "      <th>36</th>\n",
              "      <td>Ohio</td>\n",
              "      <td>75%</td>\n",
              "      <td>21.2</td>\n",
              "      <td>21.6</td>\n",
              "      <td>22.5</td>\n",
              "      <td>22.0</td>\n",
              "      <td>22.0</td>\n",
              "    </tr>\n",
              "    <tr>\n",
              "      <th>37</th>\n",
              "      <td>Oklahoma</td>\n",
              "      <td>100%</td>\n",
              "      <td>18.5</td>\n",
              "      <td>18.8</td>\n",
              "      <td>20.1</td>\n",
              "      <td>19.6</td>\n",
              "      <td>19.4</td>\n",
              "    </tr>\n",
              "    <tr>\n",
              "      <th>38</th>\n",
              "      <td>Oregon</td>\n",
              "      <td>40%</td>\n",
              "      <td>21.2</td>\n",
              "      <td>21.5</td>\n",
              "      <td>22.4</td>\n",
              "      <td>21.7</td>\n",
              "      <td>21.8</td>\n",
              "    </tr>\n",
              "    <tr>\n",
              "      <th>39</th>\n",
              "      <td>Pennsylvania</td>\n",
              "      <td>23%</td>\n",
              "      <td>23.4</td>\n",
              "      <td>23.4</td>\n",
              "      <td>24.2</td>\n",
              "      <td>23.3</td>\n",
              "      <td>23.7</td>\n",
              "    </tr>\n",
              "    <tr>\n",
              "      <th>40</th>\n",
              "      <td>Rhode Island</td>\n",
              "      <td>21%</td>\n",
              "      <td>24.0</td>\n",
              "      <td>23.3</td>\n",
              "      <td>24.7</td>\n",
              "      <td>23.4</td>\n",
              "      <td>24.0</td>\n",
              "    </tr>\n",
              "    <tr>\n",
              "      <th>41</th>\n",
              "      <td>South Carolina</td>\n",
              "      <td>100%</td>\n",
              "      <td>17.5</td>\n",
              "      <td>18.6</td>\n",
              "      <td>19.1</td>\n",
              "      <td>18.9</td>\n",
              "      <td>18.7</td>\n",
              "    </tr>\n",
              "    <tr>\n",
              "      <th>42</th>\n",
              "      <td>South Dakota</td>\n",
              "      <td>80%</td>\n",
              "      <td>20.7</td>\n",
              "      <td>21.5</td>\n",
              "      <td>22.3</td>\n",
              "      <td>22.0</td>\n",
              "      <td>21.8</td>\n",
              "    </tr>\n",
              "    <tr>\n",
              "      <th>43</th>\n",
              "      <td>Tennessee</td>\n",
              "      <td>100%</td>\n",
              "      <td>19.5</td>\n",
              "      <td>19.2</td>\n",
              "      <td>20.1</td>\n",
              "      <td>19.9</td>\n",
              "      <td>19.8</td>\n",
              "    </tr>\n",
              "    <tr>\n",
              "      <th>44</th>\n",
              "      <td>Texas</td>\n",
              "      <td>45%</td>\n",
              "      <td>19.5</td>\n",
              "      <td>20.7</td>\n",
              "      <td>21.1</td>\n",
              "      <td>20.9</td>\n",
              "      <td>20.7</td>\n",
              "    </tr>\n",
              "    <tr>\n",
              "      <th>45</th>\n",
              "      <td>Utah</td>\n",
              "      <td>100%</td>\n",
              "      <td>19.5</td>\n",
              "      <td>19.9</td>\n",
              "      <td>20.8</td>\n",
              "      <td>20.6</td>\n",
              "      <td>20.3</td>\n",
              "    </tr>\n",
              "    <tr>\n",
              "      <th>46</th>\n",
              "      <td>Vermont</td>\n",
              "      <td>29%</td>\n",
              "      <td>23.3</td>\n",
              "      <td>23.1</td>\n",
              "      <td>24.4</td>\n",
              "      <td>23.2</td>\n",
              "      <td>23.6</td>\n",
              "    </tr>\n",
              "    <tr>\n",
              "      <th>47</th>\n",
              "      <td>Virginia</td>\n",
              "      <td>29%</td>\n",
              "      <td>23.5</td>\n",
              "      <td>23.3</td>\n",
              "      <td>24.6</td>\n",
              "      <td>23.5</td>\n",
              "      <td>23.8</td>\n",
              "    </tr>\n",
              "    <tr>\n",
              "      <th>48</th>\n",
              "      <td>Washington</td>\n",
              "      <td>29%</td>\n",
              "      <td>20.9</td>\n",
              "      <td>21.9</td>\n",
              "      <td>22.1</td>\n",
              "      <td>22.0</td>\n",
              "      <td>21.9</td>\n",
              "    </tr>\n",
              "    <tr>\n",
              "      <th>49</th>\n",
              "      <td>West Virginia</td>\n",
              "      <td>69%</td>\n",
              "      <td>20.0</td>\n",
              "      <td>19.4</td>\n",
              "      <td>21.2</td>\n",
              "      <td>20.5</td>\n",
              "      <td>20.4</td>\n",
              "    </tr>\n",
              "    <tr>\n",
              "      <th>50</th>\n",
              "      <td>Wisconsin</td>\n",
              "      <td>100%</td>\n",
              "      <td>19.7</td>\n",
              "      <td>20.4</td>\n",
              "      <td>20.6</td>\n",
              "      <td>20.9</td>\n",
              "      <td>20.5</td>\n",
              "    </tr>\n",
              "    <tr>\n",
              "      <th>51</th>\n",
              "      <td>Wyoming</td>\n",
              "      <td>100%</td>\n",
              "      <td>19.4</td>\n",
              "      <td>19.8</td>\n",
              "      <td>20.8</td>\n",
              "      <td>20.6</td>\n",
              "      <td>20.2</td>\n",
              "    </tr>\n",
              "  </tbody>\n",
              "</table>\n",
              "</div>"
            ],
            "text/plain": [
              "                   State Participation  English  Math  Reading  Science  \\\n",
              "0               National           60%     20.3  20.7     21.4     21.0   \n",
              "1                Alabama          100%     18.9  18.4     19.7     19.4   \n",
              "2                 Alaska           65%     18.7  19.8     20.4     19.9   \n",
              "3                Arizona           62%     18.6  19.8     20.1     19.8   \n",
              "4               Arkansas          100%     18.9  19.0     19.7     19.5   \n",
              "5             California           31%     22.5  22.7     23.1     22.2   \n",
              "6               Colorado          100%     20.1  20.3     21.2     20.9   \n",
              "7            Connecticut           31%     25.5  24.6     25.6     24.6   \n",
              "8               Delaware           18%     24.1  23.4     24.8     23.6   \n",
              "9   District of Columbia           32%     24.4  23.5     24.9     23.5   \n",
              "10               Florida           73%     19.0  19.4     21.0     19.4   \n",
              "11               Georgia           55%     21.0  20.9     22.0     21.3   \n",
              "12                Hawaii           90%     17.8  19.2     19.2     19.3   \n",
              "13                 Idaho           38%     21.9  21.8     23.0     22.1   \n",
              "14              Illinois           93%     21.0  21.2     21.6     21.3   \n",
              "15               Indiana           35%     22.0  22.4     23.2     22.3   \n",
              "16                  Iowa           67%     21.2  21.3     22.6     22.1   \n",
              "17                Kansas           73%     21.1  21.3     22.3     21.7   \n",
              "18              Kentucky          100%     19.6  19.4     20.5     20.1   \n",
              "19             Louisiana          100%     19.4  18.8     19.8     19.6   \n",
              "20                 Maine            8%     24.2  24.0     24.8     23.7   \n",
              "21              Maryland           28%     23.3  23.1     24.2      2.3   \n",
              "22         Massachusetts           29%     25.4  25.3     25.9     24.7   \n",
              "23              Michigan           29%     24.1  23.7     24.5     23.8   \n",
              "24             Minnesota          100%     20.4  21.5     21.8     21.6   \n",
              "25           Mississippi          100%     18.2  18.1     18.8     18.8   \n",
              "26              Missouri          100%     19.8  19.9     20.8     20.5   \n",
              "27               Montana          100%     19.0  20.2     21.0     20.5   \n",
              "28              Nebraska           84%     20.9  20.9     21.9     21.5   \n",
              "29                Nevada          100%     16.3  18.0     18.1     18.2   \n",
              "30         New Hampshire           18%     25.4  25.1     26.0     24.9   \n",
              "31            New Jersey           34%     23.8  23.8     24.1     23.2   \n",
              "32            New Mexico           66%     18.6  19.4     20.4     20.0   \n",
              "33              New York           31%     23.8  24.0     24.6     23.9   \n",
              "34        North Carolina          100%     17.8  19.3     19.6     19.3   \n",
              "35          North Dakota           98%     19.0  20.4     20.5     20.6   \n",
              "36                  Ohio           75%     21.2  21.6     22.5     22.0   \n",
              "37              Oklahoma          100%     18.5  18.8     20.1     19.6   \n",
              "38                Oregon           40%     21.2  21.5     22.4     21.7   \n",
              "39          Pennsylvania           23%     23.4  23.4     24.2     23.3   \n",
              "40          Rhode Island           21%     24.0  23.3     24.7     23.4   \n",
              "41        South Carolina          100%     17.5  18.6     19.1     18.9   \n",
              "42          South Dakota           80%     20.7  21.5     22.3     22.0   \n",
              "43             Tennessee          100%     19.5  19.2     20.1     19.9   \n",
              "44                 Texas           45%     19.5  20.7     21.1     20.9   \n",
              "45                  Utah          100%     19.5  19.9     20.8     20.6   \n",
              "46               Vermont           29%     23.3  23.1     24.4     23.2   \n",
              "47              Virginia           29%     23.5  23.3     24.6     23.5   \n",
              "48            Washington           29%     20.9  21.9     22.1     22.0   \n",
              "49         West Virginia           69%     20.0  19.4     21.2     20.5   \n",
              "50             Wisconsin          100%     19.7  20.4     20.6     20.9   \n",
              "51               Wyoming          100%     19.4  19.8     20.8     20.6   \n",
              "\n",
              "    Composite  \n",
              "0        21.0  \n",
              "1        19.2  \n",
              "2        19.8  \n",
              "3        19.7  \n",
              "4        19.4  \n",
              "5        22.8  \n",
              "6        20.8  \n",
              "7        25.2  \n",
              "8        24.1  \n",
              "9        24.2  \n",
              "10       19.8  \n",
              "11       21.4  \n",
              "12       19.0  \n",
              "13       22.3  \n",
              "14       21.4  \n",
              "15       22.6  \n",
              "16       21.9  \n",
              "17       21.7  \n",
              "18       20.0  \n",
              "19       19.5  \n",
              "20       24.3  \n",
              "21       23.6  \n",
              "22       25.4  \n",
              "23       24.1  \n",
              "24       21.5  \n",
              "25       18.6  \n",
              "26       20.4  \n",
              "27       20.3  \n",
              "28       21.4  \n",
              "29       17.8  \n",
              "30       25.5  \n",
              "31       23.9  \n",
              "32       19.7  \n",
              "33       24.2  \n",
              "34       19.1  \n",
              "35       20.3  \n",
              "36       22.0  \n",
              "37       19.4  \n",
              "38       21.8  \n",
              "39       23.7  \n",
              "40       24.0  \n",
              "41       18.7  \n",
              "42       21.8  \n",
              "43       19.8  \n",
              "44       20.7  \n",
              "45       20.3  \n",
              "46       23.6  \n",
              "47       23.8  \n",
              "48       21.9  \n",
              "49       20.4  \n",
              "50       20.5  \n",
              "51       20.2  "
            ]
          },
          "metadata": {},
          "execution_count": 18
        }
      ],
      "metadata": {
        "id": "PWlukLKUvFQN"
      }
    },
    {
      "cell_type": "code",
      "execution_count": 21,
      "source": [
        "# Identifying the Missing Data\r\n",
        "#\r\n",
        "\r\n",
        "newdf.isnull().sum()"
      ],
      "outputs": [
        {
          "output_type": "execute_result",
          "data": {
            "text/plain": [
              "State            0\n",
              "Participation    0\n",
              "English          0\n",
              "Math             0\n",
              "Reading          0\n",
              "Science          0\n",
              "Composite        0\n",
              "dtype: int64"
            ]
          },
          "metadata": {},
          "execution_count": 21
        }
      ],
      "metadata": {
        "id": "PvCYb6dgW4yh"
      }
    },
    {
      "cell_type": "code",
      "execution_count": 22,
      "source": [
        "# Dealing with the Missing Data\r\n",
        "#\r\n",
        "\r\n",
        "newdf.duplicated().sum()"
      ],
      "outputs": [
        {
          "output_type": "execute_result",
          "data": {
            "text/plain": [
              "0"
            ]
          },
          "metadata": {},
          "execution_count": 22
        }
      ],
      "metadata": {
        "id": "MpsDGKZHsf_W"
      }
    },
    {
      "cell_type": "code",
      "execution_count": null,
      "source": [
        "# More data cleaning procedures\r\n",
        "#\r\n",
        "\r\n"
      ],
      "outputs": [],
      "metadata": {
        "id": "D-4I__6Os4C5"
      }
    },
    {
      "cell_type": "markdown",
      "source": [
        "## 6. Exploratory Analysis"
      ],
      "metadata": {
        "id": "rF2ABPsHUtbZ"
      }
    },
    {
      "cell_type": "code",
      "execution_count": 24,
      "source": [
        "# Ploting the univariate summaries and recording our observations\r\n",
        "#\r\n",
        "\r\n",
        "def plot(data, col):\r\n",
        "    fig = plt.hist(data[col], bins= 5, histtype='bar', rwidth=0.9)\r\n",
        "    return fig\r\n",
        "\r\n",
        "columnames = ['English', 'Math', 'Reading', 'Reading', 'Composite']\r\n",
        "for i in columnames:\r\n",
        "    plot(newdf, i)"
      ],
      "outputs": [
        {
          "output_type": "display_data",
          "data": {
            "image/png": "[encoded data removed]",
            "text/plain": [
              "<Figure size 432x288 with 1 Axes>"
            ]
          },
          "metadata": {
            "needs_background": "light"
          }
        }
      ],
      "metadata": {
        "id": "5nnRToniXGDK"
      }
    },
    {
      "cell_type": "code",
      "execution_count": 31,
      "source": [
        "data_mean = newdf[['English', 'Math', 'Reading', 'Science', 'Composite']].mean()\r\n",
        "print(data_mean)\r\n",
        "labels = ['English', 'Math', 'Reading', 'Science', 'Composite']\r\n",
        "explode = (0.1, 0, 0, 0, 0)  \r\n",
        "color = ['gold', 'green', 'blue', 'red', 'grey']\r\n",
        "\r\n",
        "plt.pie(data_mean, explode=explode, labels = labels, colors=color, autopct = '%1.1f%%', shadow = True, startangle = 140)\r\n",
        "\r\n",
        "\r\n",
        "plt.axis('equal')\r\n",
        "plt.title('Overal Subject Perfomance')\r\n",
        "plt.show()"
      ],
      "outputs": [
        {
          "output_type": "stream",
          "name": "stdout",
          "text": [
            "English      20.919231\n",
            "Math         21.173077\n",
            "Reading      22.001923\n",
            "Science      21.040385\n",
            "Composite    21.509615\n",
            "dtype: float64\n"
          ]
        },
        {
          "output_type": "display_data",
          "data": {
            "image/png": "[encoded data removed]",
            "text/plain": [
              "<Figure size 432x288 with 1 Axes>"
            ]
          },
          "metadata": {}
        }
      ],
      "metadata": {}
    },
    {
      "cell_type": "markdown",
      "source": [
        "## 7. Implementing the Solution"
      ],
      "metadata": {
        "id": "vTbdjSrhVIiT"
      }
    },
    {
      "cell_type": "code",
      "execution_count": 34,
      "source": [
        "# Implementing the Solution\r\n",
        "# \r\n",
        "#Which subject performed best during the 2017 ACT test?\r\n",
        "\r\n",
        "data_mean = newdf[['English', 'Math', 'Reading', 'Science', 'Composite']].mean()\r\n",
        "data_mean.sort_values(ascending= False)"
      ],
      "outputs": [
        {
          "output_type": "execute_result",
          "data": {
            "text/plain": [
              "Reading      22.001923\n",
              "Composite    21.509615\n",
              "Math         21.173077\n",
              "Science      21.040385\n",
              "English      20.919231\n",
              "dtype: float64"
            ]
          },
          "metadata": {},
          "execution_count": 34
        }
      ],
      "metadata": {
        "id": "PJLZaRzJXJ3w"
      }
    },
    {
      "cell_type": "markdown",
      "source": [
        "## 8. Challenging the solution"
      ],
      "metadata": {
        "id": "lQ2G4ZPDVOXE"
      }
    },
    {
      "cell_type": "markdown",
      "source": [
        "> The easy solution is nice because it is, well, easy, but you should never allow those results to hold the day. You should always be thinking of ways to challenge the results, especially if those results comport with your prior expectation.\n",
        "\n",
        "\n",
        "\n",
        "\n"
      ],
      "metadata": {
        "id": "jWVGKGuiYMWg"
      }
    },
    {
      "cell_type": "code",
      "execution_count": null,
      "source": [
        "# Reviewing the Solution \r\n",
        "#"
      ],
      "outputs": [],
      "metadata": {
        "id": "j3x3SXZ4XT_L"
      }
    },
    {
      "cell_type": "markdown",
      "source": [
        "## 9. Follow up questions"
      ],
      "metadata": {
        "id": "xrmHVMVsVS--"
      }
    },
    {
      "cell_type": "markdown",
      "source": [
        "> At this point, we can refine our question or collect new data, all in an iterative process to get at the truth.\n",
        "\n"
      ],
      "metadata": {
        "id": "pth2qSWhuBIy"
      }
    },
    {
      "cell_type": "markdown",
      "source": [
        "### a). Did we have the right data?"
      ],
      "metadata": {
        "id": "HPQviDmNtta8"
      }
    },
    {
      "cell_type": "markdown",
      "source": [
        "### b). Do we need other data to answer our question?"
      ],
      "metadata": {
        "id": "qjFHK1CKty7o"
      }
    },
    {
      "cell_type": "markdown",
      "source": [
        "### c). Did we have the right question?"
      ],
      "metadata": {
        "id": "HSsicSdvt4Zs"
      }
    }
  ]
}